{
  "nbformat": 4,
  "nbformat_minor": 0,
  "metadata": {
    "colab": {
      "name": "MIMIC_Project_ML.ipynb",
      "provenance": [],
      "collapsed_sections": []
    },
    "kernelspec": {
      "name": "python3",
      "display_name": "Python 3"
    }
  },
  "cells": [
    {
      "cell_type": "code",
      "metadata": {
        "id": "mjLunfIgVLOF",
        "colab": {
          "base_uri": "https://localhost:8080/",
          "height": 51
        },
        "outputId": "6bdcadc4-f3fe-42d7-cbdb-6a6f5388a3df"
      },
      "source": [
        "import numpy as np\n",
        "import pandas as pd\n",
        "import matplotlib.pyplot as plt\n",
        "%matplotlib inline\n",
        "import seaborn as sns\n",
        "import re\n",
        "import nltk\n",
        "nltk.download('stopwords')\n",
        "from nltk.corpus import stopwords\n",
        "from nltk.stem.snowball import SnowballStemmer\n",
        "from sklearn.model_selection import train_test_split\n",
        "from sklearn.feature_extraction.text import CountVectorizer\n",
        "from sklearn.naive_bayes import GaussianNB\n",
        "from sklearn.ensemble import GradientBoostingClassifier, RandomForestClassifier\n",
        "from sklearn.linear_model import LogisticRegression\n",
        "from sklearn.metrics import confusion_matrix, accuracy_score, roc_curve, auc\n",
        "from sklearn.preprocessing import MinMaxScaler"
      ],
      "execution_count": null,
      "outputs": [
        {
          "output_type": "stream",
          "text": [
            "[nltk_data] Downloading package stopwords to /root/nltk_data...\n",
            "[nltk_data]   Package stopwords is already up-to-date!\n"
          ],
          "name": "stdout"
        }
      ]
    },
    {
      "cell_type": "code",
      "metadata": {
        "id": "ROO5FKJltcdf",
        "colab": {
          "base_uri": "https://localhost:8080/",
          "height": 34
        },
        "outputId": "15ea6393-e44a-4e4e-9d2f-01286df8ebbe"
      },
      "source": [
        "from google.colab import drive\n",
        "drive.mount('/content/drive')"
      ],
      "execution_count": null,
      "outputs": [
        {
          "output_type": "stream",
          "text": [
            "Drive already mounted at /content/drive; to attempt to forcibly remount, call drive.mount(\"/content/drive\", force_remount=True).\n"
          ],
          "name": "stdout"
        }
      ]
    },
    {
      "cell_type": "markdown",
      "metadata": {
        "id": "V7FmHq434Vyx"
      },
      "source": [
        "### EDA: admissions data from mimic-3"
      ]
    },
    {
      "cell_type": "code",
      "metadata": {
        "id": "1pnVe1p_Va7T",
        "colab": {
          "base_uri": "https://localhost:8080/",
          "height": 343
        },
        "outputId": "9abfb5db-c20c-4c19-e2e2-b94668ef881b"
      },
      "source": [
        "df = pd.read_csv('/content/drive/My Drive/Colab Notebooks/619_nlp/MIMIC-III/ADMISSIONS.csv', parse_dates = ['ADMITTIME', 'DISCHTIME','DEATHTIME'], infer_datetime_format = True, engine = \"c\")\n",
        "df.head()"
      ],
      "execution_count": null,
      "outputs": [
        {
          "output_type": "execute_result",
          "data": {
            "text/html": [
              "<div>\n",
              "<style scoped>\n",
              "    .dataframe tbody tr th:only-of-type {\n",
              "        vertical-align: middle;\n",
              "    }\n",
              "\n",
              "    .dataframe tbody tr th {\n",
              "        vertical-align: top;\n",
              "    }\n",
              "\n",
              "    .dataframe thead th {\n",
              "        text-align: right;\n",
              "    }\n",
              "</style>\n",
              "<table border=\"1\" class=\"dataframe\">\n",
              "  <thead>\n",
              "    <tr style=\"text-align: right;\">\n",
              "      <th></th>\n",
              "      <th>ROW_ID</th>\n",
              "      <th>SUBJECT_ID</th>\n",
              "      <th>HADM_ID</th>\n",
              "      <th>ADMITTIME</th>\n",
              "      <th>DISCHTIME</th>\n",
              "      <th>DEATHTIME</th>\n",
              "      <th>ADMISSION_TYPE</th>\n",
              "      <th>ADMISSION_LOCATION</th>\n",
              "      <th>DISCHARGE_LOCATION</th>\n",
              "      <th>INSURANCE</th>\n",
              "      <th>LANGUAGE</th>\n",
              "      <th>RELIGION</th>\n",
              "      <th>MARITAL_STATUS</th>\n",
              "      <th>ETHNICITY</th>\n",
              "      <th>EDREGTIME</th>\n",
              "      <th>EDOUTTIME</th>\n",
              "      <th>DIAGNOSIS</th>\n",
              "      <th>HOSPITAL_EXPIRE_FLAG</th>\n",
              "      <th>HAS_CHARTEVENTS_DATA</th>\n",
              "    </tr>\n",
              "  </thead>\n",
              "  <tbody>\n",
              "    <tr>\n",
              "      <th>0</th>\n",
              "      <td>21</td>\n",
              "      <td>22</td>\n",
              "      <td>165315</td>\n",
              "      <td>2196-04-09 12:26:00</td>\n",
              "      <td>2196-04-10 15:54:00</td>\n",
              "      <td>NaT</td>\n",
              "      <td>EMERGENCY</td>\n",
              "      <td>EMERGENCY ROOM ADMIT</td>\n",
              "      <td>DISC-TRAN CANCER/CHLDRN H</td>\n",
              "      <td>Private</td>\n",
              "      <td>NaN</td>\n",
              "      <td>UNOBTAINABLE</td>\n",
              "      <td>MARRIED</td>\n",
              "      <td>WHITE</td>\n",
              "      <td>2196-04-09 10:06:00</td>\n",
              "      <td>2196-04-09 13:24:00</td>\n",
              "      <td>BENZODIAZEPINE OVERDOSE</td>\n",
              "      <td>0</td>\n",
              "      <td>1</td>\n",
              "    </tr>\n",
              "    <tr>\n",
              "      <th>1</th>\n",
              "      <td>22</td>\n",
              "      <td>23</td>\n",
              "      <td>152223</td>\n",
              "      <td>2153-09-03 07:15:00</td>\n",
              "      <td>2153-09-08 19:10:00</td>\n",
              "      <td>NaT</td>\n",
              "      <td>ELECTIVE</td>\n",
              "      <td>PHYS REFERRAL/NORMAL DELI</td>\n",
              "      <td>HOME HEALTH CARE</td>\n",
              "      <td>Medicare</td>\n",
              "      <td>NaN</td>\n",
              "      <td>CATHOLIC</td>\n",
              "      <td>MARRIED</td>\n",
              "      <td>WHITE</td>\n",
              "      <td>NaN</td>\n",
              "      <td>NaN</td>\n",
              "      <td>CORONARY ARTERY DISEASE\\CORONARY ARTERY BYPASS...</td>\n",
              "      <td>0</td>\n",
              "      <td>1</td>\n",
              "    </tr>\n",
              "    <tr>\n",
              "      <th>2</th>\n",
              "      <td>23</td>\n",
              "      <td>23</td>\n",
              "      <td>124321</td>\n",
              "      <td>2157-10-18 19:34:00</td>\n",
              "      <td>2157-10-25 14:00:00</td>\n",
              "      <td>NaT</td>\n",
              "      <td>EMERGENCY</td>\n",
              "      <td>TRANSFER FROM HOSP/EXTRAM</td>\n",
              "      <td>HOME HEALTH CARE</td>\n",
              "      <td>Medicare</td>\n",
              "      <td>ENGL</td>\n",
              "      <td>CATHOLIC</td>\n",
              "      <td>MARRIED</td>\n",
              "      <td>WHITE</td>\n",
              "      <td>NaN</td>\n",
              "      <td>NaN</td>\n",
              "      <td>BRAIN MASS</td>\n",
              "      <td>0</td>\n",
              "      <td>1</td>\n",
              "    </tr>\n",
              "    <tr>\n",
              "      <th>3</th>\n",
              "      <td>24</td>\n",
              "      <td>24</td>\n",
              "      <td>161859</td>\n",
              "      <td>2139-06-06 16:14:00</td>\n",
              "      <td>2139-06-09 12:48:00</td>\n",
              "      <td>NaT</td>\n",
              "      <td>EMERGENCY</td>\n",
              "      <td>TRANSFER FROM HOSP/EXTRAM</td>\n",
              "      <td>HOME</td>\n",
              "      <td>Private</td>\n",
              "      <td>NaN</td>\n",
              "      <td>PROTESTANT QUAKER</td>\n",
              "      <td>SINGLE</td>\n",
              "      <td>WHITE</td>\n",
              "      <td>NaN</td>\n",
              "      <td>NaN</td>\n",
              "      <td>INTERIOR MYOCARDIAL INFARCTION</td>\n",
              "      <td>0</td>\n",
              "      <td>1</td>\n",
              "    </tr>\n",
              "    <tr>\n",
              "      <th>4</th>\n",
              "      <td>25</td>\n",
              "      <td>25</td>\n",
              "      <td>129635</td>\n",
              "      <td>2160-11-02 02:06:00</td>\n",
              "      <td>2160-11-05 14:55:00</td>\n",
              "      <td>NaT</td>\n",
              "      <td>EMERGENCY</td>\n",
              "      <td>EMERGENCY ROOM ADMIT</td>\n",
              "      <td>HOME</td>\n",
              "      <td>Private</td>\n",
              "      <td>NaN</td>\n",
              "      <td>UNOBTAINABLE</td>\n",
              "      <td>MARRIED</td>\n",
              "      <td>WHITE</td>\n",
              "      <td>2160-11-02 01:01:00</td>\n",
              "      <td>2160-11-02 04:27:00</td>\n",
              "      <td>ACUTE CORONARY SYNDROME</td>\n",
              "      <td>0</td>\n",
              "      <td>1</td>\n",
              "    </tr>\n",
              "  </tbody>\n",
              "</table>\n",
              "</div>"
            ],
            "text/plain": [
              "   ROW_ID  SUBJECT_ID  ...  HOSPITAL_EXPIRE_FLAG HAS_CHARTEVENTS_DATA\n",
              "0      21          22  ...                     0                    1\n",
              "1      22          23  ...                     0                    1\n",
              "2      23          23  ...                     0                    1\n",
              "3      24          24  ...                     0                    1\n",
              "4      25          25  ...                     0                    1\n",
              "\n",
              "[5 rows x 19 columns]"
            ]
          },
          "metadata": {
            "tags": []
          },
          "execution_count": 5
        }
      ]
    },
    {
      "cell_type": "code",
      "metadata": {
        "id": "rRb9G8oFXJxp",
        "colab": {
          "base_uri": "https://localhost:8080/",
          "height": 459
        },
        "outputId": "c4b5ce37-f161-4a52-8d70-cd13a38b0cfb"
      },
      "source": [
        "df.info()"
      ],
      "execution_count": null,
      "outputs": [
        {
          "output_type": "stream",
          "text": [
            "<class 'pandas.core.frame.DataFrame'>\n",
            "RangeIndex: 58976 entries, 0 to 58975\n",
            "Data columns (total 19 columns):\n",
            " #   Column                Non-Null Count  Dtype         \n",
            "---  ------                --------------  -----         \n",
            " 0   ROW_ID                58976 non-null  int64         \n",
            " 1   SUBJECT_ID            58976 non-null  int64         \n",
            " 2   HADM_ID               58976 non-null  int64         \n",
            " 3   ADMITTIME             58976 non-null  datetime64[ns]\n",
            " 4   DISCHTIME             58976 non-null  datetime64[ns]\n",
            " 5   DEATHTIME             5854 non-null   datetime64[ns]\n",
            " 6   ADMISSION_TYPE        58976 non-null  object        \n",
            " 7   ADMISSION_LOCATION    58976 non-null  object        \n",
            " 8   DISCHARGE_LOCATION    58976 non-null  object        \n",
            " 9   INSURANCE             58976 non-null  object        \n",
            " 10  LANGUAGE              33644 non-null  object        \n",
            " 11  RELIGION              58518 non-null  object        \n",
            " 12  MARITAL_STATUS        48848 non-null  object        \n",
            " 13  ETHNICITY             58976 non-null  object        \n",
            " 14  EDREGTIME             30877 non-null  object        \n",
            " 15  EDOUTTIME             30877 non-null  object        \n",
            " 16  DIAGNOSIS             58951 non-null  object        \n",
            " 17  HOSPITAL_EXPIRE_FLAG  58976 non-null  int64         \n",
            " 18  HAS_CHARTEVENTS_DATA  58976 non-null  int64         \n",
            "dtypes: datetime64[ns](3), int64(5), object(11)\n",
            "memory usage: 8.5+ MB\n"
          ],
          "name": "stdout"
        }
      ]
    },
    {
      "cell_type": "code",
      "metadata": {
        "id": "isJlLzApW6-I",
        "colab": {
          "base_uri": "https://localhost:8080/",
          "height": 357
        },
        "outputId": "c317e833-2552-4d23-a311-6cd41fec4bed"
      },
      "source": [
        "df.isna().sum()"
      ],
      "execution_count": null,
      "outputs": [
        {
          "output_type": "execute_result",
          "data": {
            "text/plain": [
              "ROW_ID                      0\n",
              "SUBJECT_ID                  0\n",
              "HADM_ID                     0\n",
              "ADMITTIME                   0\n",
              "DISCHTIME                   0\n",
              "DEATHTIME               53122\n",
              "ADMISSION_TYPE              0\n",
              "ADMISSION_LOCATION          0\n",
              "DISCHARGE_LOCATION          0\n",
              "INSURANCE                   0\n",
              "LANGUAGE                25332\n",
              "RELIGION                  458\n",
              "MARITAL_STATUS          10128\n",
              "ETHNICITY                   0\n",
              "EDREGTIME               28099\n",
              "EDOUTTIME               28099\n",
              "DIAGNOSIS                  25\n",
              "HOSPITAL_EXPIRE_FLAG        0\n",
              "HAS_CHARTEVENTS_DATA        0\n",
              "dtype: int64"
            ]
          },
          "metadata": {
            "tags": []
          },
          "execution_count": 7
        }
      ]
    },
    {
      "cell_type": "markdown",
      "metadata": {
        "id": "7I2rnwUG4Dyu"
      },
      "source": [
        "##### Creating a subset of df with only columns that are required:"
      ]
    },
    {
      "cell_type": "code",
      "metadata": {
        "id": "O8_aZb0ww_YB",
        "colab": {
          "base_uri": "https://localhost:8080/",
          "height": 238
        },
        "outputId": "11bde1c1-198c-4a13-fe53-d2cdcab23c89"
      },
      "source": [
        "adm = df[['SUBJECT_ID', 'HADM_ID', 'ADMITTIME', 'DISCHTIME','DEATHTIME', 'ADMISSION_TYPE']]\n",
        "adm.info()"
      ],
      "execution_count": null,
      "outputs": [
        {
          "output_type": "stream",
          "text": [
            "<class 'pandas.core.frame.DataFrame'>\n",
            "RangeIndex: 58976 entries, 0 to 58975\n",
            "Data columns (total 6 columns):\n",
            " #   Column          Non-Null Count  Dtype         \n",
            "---  ------          --------------  -----         \n",
            " 0   SUBJECT_ID      58976 non-null  int64         \n",
            " 1   HADM_ID         58976 non-null  int64         \n",
            " 2   ADMITTIME       58976 non-null  datetime64[ns]\n",
            " 3   DISCHTIME       58976 non-null  datetime64[ns]\n",
            " 4   DEATHTIME       5854 non-null   datetime64[ns]\n",
            " 5   ADMISSION_TYPE  58976 non-null  object        \n",
            "dtypes: datetime64[ns](3), int64(2), object(1)\n",
            "memory usage: 2.7+ MB\n"
          ],
          "name": "stdout"
        }
      ]
    },
    {
      "cell_type": "markdown",
      "metadata": {
        "id": "ufWwJUDXxNYd"
      },
      "source": [
        "The next step is to get the next unplanned admission date if it exists. In order to do this, we need to sort by SUBJECT_ID and ADMITTIME."
      ]
    },
    {
      "cell_type": "code",
      "metadata": {
        "id": "AQjvWjrOYgCi"
      },
      "source": [
        "adm = adm.sort_values(by=['SUBJECT_ID','ADMITTIME'])\n",
        "adm = adm.reset_index(drop = True)"
      ],
      "execution_count": null,
      "outputs": []
    },
    {
      "cell_type": "code",
      "metadata": {
        "id": "0Hk2CDFCcmM8",
        "colab": {
          "base_uri": "https://localhost:8080/",
          "height": 359
        },
        "outputId": "7b47b62a-6e03-4165-a532-9e0c7c680faf"
      },
      "source": [
        "adm.head(10)"
      ],
      "execution_count": null,
      "outputs": [
        {
          "output_type": "execute_result",
          "data": {
            "text/html": [
              "<div>\n",
              "<style scoped>\n",
              "    .dataframe tbody tr th:only-of-type {\n",
              "        vertical-align: middle;\n",
              "    }\n",
              "\n",
              "    .dataframe tbody tr th {\n",
              "        vertical-align: top;\n",
              "    }\n",
              "\n",
              "    .dataframe thead th {\n",
              "        text-align: right;\n",
              "    }\n",
              "</style>\n",
              "<table border=\"1\" class=\"dataframe\">\n",
              "  <thead>\n",
              "    <tr style=\"text-align: right;\">\n",
              "      <th></th>\n",
              "      <th>SUBJECT_ID</th>\n",
              "      <th>HADM_ID</th>\n",
              "      <th>ADMITTIME</th>\n",
              "      <th>DISCHTIME</th>\n",
              "      <th>DEATHTIME</th>\n",
              "      <th>ADMISSION_TYPE</th>\n",
              "    </tr>\n",
              "  </thead>\n",
              "  <tbody>\n",
              "    <tr>\n",
              "      <th>0</th>\n",
              "      <td>2</td>\n",
              "      <td>163353</td>\n",
              "      <td>2138-07-17 19:04:00</td>\n",
              "      <td>2138-07-21 15:48:00</td>\n",
              "      <td>NaT</td>\n",
              "      <td>NEWBORN</td>\n",
              "    </tr>\n",
              "    <tr>\n",
              "      <th>1</th>\n",
              "      <td>3</td>\n",
              "      <td>145834</td>\n",
              "      <td>2101-10-20 19:08:00</td>\n",
              "      <td>2101-10-31 13:58:00</td>\n",
              "      <td>NaT</td>\n",
              "      <td>EMERGENCY</td>\n",
              "    </tr>\n",
              "    <tr>\n",
              "      <th>2</th>\n",
              "      <td>4</td>\n",
              "      <td>185777</td>\n",
              "      <td>2191-03-16 00:28:00</td>\n",
              "      <td>2191-03-23 18:41:00</td>\n",
              "      <td>NaT</td>\n",
              "      <td>EMERGENCY</td>\n",
              "    </tr>\n",
              "    <tr>\n",
              "      <th>3</th>\n",
              "      <td>5</td>\n",
              "      <td>178980</td>\n",
              "      <td>2103-02-02 04:31:00</td>\n",
              "      <td>2103-02-04 12:15:00</td>\n",
              "      <td>NaT</td>\n",
              "      <td>NEWBORN</td>\n",
              "    </tr>\n",
              "    <tr>\n",
              "      <th>4</th>\n",
              "      <td>6</td>\n",
              "      <td>107064</td>\n",
              "      <td>2175-05-30 07:15:00</td>\n",
              "      <td>2175-06-15 16:00:00</td>\n",
              "      <td>NaT</td>\n",
              "      <td>ELECTIVE</td>\n",
              "    </tr>\n",
              "    <tr>\n",
              "      <th>5</th>\n",
              "      <td>7</td>\n",
              "      <td>118037</td>\n",
              "      <td>2121-05-23 15:05:00</td>\n",
              "      <td>2121-05-27 11:57:00</td>\n",
              "      <td>NaT</td>\n",
              "      <td>NEWBORN</td>\n",
              "    </tr>\n",
              "    <tr>\n",
              "      <th>6</th>\n",
              "      <td>8</td>\n",
              "      <td>159514</td>\n",
              "      <td>2117-11-20 10:22:00</td>\n",
              "      <td>2117-11-24 14:20:00</td>\n",
              "      <td>NaT</td>\n",
              "      <td>NEWBORN</td>\n",
              "    </tr>\n",
              "    <tr>\n",
              "      <th>7</th>\n",
              "      <td>9</td>\n",
              "      <td>150750</td>\n",
              "      <td>2149-11-09 13:06:00</td>\n",
              "      <td>2149-11-14 10:15:00</td>\n",
              "      <td>2149-11-14 10:15:00</td>\n",
              "      <td>EMERGENCY</td>\n",
              "    </tr>\n",
              "    <tr>\n",
              "      <th>8</th>\n",
              "      <td>10</td>\n",
              "      <td>184167</td>\n",
              "      <td>2103-06-28 11:36:00</td>\n",
              "      <td>2103-07-06 12:10:00</td>\n",
              "      <td>NaT</td>\n",
              "      <td>NEWBORN</td>\n",
              "    </tr>\n",
              "    <tr>\n",
              "      <th>9</th>\n",
              "      <td>11</td>\n",
              "      <td>194540</td>\n",
              "      <td>2178-04-16 06:18:00</td>\n",
              "      <td>2178-05-11 19:00:00</td>\n",
              "      <td>NaT</td>\n",
              "      <td>EMERGENCY</td>\n",
              "    </tr>\n",
              "  </tbody>\n",
              "</table>\n",
              "</div>"
            ],
            "text/plain": [
              "   SUBJECT_ID  HADM_ID  ...           DEATHTIME ADMISSION_TYPE\n",
              "0           2   163353  ...                 NaT        NEWBORN\n",
              "1           3   145834  ...                 NaT      EMERGENCY\n",
              "2           4   185777  ...                 NaT      EMERGENCY\n",
              "3           5   178980  ...                 NaT        NEWBORN\n",
              "4           6   107064  ...                 NaT       ELECTIVE\n",
              "5           7   118037  ...                 NaT        NEWBORN\n",
              "6           8   159514  ...                 NaT        NEWBORN\n",
              "7           9   150750  ... 2149-11-14 10:15:00      EMERGENCY\n",
              "8          10   184167  ...                 NaT        NEWBORN\n",
              "9          11   194540  ...                 NaT      EMERGENCY\n",
              "\n",
              "[10 rows x 6 columns]"
            ]
          },
          "metadata": {
            "tags": []
          },
          "execution_count": 10
        }
      ]
    },
    {
      "cell_type": "code",
      "metadata": {
        "id": "ojWz_tEHc0GA"
      },
      "source": [
        "adm['NEXT_ADMITTIME'] = adm.groupby('SUBJECT_ID').ADMITTIME.shift(-1)"
      ],
      "execution_count": null,
      "outputs": []
    },
    {
      "cell_type": "code",
      "metadata": {
        "id": "Itbqd4ZOxw3O",
        "colab": {
          "base_uri": "https://localhost:8080/",
          "height": 204
        },
        "outputId": "32303bb3-7980-4801-9995-8e579b07bfce"
      },
      "source": [
        "adm.head()"
      ],
      "execution_count": null,
      "outputs": [
        {
          "output_type": "execute_result",
          "data": {
            "text/html": [
              "<div>\n",
              "<style scoped>\n",
              "    .dataframe tbody tr th:only-of-type {\n",
              "        vertical-align: middle;\n",
              "    }\n",
              "\n",
              "    .dataframe tbody tr th {\n",
              "        vertical-align: top;\n",
              "    }\n",
              "\n",
              "    .dataframe thead th {\n",
              "        text-align: right;\n",
              "    }\n",
              "</style>\n",
              "<table border=\"1\" class=\"dataframe\">\n",
              "  <thead>\n",
              "    <tr style=\"text-align: right;\">\n",
              "      <th></th>\n",
              "      <th>SUBJECT_ID</th>\n",
              "      <th>HADM_ID</th>\n",
              "      <th>ADMITTIME</th>\n",
              "      <th>DISCHTIME</th>\n",
              "      <th>DEATHTIME</th>\n",
              "      <th>ADMISSION_TYPE</th>\n",
              "      <th>NEXT_ADMITTIME</th>\n",
              "    </tr>\n",
              "  </thead>\n",
              "  <tbody>\n",
              "    <tr>\n",
              "      <th>0</th>\n",
              "      <td>2</td>\n",
              "      <td>163353</td>\n",
              "      <td>2138-07-17 19:04:00</td>\n",
              "      <td>2138-07-21 15:48:00</td>\n",
              "      <td>NaT</td>\n",
              "      <td>NEWBORN</td>\n",
              "      <td>NaT</td>\n",
              "    </tr>\n",
              "    <tr>\n",
              "      <th>1</th>\n",
              "      <td>3</td>\n",
              "      <td>145834</td>\n",
              "      <td>2101-10-20 19:08:00</td>\n",
              "      <td>2101-10-31 13:58:00</td>\n",
              "      <td>NaT</td>\n",
              "      <td>EMERGENCY</td>\n",
              "      <td>NaT</td>\n",
              "    </tr>\n",
              "    <tr>\n",
              "      <th>2</th>\n",
              "      <td>4</td>\n",
              "      <td>185777</td>\n",
              "      <td>2191-03-16 00:28:00</td>\n",
              "      <td>2191-03-23 18:41:00</td>\n",
              "      <td>NaT</td>\n",
              "      <td>EMERGENCY</td>\n",
              "      <td>NaT</td>\n",
              "    </tr>\n",
              "    <tr>\n",
              "      <th>3</th>\n",
              "      <td>5</td>\n",
              "      <td>178980</td>\n",
              "      <td>2103-02-02 04:31:00</td>\n",
              "      <td>2103-02-04 12:15:00</td>\n",
              "      <td>NaT</td>\n",
              "      <td>NEWBORN</td>\n",
              "      <td>NaT</td>\n",
              "    </tr>\n",
              "    <tr>\n",
              "      <th>4</th>\n",
              "      <td>6</td>\n",
              "      <td>107064</td>\n",
              "      <td>2175-05-30 07:15:00</td>\n",
              "      <td>2175-06-15 16:00:00</td>\n",
              "      <td>NaT</td>\n",
              "      <td>ELECTIVE</td>\n",
              "      <td>NaT</td>\n",
              "    </tr>\n",
              "  </tbody>\n",
              "</table>\n",
              "</div>"
            ],
            "text/plain": [
              "   SUBJECT_ID  HADM_ID  ... ADMISSION_TYPE NEXT_ADMITTIME\n",
              "0           2   163353  ...        NEWBORN            NaT\n",
              "1           3   145834  ...      EMERGENCY            NaT\n",
              "2           4   185777  ...      EMERGENCY            NaT\n",
              "3           5   178980  ...        NEWBORN            NaT\n",
              "4           6   107064  ...       ELECTIVE            NaT\n",
              "\n",
              "[5 rows x 7 columns]"
            ]
          },
          "metadata": {
            "tags": []
          },
          "execution_count": 12
        }
      ]
    },
    {
      "cell_type": "code",
      "metadata": {
        "id": "KyzLatFFxzMw",
        "colab": {
          "base_uri": "https://localhost:8080/",
          "height": 359
        },
        "outputId": "21740cce-4379-4a85-cf10-5ad8961069f6"
      },
      "source": [
        "adm.tail(10)"
      ],
      "execution_count": null,
      "outputs": [
        {
          "output_type": "execute_result",
          "data": {
            "text/html": [
              "<div>\n",
              "<style scoped>\n",
              "    .dataframe tbody tr th:only-of-type {\n",
              "        vertical-align: middle;\n",
              "    }\n",
              "\n",
              "    .dataframe tbody tr th {\n",
              "        vertical-align: top;\n",
              "    }\n",
              "\n",
              "    .dataframe thead th {\n",
              "        text-align: right;\n",
              "    }\n",
              "</style>\n",
              "<table border=\"1\" class=\"dataframe\">\n",
              "  <thead>\n",
              "    <tr style=\"text-align: right;\">\n",
              "      <th></th>\n",
              "      <th>SUBJECT_ID</th>\n",
              "      <th>HADM_ID</th>\n",
              "      <th>ADMITTIME</th>\n",
              "      <th>DISCHTIME</th>\n",
              "      <th>DEATHTIME</th>\n",
              "      <th>ADMISSION_TYPE</th>\n",
              "      <th>NEXT_ADMITTIME</th>\n",
              "    </tr>\n",
              "  </thead>\n",
              "  <tbody>\n",
              "    <tr>\n",
              "      <th>58966</th>\n",
              "      <td>99973</td>\n",
              "      <td>150202</td>\n",
              "      <td>2180-11-27 02:30:00</td>\n",
              "      <td>2180-12-01 13:42:00</td>\n",
              "      <td>NaT</td>\n",
              "      <td>EMERGENCY</td>\n",
              "      <td>NaT</td>\n",
              "    </tr>\n",
              "    <tr>\n",
              "      <th>58967</th>\n",
              "      <td>99982</td>\n",
              "      <td>151454</td>\n",
              "      <td>2156-11-28 11:56:00</td>\n",
              "      <td>2156-12-08 13:45:00</td>\n",
              "      <td>NaT</td>\n",
              "      <td>EMERGENCY</td>\n",
              "      <td>2157-01-05 17:27:00</td>\n",
              "    </tr>\n",
              "    <tr>\n",
              "      <th>58968</th>\n",
              "      <td>99982</td>\n",
              "      <td>112748</td>\n",
              "      <td>2157-01-05 17:27:00</td>\n",
              "      <td>2157-01-12 13:00:00</td>\n",
              "      <td>NaT</td>\n",
              "      <td>EMERGENCY</td>\n",
              "      <td>2157-02-16 17:31:00</td>\n",
              "    </tr>\n",
              "    <tr>\n",
              "      <th>58969</th>\n",
              "      <td>99982</td>\n",
              "      <td>183791</td>\n",
              "      <td>2157-02-16 17:31:00</td>\n",
              "      <td>2157-02-22 20:36:00</td>\n",
              "      <td>NaT</td>\n",
              "      <td>EMERGENCY</td>\n",
              "      <td>NaT</td>\n",
              "    </tr>\n",
              "    <tr>\n",
              "      <th>58970</th>\n",
              "      <td>99983</td>\n",
              "      <td>117390</td>\n",
              "      <td>2193-04-26 11:35:00</td>\n",
              "      <td>2193-04-29 13:30:00</td>\n",
              "      <td>NaT</td>\n",
              "      <td>EMERGENCY</td>\n",
              "      <td>NaT</td>\n",
              "    </tr>\n",
              "    <tr>\n",
              "      <th>58971</th>\n",
              "      <td>99985</td>\n",
              "      <td>176670</td>\n",
              "      <td>2181-01-27 02:47:00</td>\n",
              "      <td>2181-02-12 17:05:00</td>\n",
              "      <td>NaT</td>\n",
              "      <td>EMERGENCY</td>\n",
              "      <td>NaT</td>\n",
              "    </tr>\n",
              "    <tr>\n",
              "      <th>58972</th>\n",
              "      <td>99991</td>\n",
              "      <td>151118</td>\n",
              "      <td>2184-12-24 08:30:00</td>\n",
              "      <td>2185-01-05 12:15:00</td>\n",
              "      <td>NaT</td>\n",
              "      <td>ELECTIVE</td>\n",
              "      <td>NaT</td>\n",
              "    </tr>\n",
              "    <tr>\n",
              "      <th>58973</th>\n",
              "      <td>99992</td>\n",
              "      <td>197084</td>\n",
              "      <td>2144-07-25 18:03:00</td>\n",
              "      <td>2144-07-28 17:56:00</td>\n",
              "      <td>NaT</td>\n",
              "      <td>EMERGENCY</td>\n",
              "      <td>NaT</td>\n",
              "    </tr>\n",
              "    <tr>\n",
              "      <th>58974</th>\n",
              "      <td>99995</td>\n",
              "      <td>137810</td>\n",
              "      <td>2147-02-08 08:00:00</td>\n",
              "      <td>2147-02-11 13:15:00</td>\n",
              "      <td>NaT</td>\n",
              "      <td>ELECTIVE</td>\n",
              "      <td>NaT</td>\n",
              "    </tr>\n",
              "    <tr>\n",
              "      <th>58975</th>\n",
              "      <td>99999</td>\n",
              "      <td>113369</td>\n",
              "      <td>2117-12-30 07:15:00</td>\n",
              "      <td>2118-01-04 16:30:00</td>\n",
              "      <td>NaT</td>\n",
              "      <td>ELECTIVE</td>\n",
              "      <td>NaT</td>\n",
              "    </tr>\n",
              "  </tbody>\n",
              "</table>\n",
              "</div>"
            ],
            "text/plain": [
              "       SUBJECT_ID  HADM_ID  ... ADMISSION_TYPE      NEXT_ADMITTIME\n",
              "58966       99973   150202  ...      EMERGENCY                 NaT\n",
              "58967       99982   151454  ...      EMERGENCY 2157-01-05 17:27:00\n",
              "58968       99982   112748  ...      EMERGENCY 2157-02-16 17:31:00\n",
              "58969       99982   183791  ...      EMERGENCY                 NaT\n",
              "58970       99983   117390  ...      EMERGENCY                 NaT\n",
              "58971       99985   176670  ...      EMERGENCY                 NaT\n",
              "58972       99991   151118  ...       ELECTIVE                 NaT\n",
              "58973       99992   197084  ...      EMERGENCY                 NaT\n",
              "58974       99995   137810  ...       ELECTIVE                 NaT\n",
              "58975       99999   113369  ...       ELECTIVE                 NaT\n",
              "\n",
              "[10 rows x 7 columns]"
            ]
          },
          "metadata": {
            "tags": []
          },
          "execution_count": 13
        }
      ]
    },
    {
      "cell_type": "code",
      "metadata": {
        "id": "-xDaJsGGx2zw",
        "colab": {
          "base_uri": "https://localhost:8080/",
          "height": 359
        },
        "outputId": "17ebe499-f9a1-45ef-9bcf-d12123a22b6c"
      },
      "source": [
        "adm['NEXT_ADM_TYPE'] = adm.groupby('SUBJECT_ID').ADMISSION_TYPE.shift(-1)\n",
        "adm.tail(10)"
      ],
      "execution_count": null,
      "outputs": [
        {
          "output_type": "execute_result",
          "data": {
            "text/html": [
              "<div>\n",
              "<style scoped>\n",
              "    .dataframe tbody tr th:only-of-type {\n",
              "        vertical-align: middle;\n",
              "    }\n",
              "\n",
              "    .dataframe tbody tr th {\n",
              "        vertical-align: top;\n",
              "    }\n",
              "\n",
              "    .dataframe thead th {\n",
              "        text-align: right;\n",
              "    }\n",
              "</style>\n",
              "<table border=\"1\" class=\"dataframe\">\n",
              "  <thead>\n",
              "    <tr style=\"text-align: right;\">\n",
              "      <th></th>\n",
              "      <th>SUBJECT_ID</th>\n",
              "      <th>HADM_ID</th>\n",
              "      <th>ADMITTIME</th>\n",
              "      <th>DISCHTIME</th>\n",
              "      <th>DEATHTIME</th>\n",
              "      <th>ADMISSION_TYPE</th>\n",
              "      <th>NEXT_ADMITTIME</th>\n",
              "      <th>NEXT_ADM_TYPE</th>\n",
              "    </tr>\n",
              "  </thead>\n",
              "  <tbody>\n",
              "    <tr>\n",
              "      <th>58966</th>\n",
              "      <td>99973</td>\n",
              "      <td>150202</td>\n",
              "      <td>2180-11-27 02:30:00</td>\n",
              "      <td>2180-12-01 13:42:00</td>\n",
              "      <td>NaT</td>\n",
              "      <td>EMERGENCY</td>\n",
              "      <td>NaT</td>\n",
              "      <td>NaN</td>\n",
              "    </tr>\n",
              "    <tr>\n",
              "      <th>58967</th>\n",
              "      <td>99982</td>\n",
              "      <td>151454</td>\n",
              "      <td>2156-11-28 11:56:00</td>\n",
              "      <td>2156-12-08 13:45:00</td>\n",
              "      <td>NaT</td>\n",
              "      <td>EMERGENCY</td>\n",
              "      <td>2157-01-05 17:27:00</td>\n",
              "      <td>EMERGENCY</td>\n",
              "    </tr>\n",
              "    <tr>\n",
              "      <th>58968</th>\n",
              "      <td>99982</td>\n",
              "      <td>112748</td>\n",
              "      <td>2157-01-05 17:27:00</td>\n",
              "      <td>2157-01-12 13:00:00</td>\n",
              "      <td>NaT</td>\n",
              "      <td>EMERGENCY</td>\n",
              "      <td>2157-02-16 17:31:00</td>\n",
              "      <td>EMERGENCY</td>\n",
              "    </tr>\n",
              "    <tr>\n",
              "      <th>58969</th>\n",
              "      <td>99982</td>\n",
              "      <td>183791</td>\n",
              "      <td>2157-02-16 17:31:00</td>\n",
              "      <td>2157-02-22 20:36:00</td>\n",
              "      <td>NaT</td>\n",
              "      <td>EMERGENCY</td>\n",
              "      <td>NaT</td>\n",
              "      <td>NaN</td>\n",
              "    </tr>\n",
              "    <tr>\n",
              "      <th>58970</th>\n",
              "      <td>99983</td>\n",
              "      <td>117390</td>\n",
              "      <td>2193-04-26 11:35:00</td>\n",
              "      <td>2193-04-29 13:30:00</td>\n",
              "      <td>NaT</td>\n",
              "      <td>EMERGENCY</td>\n",
              "      <td>NaT</td>\n",
              "      <td>NaN</td>\n",
              "    </tr>\n",
              "    <tr>\n",
              "      <th>58971</th>\n",
              "      <td>99985</td>\n",
              "      <td>176670</td>\n",
              "      <td>2181-01-27 02:47:00</td>\n",
              "      <td>2181-02-12 17:05:00</td>\n",
              "      <td>NaT</td>\n",
              "      <td>EMERGENCY</td>\n",
              "      <td>NaT</td>\n",
              "      <td>NaN</td>\n",
              "    </tr>\n",
              "    <tr>\n",
              "      <th>58972</th>\n",
              "      <td>99991</td>\n",
              "      <td>151118</td>\n",
              "      <td>2184-12-24 08:30:00</td>\n",
              "      <td>2185-01-05 12:15:00</td>\n",
              "      <td>NaT</td>\n",
              "      <td>ELECTIVE</td>\n",
              "      <td>NaT</td>\n",
              "      <td>NaN</td>\n",
              "    </tr>\n",
              "    <tr>\n",
              "      <th>58973</th>\n",
              "      <td>99992</td>\n",
              "      <td>197084</td>\n",
              "      <td>2144-07-25 18:03:00</td>\n",
              "      <td>2144-07-28 17:56:00</td>\n",
              "      <td>NaT</td>\n",
              "      <td>EMERGENCY</td>\n",
              "      <td>NaT</td>\n",
              "      <td>NaN</td>\n",
              "    </tr>\n",
              "    <tr>\n",
              "      <th>58974</th>\n",
              "      <td>99995</td>\n",
              "      <td>137810</td>\n",
              "      <td>2147-02-08 08:00:00</td>\n",
              "      <td>2147-02-11 13:15:00</td>\n",
              "      <td>NaT</td>\n",
              "      <td>ELECTIVE</td>\n",
              "      <td>NaT</td>\n",
              "      <td>NaN</td>\n",
              "    </tr>\n",
              "    <tr>\n",
              "      <th>58975</th>\n",
              "      <td>99999</td>\n",
              "      <td>113369</td>\n",
              "      <td>2117-12-30 07:15:00</td>\n",
              "      <td>2118-01-04 16:30:00</td>\n",
              "      <td>NaT</td>\n",
              "      <td>ELECTIVE</td>\n",
              "      <td>NaT</td>\n",
              "      <td>NaN</td>\n",
              "    </tr>\n",
              "  </tbody>\n",
              "</table>\n",
              "</div>"
            ],
            "text/plain": [
              "       SUBJECT_ID  HADM_ID  ...      NEXT_ADMITTIME NEXT_ADM_TYPE\n",
              "58966       99973   150202  ...                 NaT           NaN\n",
              "58967       99982   151454  ... 2157-01-05 17:27:00     EMERGENCY\n",
              "58968       99982   112748  ... 2157-02-16 17:31:00     EMERGENCY\n",
              "58969       99982   183791  ...                 NaT           NaN\n",
              "58970       99983   117390  ...                 NaT           NaN\n",
              "58971       99985   176670  ...                 NaT           NaN\n",
              "58972       99991   151118  ...                 NaT           NaN\n",
              "58973       99992   197084  ...                 NaT           NaN\n",
              "58974       99995   137810  ...                 NaT           NaN\n",
              "58975       99999   113369  ...                 NaT           NaN\n",
              "\n",
              "[10 rows x 8 columns]"
            ]
          },
          "metadata": {
            "tags": []
          },
          "execution_count": 14
        }
      ]
    },
    {
      "cell_type": "code",
      "metadata": {
        "id": "OITE0LM8F6ix",
        "colab": {
          "base_uri": "https://localhost:8080/",
          "height": 419
        },
        "outputId": "e0d1e844-ff9d-4d35-c54d-33549152ae2c"
      },
      "source": [
        "adm.head(100)"
      ],
      "execution_count": null,
      "outputs": [
        {
          "output_type": "execute_result",
          "data": {
            "text/html": [
              "<div>\n",
              "<style scoped>\n",
              "    .dataframe tbody tr th:only-of-type {\n",
              "        vertical-align: middle;\n",
              "    }\n",
              "\n",
              "    .dataframe tbody tr th {\n",
              "        vertical-align: top;\n",
              "    }\n",
              "\n",
              "    .dataframe thead th {\n",
              "        text-align: right;\n",
              "    }\n",
              "</style>\n",
              "<table border=\"1\" class=\"dataframe\">\n",
              "  <thead>\n",
              "    <tr style=\"text-align: right;\">\n",
              "      <th></th>\n",
              "      <th>SUBJECT_ID</th>\n",
              "      <th>HADM_ID</th>\n",
              "      <th>ADMITTIME</th>\n",
              "      <th>DISCHTIME</th>\n",
              "      <th>DEATHTIME</th>\n",
              "      <th>ADMISSION_TYPE</th>\n",
              "      <th>NEXT_ADMITTIME</th>\n",
              "      <th>NEXT_ADM_TYPE</th>\n",
              "    </tr>\n",
              "  </thead>\n",
              "  <tbody>\n",
              "    <tr>\n",
              "      <th>0</th>\n",
              "      <td>2</td>\n",
              "      <td>163353</td>\n",
              "      <td>2138-07-17 19:04:00</td>\n",
              "      <td>2138-07-21 15:48:00</td>\n",
              "      <td>NaT</td>\n",
              "      <td>NEWBORN</td>\n",
              "      <td>NaT</td>\n",
              "      <td>NaN</td>\n",
              "    </tr>\n",
              "    <tr>\n",
              "      <th>1</th>\n",
              "      <td>3</td>\n",
              "      <td>145834</td>\n",
              "      <td>2101-10-20 19:08:00</td>\n",
              "      <td>2101-10-31 13:58:00</td>\n",
              "      <td>NaT</td>\n",
              "      <td>EMERGENCY</td>\n",
              "      <td>NaT</td>\n",
              "      <td>NaN</td>\n",
              "    </tr>\n",
              "    <tr>\n",
              "      <th>2</th>\n",
              "      <td>4</td>\n",
              "      <td>185777</td>\n",
              "      <td>2191-03-16 00:28:00</td>\n",
              "      <td>2191-03-23 18:41:00</td>\n",
              "      <td>NaT</td>\n",
              "      <td>EMERGENCY</td>\n",
              "      <td>NaT</td>\n",
              "      <td>NaN</td>\n",
              "    </tr>\n",
              "    <tr>\n",
              "      <th>3</th>\n",
              "      <td>5</td>\n",
              "      <td>178980</td>\n",
              "      <td>2103-02-02 04:31:00</td>\n",
              "      <td>2103-02-04 12:15:00</td>\n",
              "      <td>NaT</td>\n",
              "      <td>NEWBORN</td>\n",
              "      <td>NaT</td>\n",
              "      <td>NaN</td>\n",
              "    </tr>\n",
              "    <tr>\n",
              "      <th>4</th>\n",
              "      <td>6</td>\n",
              "      <td>107064</td>\n",
              "      <td>2175-05-30 07:15:00</td>\n",
              "      <td>2175-06-15 16:00:00</td>\n",
              "      <td>NaT</td>\n",
              "      <td>ELECTIVE</td>\n",
              "      <td>NaT</td>\n",
              "      <td>NaN</td>\n",
              "    </tr>\n",
              "    <tr>\n",
              "      <th>...</th>\n",
              "      <td>...</td>\n",
              "      <td>...</td>\n",
              "      <td>...</td>\n",
              "      <td>...</td>\n",
              "      <td>...</td>\n",
              "      <td>...</td>\n",
              "      <td>...</td>\n",
              "      <td>...</td>\n",
              "    </tr>\n",
              "    <tr>\n",
              "      <th>95</th>\n",
              "      <td>94</td>\n",
              "      <td>183686</td>\n",
              "      <td>2176-02-25 16:49:00</td>\n",
              "      <td>2176-02-29 17:45:00</td>\n",
              "      <td>NaT</td>\n",
              "      <td>EMERGENCY</td>\n",
              "      <td>2176-09-02 14:22:00</td>\n",
              "      <td>EMERGENCY</td>\n",
              "    </tr>\n",
              "    <tr>\n",
              "      <th>96</th>\n",
              "      <td>94</td>\n",
              "      <td>140037</td>\n",
              "      <td>2176-09-02 14:22:00</td>\n",
              "      <td>2176-09-25 13:15:00</td>\n",
              "      <td>NaT</td>\n",
              "      <td>EMERGENCY</td>\n",
              "      <td>NaT</td>\n",
              "      <td>NaN</td>\n",
              "    </tr>\n",
              "    <tr>\n",
              "      <th>97</th>\n",
              "      <td>95</td>\n",
              "      <td>160891</td>\n",
              "      <td>2157-12-25 16:28:00</td>\n",
              "      <td>2157-12-27 15:25:00</td>\n",
              "      <td>NaT</td>\n",
              "      <td>EMERGENCY</td>\n",
              "      <td>NaT</td>\n",
              "      <td>NaN</td>\n",
              "    </tr>\n",
              "    <tr>\n",
              "      <th>98</th>\n",
              "      <td>96</td>\n",
              "      <td>170324</td>\n",
              "      <td>2156-03-31 16:11:00</td>\n",
              "      <td>2156-04-29 15:05:00</td>\n",
              "      <td>NaT</td>\n",
              "      <td>EMERGENCY</td>\n",
              "      <td>NaT</td>\n",
              "      <td>NaN</td>\n",
              "    </tr>\n",
              "    <tr>\n",
              "      <th>99</th>\n",
              "      <td>97</td>\n",
              "      <td>127870</td>\n",
              "      <td>2105-04-28 15:01:00</td>\n",
              "      <td>2105-05-06 13:45:00</td>\n",
              "      <td>NaT</td>\n",
              "      <td>EMERGENCY</td>\n",
              "      <td>NaT</td>\n",
              "      <td>NaN</td>\n",
              "    </tr>\n",
              "  </tbody>\n",
              "</table>\n",
              "<p>100 rows × 8 columns</p>\n",
              "</div>"
            ],
            "text/plain": [
              "    SUBJECT_ID  HADM_ID  ...      NEXT_ADMITTIME NEXT_ADM_TYPE\n",
              "0            2   163353  ...                 NaT           NaN\n",
              "1            3   145834  ...                 NaT           NaN\n",
              "2            4   185777  ...                 NaT           NaN\n",
              "3            5   178980  ...                 NaT           NaN\n",
              "4            6   107064  ...                 NaT           NaN\n",
              "..         ...      ...  ...                 ...           ...\n",
              "95          94   183686  ... 2176-09-02 14:22:00     EMERGENCY\n",
              "96          94   140037  ...                 NaT           NaN\n",
              "97          95   160891  ...                 NaT           NaN\n",
              "98          96   170324  ...                 NaT           NaN\n",
              "99          97   127870  ...                 NaT           NaN\n",
              "\n",
              "[100 rows x 8 columns]"
            ]
          },
          "metadata": {
            "tags": []
          },
          "execution_count": 15
        }
      ]
    },
    {
      "cell_type": "code",
      "metadata": {
        "id": "DkePoeDb52DK"
      },
      "source": [
        "# remove data for which next_adm_type is an elective visit, since elective visits don't count as readmissions\n",
        "rows = adm['NEXT_ADM_TYPE'] == 'ELECTIVE'\n",
        "adm.loc[rows,'NEXT_ADMITTIME'] = pd.NaT\n",
        "adm.loc[rows,'NEXT_ADM_TYPE'] = np.NaN"
      ],
      "execution_count": null,
      "outputs": []
    },
    {
      "cell_type": "code",
      "metadata": {
        "id": "mYPBcbIY6okt",
        "colab": {
          "base_uri": "https://localhost:8080/",
          "height": 419
        },
        "outputId": "0dd18868-921f-4837-a444-edc215b22f3c"
      },
      "source": [
        "adm.head(100)"
      ],
      "execution_count": null,
      "outputs": [
        {
          "output_type": "execute_result",
          "data": {
            "text/html": [
              "<div>\n",
              "<style scoped>\n",
              "    .dataframe tbody tr th:only-of-type {\n",
              "        vertical-align: middle;\n",
              "    }\n",
              "\n",
              "    .dataframe tbody tr th {\n",
              "        vertical-align: top;\n",
              "    }\n",
              "\n",
              "    .dataframe thead th {\n",
              "        text-align: right;\n",
              "    }\n",
              "</style>\n",
              "<table border=\"1\" class=\"dataframe\">\n",
              "  <thead>\n",
              "    <tr style=\"text-align: right;\">\n",
              "      <th></th>\n",
              "      <th>SUBJECT_ID</th>\n",
              "      <th>HADM_ID</th>\n",
              "      <th>ADMITTIME</th>\n",
              "      <th>DISCHTIME</th>\n",
              "      <th>DEATHTIME</th>\n",
              "      <th>ADMISSION_TYPE</th>\n",
              "      <th>NEXT_ADMITTIME</th>\n",
              "      <th>NEXT_ADM_TYPE</th>\n",
              "    </tr>\n",
              "  </thead>\n",
              "  <tbody>\n",
              "    <tr>\n",
              "      <th>0</th>\n",
              "      <td>2</td>\n",
              "      <td>163353</td>\n",
              "      <td>2138-07-17 19:04:00</td>\n",
              "      <td>2138-07-21 15:48:00</td>\n",
              "      <td>NaT</td>\n",
              "      <td>NEWBORN</td>\n",
              "      <td>NaT</td>\n",
              "      <td>NaN</td>\n",
              "    </tr>\n",
              "    <tr>\n",
              "      <th>1</th>\n",
              "      <td>3</td>\n",
              "      <td>145834</td>\n",
              "      <td>2101-10-20 19:08:00</td>\n",
              "      <td>2101-10-31 13:58:00</td>\n",
              "      <td>NaT</td>\n",
              "      <td>EMERGENCY</td>\n",
              "      <td>NaT</td>\n",
              "      <td>NaN</td>\n",
              "    </tr>\n",
              "    <tr>\n",
              "      <th>2</th>\n",
              "      <td>4</td>\n",
              "      <td>185777</td>\n",
              "      <td>2191-03-16 00:28:00</td>\n",
              "      <td>2191-03-23 18:41:00</td>\n",
              "      <td>NaT</td>\n",
              "      <td>EMERGENCY</td>\n",
              "      <td>NaT</td>\n",
              "      <td>NaN</td>\n",
              "    </tr>\n",
              "    <tr>\n",
              "      <th>3</th>\n",
              "      <td>5</td>\n",
              "      <td>178980</td>\n",
              "      <td>2103-02-02 04:31:00</td>\n",
              "      <td>2103-02-04 12:15:00</td>\n",
              "      <td>NaT</td>\n",
              "      <td>NEWBORN</td>\n",
              "      <td>NaT</td>\n",
              "      <td>NaN</td>\n",
              "    </tr>\n",
              "    <tr>\n",
              "      <th>4</th>\n",
              "      <td>6</td>\n",
              "      <td>107064</td>\n",
              "      <td>2175-05-30 07:15:00</td>\n",
              "      <td>2175-06-15 16:00:00</td>\n",
              "      <td>NaT</td>\n",
              "      <td>ELECTIVE</td>\n",
              "      <td>NaT</td>\n",
              "      <td>NaN</td>\n",
              "    </tr>\n",
              "    <tr>\n",
              "      <th>...</th>\n",
              "      <td>...</td>\n",
              "      <td>...</td>\n",
              "      <td>...</td>\n",
              "      <td>...</td>\n",
              "      <td>...</td>\n",
              "      <td>...</td>\n",
              "      <td>...</td>\n",
              "      <td>...</td>\n",
              "    </tr>\n",
              "    <tr>\n",
              "      <th>95</th>\n",
              "      <td>94</td>\n",
              "      <td>183686</td>\n",
              "      <td>2176-02-25 16:49:00</td>\n",
              "      <td>2176-02-29 17:45:00</td>\n",
              "      <td>NaT</td>\n",
              "      <td>EMERGENCY</td>\n",
              "      <td>2176-09-02 14:22:00</td>\n",
              "      <td>EMERGENCY</td>\n",
              "    </tr>\n",
              "    <tr>\n",
              "      <th>96</th>\n",
              "      <td>94</td>\n",
              "      <td>140037</td>\n",
              "      <td>2176-09-02 14:22:00</td>\n",
              "      <td>2176-09-25 13:15:00</td>\n",
              "      <td>NaT</td>\n",
              "      <td>EMERGENCY</td>\n",
              "      <td>NaT</td>\n",
              "      <td>NaN</td>\n",
              "    </tr>\n",
              "    <tr>\n",
              "      <th>97</th>\n",
              "      <td>95</td>\n",
              "      <td>160891</td>\n",
              "      <td>2157-12-25 16:28:00</td>\n",
              "      <td>2157-12-27 15:25:00</td>\n",
              "      <td>NaT</td>\n",
              "      <td>EMERGENCY</td>\n",
              "      <td>NaT</td>\n",
              "      <td>NaN</td>\n",
              "    </tr>\n",
              "    <tr>\n",
              "      <th>98</th>\n",
              "      <td>96</td>\n",
              "      <td>170324</td>\n",
              "      <td>2156-03-31 16:11:00</td>\n",
              "      <td>2156-04-29 15:05:00</td>\n",
              "      <td>NaT</td>\n",
              "      <td>EMERGENCY</td>\n",
              "      <td>NaT</td>\n",
              "      <td>NaN</td>\n",
              "    </tr>\n",
              "    <tr>\n",
              "      <th>99</th>\n",
              "      <td>97</td>\n",
              "      <td>127870</td>\n",
              "      <td>2105-04-28 15:01:00</td>\n",
              "      <td>2105-05-06 13:45:00</td>\n",
              "      <td>NaT</td>\n",
              "      <td>EMERGENCY</td>\n",
              "      <td>NaT</td>\n",
              "      <td>NaN</td>\n",
              "    </tr>\n",
              "  </tbody>\n",
              "</table>\n",
              "<p>100 rows × 8 columns</p>\n",
              "</div>"
            ],
            "text/plain": [
              "    SUBJECT_ID  HADM_ID  ...      NEXT_ADMITTIME NEXT_ADM_TYPE\n",
              "0            2   163353  ...                 NaT           NaN\n",
              "1            3   145834  ...                 NaT           NaN\n",
              "2            4   185777  ...                 NaT           NaN\n",
              "3            5   178980  ...                 NaT           NaN\n",
              "4            6   107064  ...                 NaT           NaN\n",
              "..         ...      ...  ...                 ...           ...\n",
              "95          94   183686  ... 2176-09-02 14:22:00     EMERGENCY\n",
              "96          94   140037  ...                 NaT           NaN\n",
              "97          95   160891  ...                 NaT           NaN\n",
              "98          96   170324  ...                 NaT           NaN\n",
              "99          97   127870  ...                 NaT           NaN\n",
              "\n",
              "[100 rows x 8 columns]"
            ]
          },
          "metadata": {
            "tags": []
          },
          "execution_count": 17
        }
      ]
    },
    {
      "cell_type": "code",
      "metadata": {
        "id": "-I9qXuE11DfP",
        "colab": {
          "base_uri": "https://localhost:8080/",
          "height": 102
        },
        "outputId": "086d5600-5021-4429-fbcb-00506b565aee"
      },
      "source": [
        "adm['ADMISSION_TYPE'].value_counts()"
      ],
      "execution_count": null,
      "outputs": [
        {
          "output_type": "execute_result",
          "data": {
            "text/plain": [
              "EMERGENCY    42071\n",
              "NEWBORN       7863\n",
              "ELECTIVE      7706\n",
              "URGENT        1336\n",
              "Name: ADMISSION_TYPE, dtype: int64"
            ]
          },
          "metadata": {
            "tags": []
          },
          "execution_count": 18
        }
      ]
    },
    {
      "cell_type": "code",
      "metadata": {
        "id": "aRxQy4aEGSbb"
      },
      "source": [
        "adm = adm.sort_values(['SUBJECT_ID', 'ADMITTIME'])\n",
        "\n",
        "#backfill ## slow\n",
        "adm[['NEXT_ADMITTIME', 'NEXT_ADM_TYPE']] = adm.groupby(['SUBJECT_ID']) [['NEXT_ADMITTIME','NEXT_ADM_TYPE']].fillna(method = 'bfill')"
      ],
      "execution_count": null,
      "outputs": []
    },
    {
      "cell_type": "code",
      "metadata": {
        "id": "8bz4D2RGGR6N",
        "colab": {
          "base_uri": "https://localhost:8080/",
          "height": 419
        },
        "outputId": "bad1c2fc-0cda-4f82-e24f-60b5b804694d"
      },
      "source": [
        "adm.head(100)"
      ],
      "execution_count": null,
      "outputs": [
        {
          "output_type": "execute_result",
          "data": {
            "text/html": [
              "<div>\n",
              "<style scoped>\n",
              "    .dataframe tbody tr th:only-of-type {\n",
              "        vertical-align: middle;\n",
              "    }\n",
              "\n",
              "    .dataframe tbody tr th {\n",
              "        vertical-align: top;\n",
              "    }\n",
              "\n",
              "    .dataframe thead th {\n",
              "        text-align: right;\n",
              "    }\n",
              "</style>\n",
              "<table border=\"1\" class=\"dataframe\">\n",
              "  <thead>\n",
              "    <tr style=\"text-align: right;\">\n",
              "      <th></th>\n",
              "      <th>SUBJECT_ID</th>\n",
              "      <th>HADM_ID</th>\n",
              "      <th>ADMITTIME</th>\n",
              "      <th>DISCHTIME</th>\n",
              "      <th>DEATHTIME</th>\n",
              "      <th>ADMISSION_TYPE</th>\n",
              "      <th>NEXT_ADMITTIME</th>\n",
              "      <th>NEXT_ADM_TYPE</th>\n",
              "    </tr>\n",
              "  </thead>\n",
              "  <tbody>\n",
              "    <tr>\n",
              "      <th>0</th>\n",
              "      <td>2</td>\n",
              "      <td>163353</td>\n",
              "      <td>2138-07-17 19:04:00</td>\n",
              "      <td>2138-07-21 15:48:00</td>\n",
              "      <td>NaT</td>\n",
              "      <td>NEWBORN</td>\n",
              "      <td>NaT</td>\n",
              "      <td>NaN</td>\n",
              "    </tr>\n",
              "    <tr>\n",
              "      <th>1</th>\n",
              "      <td>3</td>\n",
              "      <td>145834</td>\n",
              "      <td>2101-10-20 19:08:00</td>\n",
              "      <td>2101-10-31 13:58:00</td>\n",
              "      <td>NaT</td>\n",
              "      <td>EMERGENCY</td>\n",
              "      <td>NaT</td>\n",
              "      <td>NaN</td>\n",
              "    </tr>\n",
              "    <tr>\n",
              "      <th>2</th>\n",
              "      <td>4</td>\n",
              "      <td>185777</td>\n",
              "      <td>2191-03-16 00:28:00</td>\n",
              "      <td>2191-03-23 18:41:00</td>\n",
              "      <td>NaT</td>\n",
              "      <td>EMERGENCY</td>\n",
              "      <td>NaT</td>\n",
              "      <td>NaN</td>\n",
              "    </tr>\n",
              "    <tr>\n",
              "      <th>3</th>\n",
              "      <td>5</td>\n",
              "      <td>178980</td>\n",
              "      <td>2103-02-02 04:31:00</td>\n",
              "      <td>2103-02-04 12:15:00</td>\n",
              "      <td>NaT</td>\n",
              "      <td>NEWBORN</td>\n",
              "      <td>NaT</td>\n",
              "      <td>NaN</td>\n",
              "    </tr>\n",
              "    <tr>\n",
              "      <th>4</th>\n",
              "      <td>6</td>\n",
              "      <td>107064</td>\n",
              "      <td>2175-05-30 07:15:00</td>\n",
              "      <td>2175-06-15 16:00:00</td>\n",
              "      <td>NaT</td>\n",
              "      <td>ELECTIVE</td>\n",
              "      <td>NaT</td>\n",
              "      <td>NaN</td>\n",
              "    </tr>\n",
              "    <tr>\n",
              "      <th>...</th>\n",
              "      <td>...</td>\n",
              "      <td>...</td>\n",
              "      <td>...</td>\n",
              "      <td>...</td>\n",
              "      <td>...</td>\n",
              "      <td>...</td>\n",
              "      <td>...</td>\n",
              "      <td>...</td>\n",
              "    </tr>\n",
              "    <tr>\n",
              "      <th>95</th>\n",
              "      <td>94</td>\n",
              "      <td>183686</td>\n",
              "      <td>2176-02-25 16:49:00</td>\n",
              "      <td>2176-02-29 17:45:00</td>\n",
              "      <td>NaT</td>\n",
              "      <td>EMERGENCY</td>\n",
              "      <td>2176-09-02 14:22:00</td>\n",
              "      <td>EMERGENCY</td>\n",
              "    </tr>\n",
              "    <tr>\n",
              "      <th>96</th>\n",
              "      <td>94</td>\n",
              "      <td>140037</td>\n",
              "      <td>2176-09-02 14:22:00</td>\n",
              "      <td>2176-09-25 13:15:00</td>\n",
              "      <td>NaT</td>\n",
              "      <td>EMERGENCY</td>\n",
              "      <td>NaT</td>\n",
              "      <td>NaN</td>\n",
              "    </tr>\n",
              "    <tr>\n",
              "      <th>97</th>\n",
              "      <td>95</td>\n",
              "      <td>160891</td>\n",
              "      <td>2157-12-25 16:28:00</td>\n",
              "      <td>2157-12-27 15:25:00</td>\n",
              "      <td>NaT</td>\n",
              "      <td>EMERGENCY</td>\n",
              "      <td>NaT</td>\n",
              "      <td>NaN</td>\n",
              "    </tr>\n",
              "    <tr>\n",
              "      <th>98</th>\n",
              "      <td>96</td>\n",
              "      <td>170324</td>\n",
              "      <td>2156-03-31 16:11:00</td>\n",
              "      <td>2156-04-29 15:05:00</td>\n",
              "      <td>NaT</td>\n",
              "      <td>EMERGENCY</td>\n",
              "      <td>NaT</td>\n",
              "      <td>NaN</td>\n",
              "    </tr>\n",
              "    <tr>\n",
              "      <th>99</th>\n",
              "      <td>97</td>\n",
              "      <td>127870</td>\n",
              "      <td>2105-04-28 15:01:00</td>\n",
              "      <td>2105-05-06 13:45:00</td>\n",
              "      <td>NaT</td>\n",
              "      <td>EMERGENCY</td>\n",
              "      <td>NaT</td>\n",
              "      <td>NaN</td>\n",
              "    </tr>\n",
              "  </tbody>\n",
              "</table>\n",
              "<p>100 rows × 8 columns</p>\n",
              "</div>"
            ],
            "text/plain": [
              "    SUBJECT_ID  HADM_ID  ...      NEXT_ADMITTIME NEXT_ADM_TYPE\n",
              "0            2   163353  ...                 NaT           NaN\n",
              "1            3   145834  ...                 NaT           NaN\n",
              "2            4   185777  ...                 NaT           NaN\n",
              "3            5   178980  ...                 NaT           NaN\n",
              "4            6   107064  ...                 NaT           NaN\n",
              "..         ...      ...  ...                 ...           ...\n",
              "95          94   183686  ... 2176-09-02 14:22:00     EMERGENCY\n",
              "96          94   140037  ...                 NaT           NaN\n",
              "97          95   160891  ...                 NaT           NaN\n",
              "98          96   170324  ...                 NaT           NaN\n",
              "99          97   127870  ...                 NaT           NaN\n",
              "\n",
              "[100 rows x 8 columns]"
            ]
          },
          "metadata": {
            "tags": []
          },
          "execution_count": 20
        }
      ]
    },
    {
      "cell_type": "code",
      "metadata": {
        "id": "M7JouRSE6tN7",
        "colab": {
          "base_uri": "https://localhost:8080/",
          "height": 34
        },
        "outputId": "436b835a-55ab-4b59-aa87-8c1779d1eaa4"
      },
      "source": [
        "(adm['NEXT_ADMITTIME'][58967] - adm['DISCHTIME'][58967]).days"
      ],
      "execution_count": null,
      "outputs": [
        {
          "output_type": "execute_result",
          "data": {
            "text/plain": [
              "28"
            ]
          },
          "metadata": {
            "tags": []
          },
          "execution_count": 21
        }
      ]
    },
    {
      "cell_type": "code",
      "metadata": {
        "id": "2thGrwIyEyrx",
        "colab": {
          "base_uri": "https://localhost:8080/",
          "height": 34
        },
        "outputId": "49623ea2-1cd3-4aaf-c5a0-17b843e0b493"
      },
      "source": [
        "(adm['NEXT_ADMITTIME'][58966] - adm['DISCHTIME'][58966]).days"
      ],
      "execution_count": null,
      "outputs": [
        {
          "output_type": "execute_result",
          "data": {
            "text/plain": [
              "nan"
            ]
          },
          "metadata": {
            "tags": []
          },
          "execution_count": 22
        }
      ]
    },
    {
      "cell_type": "code",
      "metadata": {
        "id": "RvSQQUw7FU-0"
      },
      "source": [
        "adm['DAYS_NEXT_ADMIT'] = (adm['NEXT_ADMITTIME'] - adm['DISCHTIME']).dt.days"
      ],
      "execution_count": null,
      "outputs": []
    },
    {
      "cell_type": "code",
      "metadata": {
        "id": "KqDfBeW5__9v",
        "colab": {
          "base_uri": "https://localhost:8080/",
          "height": 1000
        },
        "outputId": "7f688dd9-3512-488e-b2f7-ca26c2ee6be9"
      },
      "source": [
        "adm.head(50)"
      ],
      "execution_count": null,
      "outputs": [
        {
          "output_type": "execute_result",
          "data": {
            "text/html": [
              "<div>\n",
              "<style scoped>\n",
              "    .dataframe tbody tr th:only-of-type {\n",
              "        vertical-align: middle;\n",
              "    }\n",
              "\n",
              "    .dataframe tbody tr th {\n",
              "        vertical-align: top;\n",
              "    }\n",
              "\n",
              "    .dataframe thead th {\n",
              "        text-align: right;\n",
              "    }\n",
              "</style>\n",
              "<table border=\"1\" class=\"dataframe\">\n",
              "  <thead>\n",
              "    <tr style=\"text-align: right;\">\n",
              "      <th></th>\n",
              "      <th>SUBJECT_ID</th>\n",
              "      <th>HADM_ID</th>\n",
              "      <th>ADMITTIME</th>\n",
              "      <th>DISCHTIME</th>\n",
              "      <th>DEATHTIME</th>\n",
              "      <th>ADMISSION_TYPE</th>\n",
              "      <th>NEXT_ADMITTIME</th>\n",
              "      <th>NEXT_ADM_TYPE</th>\n",
              "      <th>DAYS_NEXT_ADMIT</th>\n",
              "    </tr>\n",
              "  </thead>\n",
              "  <tbody>\n",
              "    <tr>\n",
              "      <th>0</th>\n",
              "      <td>2</td>\n",
              "      <td>163353</td>\n",
              "      <td>2138-07-17 19:04:00</td>\n",
              "      <td>2138-07-21 15:48:00</td>\n",
              "      <td>NaT</td>\n",
              "      <td>NEWBORN</td>\n",
              "      <td>NaT</td>\n",
              "      <td>NaN</td>\n",
              "      <td>NaN</td>\n",
              "    </tr>\n",
              "    <tr>\n",
              "      <th>1</th>\n",
              "      <td>3</td>\n",
              "      <td>145834</td>\n",
              "      <td>2101-10-20 19:08:00</td>\n",
              "      <td>2101-10-31 13:58:00</td>\n",
              "      <td>NaT</td>\n",
              "      <td>EMERGENCY</td>\n",
              "      <td>NaT</td>\n",
              "      <td>NaN</td>\n",
              "      <td>NaN</td>\n",
              "    </tr>\n",
              "    <tr>\n",
              "      <th>2</th>\n",
              "      <td>4</td>\n",
              "      <td>185777</td>\n",
              "      <td>2191-03-16 00:28:00</td>\n",
              "      <td>2191-03-23 18:41:00</td>\n",
              "      <td>NaT</td>\n",
              "      <td>EMERGENCY</td>\n",
              "      <td>NaT</td>\n",
              "      <td>NaN</td>\n",
              "      <td>NaN</td>\n",
              "    </tr>\n",
              "    <tr>\n",
              "      <th>3</th>\n",
              "      <td>5</td>\n",
              "      <td>178980</td>\n",
              "      <td>2103-02-02 04:31:00</td>\n",
              "      <td>2103-02-04 12:15:00</td>\n",
              "      <td>NaT</td>\n",
              "      <td>NEWBORN</td>\n",
              "      <td>NaT</td>\n",
              "      <td>NaN</td>\n",
              "      <td>NaN</td>\n",
              "    </tr>\n",
              "    <tr>\n",
              "      <th>4</th>\n",
              "      <td>6</td>\n",
              "      <td>107064</td>\n",
              "      <td>2175-05-30 07:15:00</td>\n",
              "      <td>2175-06-15 16:00:00</td>\n",
              "      <td>NaT</td>\n",
              "      <td>ELECTIVE</td>\n",
              "      <td>NaT</td>\n",
              "      <td>NaN</td>\n",
              "      <td>NaN</td>\n",
              "    </tr>\n",
              "    <tr>\n",
              "      <th>5</th>\n",
              "      <td>7</td>\n",
              "      <td>118037</td>\n",
              "      <td>2121-05-23 15:05:00</td>\n",
              "      <td>2121-05-27 11:57:00</td>\n",
              "      <td>NaT</td>\n",
              "      <td>NEWBORN</td>\n",
              "      <td>NaT</td>\n",
              "      <td>NaN</td>\n",
              "      <td>NaN</td>\n",
              "    </tr>\n",
              "    <tr>\n",
              "      <th>6</th>\n",
              "      <td>8</td>\n",
              "      <td>159514</td>\n",
              "      <td>2117-11-20 10:22:00</td>\n",
              "      <td>2117-11-24 14:20:00</td>\n",
              "      <td>NaT</td>\n",
              "      <td>NEWBORN</td>\n",
              "      <td>NaT</td>\n",
              "      <td>NaN</td>\n",
              "      <td>NaN</td>\n",
              "    </tr>\n",
              "    <tr>\n",
              "      <th>7</th>\n",
              "      <td>9</td>\n",
              "      <td>150750</td>\n",
              "      <td>2149-11-09 13:06:00</td>\n",
              "      <td>2149-11-14 10:15:00</td>\n",
              "      <td>2149-11-14 10:15:00</td>\n",
              "      <td>EMERGENCY</td>\n",
              "      <td>NaT</td>\n",
              "      <td>NaN</td>\n",
              "      <td>NaN</td>\n",
              "    </tr>\n",
              "    <tr>\n",
              "      <th>8</th>\n",
              "      <td>10</td>\n",
              "      <td>184167</td>\n",
              "      <td>2103-06-28 11:36:00</td>\n",
              "      <td>2103-07-06 12:10:00</td>\n",
              "      <td>NaT</td>\n",
              "      <td>NEWBORN</td>\n",
              "      <td>NaT</td>\n",
              "      <td>NaN</td>\n",
              "      <td>NaN</td>\n",
              "    </tr>\n",
              "    <tr>\n",
              "      <th>9</th>\n",
              "      <td>11</td>\n",
              "      <td>194540</td>\n",
              "      <td>2178-04-16 06:18:00</td>\n",
              "      <td>2178-05-11 19:00:00</td>\n",
              "      <td>NaT</td>\n",
              "      <td>EMERGENCY</td>\n",
              "      <td>NaT</td>\n",
              "      <td>NaN</td>\n",
              "      <td>NaN</td>\n",
              "    </tr>\n",
              "    <tr>\n",
              "      <th>10</th>\n",
              "      <td>12</td>\n",
              "      <td>112213</td>\n",
              "      <td>2104-08-07 10:15:00</td>\n",
              "      <td>2104-08-20 02:57:00</td>\n",
              "      <td>2104-08-20 02:57:00</td>\n",
              "      <td>ELECTIVE</td>\n",
              "      <td>NaT</td>\n",
              "      <td>NaN</td>\n",
              "      <td>NaN</td>\n",
              "    </tr>\n",
              "    <tr>\n",
              "      <th>11</th>\n",
              "      <td>13</td>\n",
              "      <td>143045</td>\n",
              "      <td>2167-01-08 18:43:00</td>\n",
              "      <td>2167-01-15 15:15:00</td>\n",
              "      <td>NaT</td>\n",
              "      <td>EMERGENCY</td>\n",
              "      <td>NaT</td>\n",
              "      <td>NaN</td>\n",
              "      <td>NaN</td>\n",
              "    </tr>\n",
              "    <tr>\n",
              "      <th>12</th>\n",
              "      <td>16</td>\n",
              "      <td>103251</td>\n",
              "      <td>2178-02-03 06:35:00</td>\n",
              "      <td>2178-02-05 10:51:00</td>\n",
              "      <td>NaT</td>\n",
              "      <td>NEWBORN</td>\n",
              "      <td>NaT</td>\n",
              "      <td>NaN</td>\n",
              "      <td>NaN</td>\n",
              "    </tr>\n",
              "    <tr>\n",
              "      <th>13</th>\n",
              "      <td>17</td>\n",
              "      <td>194023</td>\n",
              "      <td>2134-12-27 07:15:00</td>\n",
              "      <td>2134-12-31 16:05:00</td>\n",
              "      <td>NaT</td>\n",
              "      <td>ELECTIVE</td>\n",
              "      <td>2135-05-09 14:11:00</td>\n",
              "      <td>EMERGENCY</td>\n",
              "      <td>128.0</td>\n",
              "    </tr>\n",
              "    <tr>\n",
              "      <th>14</th>\n",
              "      <td>17</td>\n",
              "      <td>161087</td>\n",
              "      <td>2135-05-09 14:11:00</td>\n",
              "      <td>2135-05-13 14:40:00</td>\n",
              "      <td>NaT</td>\n",
              "      <td>EMERGENCY</td>\n",
              "      <td>NaT</td>\n",
              "      <td>NaN</td>\n",
              "      <td>NaN</td>\n",
              "    </tr>\n",
              "    <tr>\n",
              "      <th>15</th>\n",
              "      <td>18</td>\n",
              "      <td>188822</td>\n",
              "      <td>2167-10-02 11:18:00</td>\n",
              "      <td>2167-10-04 16:15:00</td>\n",
              "      <td>NaT</td>\n",
              "      <td>EMERGENCY</td>\n",
              "      <td>NaT</td>\n",
              "      <td>NaN</td>\n",
              "      <td>NaN</td>\n",
              "    </tr>\n",
              "    <tr>\n",
              "      <th>16</th>\n",
              "      <td>19</td>\n",
              "      <td>109235</td>\n",
              "      <td>2108-08-05 16:25:00</td>\n",
              "      <td>2108-08-11 11:29:00</td>\n",
              "      <td>NaT</td>\n",
              "      <td>EMERGENCY</td>\n",
              "      <td>NaT</td>\n",
              "      <td>NaN</td>\n",
              "      <td>NaN</td>\n",
              "    </tr>\n",
              "    <tr>\n",
              "      <th>17</th>\n",
              "      <td>20</td>\n",
              "      <td>157681</td>\n",
              "      <td>2183-04-28 09:45:00</td>\n",
              "      <td>2183-05-03 14:45:00</td>\n",
              "      <td>NaT</td>\n",
              "      <td>ELECTIVE</td>\n",
              "      <td>NaT</td>\n",
              "      <td>NaN</td>\n",
              "      <td>NaN</td>\n",
              "    </tr>\n",
              "    <tr>\n",
              "      <th>18</th>\n",
              "      <td>21</td>\n",
              "      <td>109451</td>\n",
              "      <td>2134-09-11 12:17:00</td>\n",
              "      <td>2134-09-24 16:15:00</td>\n",
              "      <td>NaT</td>\n",
              "      <td>EMERGENCY</td>\n",
              "      <td>2135-01-30 20:50:00</td>\n",
              "      <td>EMERGENCY</td>\n",
              "      <td>128.0</td>\n",
              "    </tr>\n",
              "    <tr>\n",
              "      <th>19</th>\n",
              "      <td>21</td>\n",
              "      <td>111970</td>\n",
              "      <td>2135-01-30 20:50:00</td>\n",
              "      <td>2135-02-08 02:08:00</td>\n",
              "      <td>2135-02-08 02:08:00</td>\n",
              "      <td>EMERGENCY</td>\n",
              "      <td>NaT</td>\n",
              "      <td>NaN</td>\n",
              "      <td>NaN</td>\n",
              "    </tr>\n",
              "    <tr>\n",
              "      <th>20</th>\n",
              "      <td>22</td>\n",
              "      <td>165315</td>\n",
              "      <td>2196-04-09 12:26:00</td>\n",
              "      <td>2196-04-10 15:54:00</td>\n",
              "      <td>NaT</td>\n",
              "      <td>EMERGENCY</td>\n",
              "      <td>NaT</td>\n",
              "      <td>NaN</td>\n",
              "      <td>NaN</td>\n",
              "    </tr>\n",
              "    <tr>\n",
              "      <th>21</th>\n",
              "      <td>23</td>\n",
              "      <td>152223</td>\n",
              "      <td>2153-09-03 07:15:00</td>\n",
              "      <td>2153-09-08 19:10:00</td>\n",
              "      <td>NaT</td>\n",
              "      <td>ELECTIVE</td>\n",
              "      <td>2157-10-18 19:34:00</td>\n",
              "      <td>EMERGENCY</td>\n",
              "      <td>1501.0</td>\n",
              "    </tr>\n",
              "    <tr>\n",
              "      <th>22</th>\n",
              "      <td>23</td>\n",
              "      <td>124321</td>\n",
              "      <td>2157-10-18 19:34:00</td>\n",
              "      <td>2157-10-25 14:00:00</td>\n",
              "      <td>NaT</td>\n",
              "      <td>EMERGENCY</td>\n",
              "      <td>NaT</td>\n",
              "      <td>NaN</td>\n",
              "      <td>NaN</td>\n",
              "    </tr>\n",
              "    <tr>\n",
              "      <th>23</th>\n",
              "      <td>24</td>\n",
              "      <td>161859</td>\n",
              "      <td>2139-06-06 16:14:00</td>\n",
              "      <td>2139-06-09 12:48:00</td>\n",
              "      <td>NaT</td>\n",
              "      <td>EMERGENCY</td>\n",
              "      <td>NaT</td>\n",
              "      <td>NaN</td>\n",
              "      <td>NaN</td>\n",
              "    </tr>\n",
              "    <tr>\n",
              "      <th>24</th>\n",
              "      <td>25</td>\n",
              "      <td>129635</td>\n",
              "      <td>2160-11-02 02:06:00</td>\n",
              "      <td>2160-11-05 14:55:00</td>\n",
              "      <td>NaT</td>\n",
              "      <td>EMERGENCY</td>\n",
              "      <td>NaT</td>\n",
              "      <td>NaN</td>\n",
              "      <td>NaN</td>\n",
              "    </tr>\n",
              "    <tr>\n",
              "      <th>25</th>\n",
              "      <td>26</td>\n",
              "      <td>197661</td>\n",
              "      <td>2126-05-06 15:16:00</td>\n",
              "      <td>2126-05-13 15:00:00</td>\n",
              "      <td>NaT</td>\n",
              "      <td>EMERGENCY</td>\n",
              "      <td>NaT</td>\n",
              "      <td>NaN</td>\n",
              "      <td>NaN</td>\n",
              "    </tr>\n",
              "    <tr>\n",
              "      <th>26</th>\n",
              "      <td>27</td>\n",
              "      <td>134931</td>\n",
              "      <td>2191-11-30 22:16:00</td>\n",
              "      <td>2191-12-03 14:45:00</td>\n",
              "      <td>NaT</td>\n",
              "      <td>NEWBORN</td>\n",
              "      <td>NaT</td>\n",
              "      <td>NaN</td>\n",
              "      <td>NaN</td>\n",
              "    </tr>\n",
              "    <tr>\n",
              "      <th>27</th>\n",
              "      <td>28</td>\n",
              "      <td>162569</td>\n",
              "      <td>2177-09-01 07:15:00</td>\n",
              "      <td>2177-09-06 16:00:00</td>\n",
              "      <td>NaT</td>\n",
              "      <td>ELECTIVE</td>\n",
              "      <td>NaT</td>\n",
              "      <td>NaN</td>\n",
              "      <td>NaN</td>\n",
              "    </tr>\n",
              "    <tr>\n",
              "      <th>28</th>\n",
              "      <td>30</td>\n",
              "      <td>104557</td>\n",
              "      <td>2172-10-14 14:17:00</td>\n",
              "      <td>2172-10-19 14:37:00</td>\n",
              "      <td>NaT</td>\n",
              "      <td>URGENT</td>\n",
              "      <td>NaT</td>\n",
              "      <td>NaN</td>\n",
              "      <td>NaN</td>\n",
              "    </tr>\n",
              "    <tr>\n",
              "      <th>29</th>\n",
              "      <td>31</td>\n",
              "      <td>128652</td>\n",
              "      <td>2108-08-22 23:27:00</td>\n",
              "      <td>2108-08-30 15:00:00</td>\n",
              "      <td>2108-08-30 15:00:00</td>\n",
              "      <td>EMERGENCY</td>\n",
              "      <td>NaT</td>\n",
              "      <td>NaN</td>\n",
              "      <td>NaN</td>\n",
              "    </tr>\n",
              "    <tr>\n",
              "      <th>30</th>\n",
              "      <td>32</td>\n",
              "      <td>175413</td>\n",
              "      <td>2170-04-04 08:00:00</td>\n",
              "      <td>2170-04-23 12:45:00</td>\n",
              "      <td>NaT</td>\n",
              "      <td>ELECTIVE</td>\n",
              "      <td>NaT</td>\n",
              "      <td>NaN</td>\n",
              "      <td>NaN</td>\n",
              "    </tr>\n",
              "    <tr>\n",
              "      <th>31</th>\n",
              "      <td>33</td>\n",
              "      <td>176176</td>\n",
              "      <td>2116-12-23 22:30:00</td>\n",
              "      <td>2116-12-27 12:05:00</td>\n",
              "      <td>NaT</td>\n",
              "      <td>EMERGENCY</td>\n",
              "      <td>NaT</td>\n",
              "      <td>NaN</td>\n",
              "      <td>NaN</td>\n",
              "    </tr>\n",
              "    <tr>\n",
              "      <th>32</th>\n",
              "      <td>34</td>\n",
              "      <td>115799</td>\n",
              "      <td>2186-07-18 16:46:00</td>\n",
              "      <td>2186-07-20 16:00:00</td>\n",
              "      <td>NaT</td>\n",
              "      <td>EMERGENCY</td>\n",
              "      <td>2191-02-23 05:23:00</td>\n",
              "      <td>EMERGENCY</td>\n",
              "      <td>1678.0</td>\n",
              "    </tr>\n",
              "    <tr>\n",
              "      <th>33</th>\n",
              "      <td>34</td>\n",
              "      <td>144319</td>\n",
              "      <td>2191-02-23 05:23:00</td>\n",
              "      <td>2191-02-25 20:20:00</td>\n",
              "      <td>NaT</td>\n",
              "      <td>EMERGENCY</td>\n",
              "      <td>NaT</td>\n",
              "      <td>NaN</td>\n",
              "      <td>NaN</td>\n",
              "    </tr>\n",
              "    <tr>\n",
              "      <th>34</th>\n",
              "      <td>35</td>\n",
              "      <td>166707</td>\n",
              "      <td>2122-02-10 11:15:00</td>\n",
              "      <td>2122-02-20 15:30:00</td>\n",
              "      <td>NaT</td>\n",
              "      <td>ELECTIVE</td>\n",
              "      <td>NaT</td>\n",
              "      <td>NaN</td>\n",
              "      <td>NaN</td>\n",
              "    </tr>\n",
              "    <tr>\n",
              "      <th>35</th>\n",
              "      <td>36</td>\n",
              "      <td>182104</td>\n",
              "      <td>2131-04-30 07:15:00</td>\n",
              "      <td>2131-05-08 14:00:00</td>\n",
              "      <td>NaT</td>\n",
              "      <td>EMERGENCY</td>\n",
              "      <td>2131-05-12 19:49:00</td>\n",
              "      <td>EMERGENCY</td>\n",
              "      <td>4.0</td>\n",
              "    </tr>\n",
              "    <tr>\n",
              "      <th>36</th>\n",
              "      <td>36</td>\n",
              "      <td>122659</td>\n",
              "      <td>2131-05-12 19:49:00</td>\n",
              "      <td>2131-05-25 13:30:00</td>\n",
              "      <td>NaT</td>\n",
              "      <td>EMERGENCY</td>\n",
              "      <td>NaT</td>\n",
              "      <td>NaN</td>\n",
              "      <td>NaN</td>\n",
              "    </tr>\n",
              "    <tr>\n",
              "      <th>37</th>\n",
              "      <td>36</td>\n",
              "      <td>165660</td>\n",
              "      <td>2134-05-10 11:30:00</td>\n",
              "      <td>2134-05-20 13:16:00</td>\n",
              "      <td>NaT</td>\n",
              "      <td>ELECTIVE</td>\n",
              "      <td>NaT</td>\n",
              "      <td>NaN</td>\n",
              "      <td>NaN</td>\n",
              "    </tr>\n",
              "    <tr>\n",
              "      <th>38</th>\n",
              "      <td>37</td>\n",
              "      <td>188670</td>\n",
              "      <td>2183-08-21 16:48:00</td>\n",
              "      <td>2183-08-26 18:54:00</td>\n",
              "      <td>NaT</td>\n",
              "      <td>EMERGENCY</td>\n",
              "      <td>NaT</td>\n",
              "      <td>NaN</td>\n",
              "      <td>NaN</td>\n",
              "    </tr>\n",
              "    <tr>\n",
              "      <th>39</th>\n",
              "      <td>38</td>\n",
              "      <td>185910</td>\n",
              "      <td>2166-08-10 00:28:00</td>\n",
              "      <td>2166-09-04 11:30:00</td>\n",
              "      <td>NaT</td>\n",
              "      <td>EMERGENCY</td>\n",
              "      <td>NaT</td>\n",
              "      <td>NaN</td>\n",
              "      <td>NaN</td>\n",
              "    </tr>\n",
              "    <tr>\n",
              "      <th>40</th>\n",
              "      <td>39</td>\n",
              "      <td>106266</td>\n",
              "      <td>2114-11-29 21:04:00</td>\n",
              "      <td>2114-12-09 15:10:00</td>\n",
              "      <td>NaT</td>\n",
              "      <td>NEWBORN</td>\n",
              "      <td>NaT</td>\n",
              "      <td>NaN</td>\n",
              "      <td>NaN</td>\n",
              "    </tr>\n",
              "    <tr>\n",
              "      <th>41</th>\n",
              "      <td>41</td>\n",
              "      <td>101757</td>\n",
              "      <td>2132-12-31 10:30:00</td>\n",
              "      <td>2133-01-27 15:45:00</td>\n",
              "      <td>NaT</td>\n",
              "      <td>ELECTIVE</td>\n",
              "      <td>NaT</td>\n",
              "      <td>NaN</td>\n",
              "      <td>NaN</td>\n",
              "    </tr>\n",
              "    <tr>\n",
              "      <th>42</th>\n",
              "      <td>42</td>\n",
              "      <td>119203</td>\n",
              "      <td>2116-04-26 18:58:00</td>\n",
              "      <td>2116-04-30 18:16:00</td>\n",
              "      <td>NaT</td>\n",
              "      <td>EMERGENCY</td>\n",
              "      <td>NaT</td>\n",
              "      <td>NaN</td>\n",
              "      <td>NaN</td>\n",
              "    </tr>\n",
              "    <tr>\n",
              "      <th>43</th>\n",
              "      <td>43</td>\n",
              "      <td>146828</td>\n",
              "      <td>2186-10-01 23:15:00</td>\n",
              "      <td>2186-10-11 18:00:00</td>\n",
              "      <td>NaT</td>\n",
              "      <td>EMERGENCY</td>\n",
              "      <td>NaT</td>\n",
              "      <td>NaN</td>\n",
              "      <td>NaN</td>\n",
              "    </tr>\n",
              "    <tr>\n",
              "      <th>44</th>\n",
              "      <td>44</td>\n",
              "      <td>181750</td>\n",
              "      <td>2192-11-19 18:14:00</td>\n",
              "      <td>2192-11-27 14:35:00</td>\n",
              "      <td>NaT</td>\n",
              "      <td>EMERGENCY</td>\n",
              "      <td>NaT</td>\n",
              "      <td>NaN</td>\n",
              "      <td>NaN</td>\n",
              "    </tr>\n",
              "    <tr>\n",
              "      <th>45</th>\n",
              "      <td>45</td>\n",
              "      <td>157907</td>\n",
              "      <td>2129-06-10 00:32:00</td>\n",
              "      <td>2129-06-20 14:39:00</td>\n",
              "      <td>NaT</td>\n",
              "      <td>EMERGENCY</td>\n",
              "      <td>NaT</td>\n",
              "      <td>NaN</td>\n",
              "      <td>NaN</td>\n",
              "    </tr>\n",
              "    <tr>\n",
              "      <th>46</th>\n",
              "      <td>46</td>\n",
              "      <td>144073</td>\n",
              "      <td>2133-02-20 18:21:00</td>\n",
              "      <td>2133-02-24 14:42:00</td>\n",
              "      <td>NaT</td>\n",
              "      <td>EMERGENCY</td>\n",
              "      <td>NaT</td>\n",
              "      <td>NaN</td>\n",
              "      <td>NaN</td>\n",
              "    </tr>\n",
              "    <tr>\n",
              "      <th>47</th>\n",
              "      <td>49</td>\n",
              "      <td>190539</td>\n",
              "      <td>2186-11-21 07:15:00</td>\n",
              "      <td>2186-11-28 14:05:00</td>\n",
              "      <td>NaT</td>\n",
              "      <td>ELECTIVE</td>\n",
              "      <td>NaT</td>\n",
              "      <td>NaN</td>\n",
              "      <td>NaN</td>\n",
              "    </tr>\n",
              "    <tr>\n",
              "      <th>48</th>\n",
              "      <td>50</td>\n",
              "      <td>132761</td>\n",
              "      <td>2112-06-23 19:40:00</td>\n",
              "      <td>2112-06-26 10:15:00</td>\n",
              "      <td>NaT</td>\n",
              "      <td>NEWBORN</td>\n",
              "      <td>NaT</td>\n",
              "      <td>NaN</td>\n",
              "      <td>NaN</td>\n",
              "    </tr>\n",
              "    <tr>\n",
              "      <th>49</th>\n",
              "      <td>51</td>\n",
              "      <td>196010</td>\n",
              "      <td>2128-11-30 10:28:00</td>\n",
              "      <td>2128-12-02 12:35:00</td>\n",
              "      <td>NaT</td>\n",
              "      <td>NEWBORN</td>\n",
              "      <td>NaT</td>\n",
              "      <td>NaN</td>\n",
              "      <td>NaN</td>\n",
              "    </tr>\n",
              "  </tbody>\n",
              "</table>\n",
              "</div>"
            ],
            "text/plain": [
              "    SUBJECT_ID  HADM_ID  ... NEXT_ADM_TYPE DAYS_NEXT_ADMIT\n",
              "0            2   163353  ...           NaN             NaN\n",
              "1            3   145834  ...           NaN             NaN\n",
              "2            4   185777  ...           NaN             NaN\n",
              "3            5   178980  ...           NaN             NaN\n",
              "4            6   107064  ...           NaN             NaN\n",
              "5            7   118037  ...           NaN             NaN\n",
              "6            8   159514  ...           NaN             NaN\n",
              "7            9   150750  ...           NaN             NaN\n",
              "8           10   184167  ...           NaN             NaN\n",
              "9           11   194540  ...           NaN             NaN\n",
              "10          12   112213  ...           NaN             NaN\n",
              "11          13   143045  ...           NaN             NaN\n",
              "12          16   103251  ...           NaN             NaN\n",
              "13          17   194023  ...     EMERGENCY           128.0\n",
              "14          17   161087  ...           NaN             NaN\n",
              "15          18   188822  ...           NaN             NaN\n",
              "16          19   109235  ...           NaN             NaN\n",
              "17          20   157681  ...           NaN             NaN\n",
              "18          21   109451  ...     EMERGENCY           128.0\n",
              "19          21   111970  ...           NaN             NaN\n",
              "20          22   165315  ...           NaN             NaN\n",
              "21          23   152223  ...     EMERGENCY          1501.0\n",
              "22          23   124321  ...           NaN             NaN\n",
              "23          24   161859  ...           NaN             NaN\n",
              "24          25   129635  ...           NaN             NaN\n",
              "25          26   197661  ...           NaN             NaN\n",
              "26          27   134931  ...           NaN             NaN\n",
              "27          28   162569  ...           NaN             NaN\n",
              "28          30   104557  ...           NaN             NaN\n",
              "29          31   128652  ...           NaN             NaN\n",
              "30          32   175413  ...           NaN             NaN\n",
              "31          33   176176  ...           NaN             NaN\n",
              "32          34   115799  ...     EMERGENCY          1678.0\n",
              "33          34   144319  ...           NaN             NaN\n",
              "34          35   166707  ...           NaN             NaN\n",
              "35          36   182104  ...     EMERGENCY             4.0\n",
              "36          36   122659  ...           NaN             NaN\n",
              "37          36   165660  ...           NaN             NaN\n",
              "38          37   188670  ...           NaN             NaN\n",
              "39          38   185910  ...           NaN             NaN\n",
              "40          39   106266  ...           NaN             NaN\n",
              "41          41   101757  ...           NaN             NaN\n",
              "42          42   119203  ...           NaN             NaN\n",
              "43          43   146828  ...           NaN             NaN\n",
              "44          44   181750  ...           NaN             NaN\n",
              "45          45   157907  ...           NaN             NaN\n",
              "46          46   144073  ...           NaN             NaN\n",
              "47          49   190539  ...           NaN             NaN\n",
              "48          50   132761  ...           NaN             NaN\n",
              "49          51   196010  ...           NaN             NaN\n",
              "\n",
              "[50 rows x 9 columns]"
            ]
          },
          "metadata": {
            "tags": []
          },
          "execution_count": 24
        }
      ]
    },
    {
      "cell_type": "markdown",
      "metadata": {
        "id": "FrEuA_KaAKbs"
      },
      "source": [
        "## EDA for note events tabel from mimic-3"
      ]
    },
    {
      "cell_type": "code",
      "metadata": {
        "id": "mrb1081GLK5C"
      },
      "source": [
        "use_cols = ['SUBJECT_ID', 'HADM_ID', 'CATEGORY', 'TEXT']"
      ],
      "execution_count": null,
      "outputs": []
    },
    {
      "cell_type": "code",
      "metadata": {
        "id": "mNVtISqxI_W8"
      },
      "source": [
        "notes = pd.read_csv('/content/drive/My Drive/Colab Notebooks/619_nlp/MIMIC-III/NOTEEVENTS.csv', usecols = use_cols, engine='c', low_memory=False)"
      ],
      "execution_count": null,
      "outputs": []
    },
    {
      "cell_type": "code",
      "metadata": {
        "id": "qzOMCCUQMgiV",
        "colab": {
          "base_uri": "https://localhost:8080/",
          "height": 359
        },
        "outputId": "4dea8b16-7a19-4686-a593-9c1cf8d8d98b"
      },
      "source": [
        "notes.head(10)"
      ],
      "execution_count": null,
      "outputs": [
        {
          "output_type": "execute_result",
          "data": {
            "text/html": [
              "<div>\n",
              "<style scoped>\n",
              "    .dataframe tbody tr th:only-of-type {\n",
              "        vertical-align: middle;\n",
              "    }\n",
              "\n",
              "    .dataframe tbody tr th {\n",
              "        vertical-align: top;\n",
              "    }\n",
              "\n",
              "    .dataframe thead th {\n",
              "        text-align: right;\n",
              "    }\n",
              "</style>\n",
              "<table border=\"1\" class=\"dataframe\">\n",
              "  <thead>\n",
              "    <tr style=\"text-align: right;\">\n",
              "      <th></th>\n",
              "      <th>SUBJECT_ID</th>\n",
              "      <th>HADM_ID</th>\n",
              "      <th>CATEGORY</th>\n",
              "      <th>TEXT</th>\n",
              "    </tr>\n",
              "  </thead>\n",
              "  <tbody>\n",
              "    <tr>\n",
              "      <th>0</th>\n",
              "      <td>22532</td>\n",
              "      <td>167853.0</td>\n",
              "      <td>Discharge summary</td>\n",
              "      <td>Admission Date:  [**2151-7-16**]       Dischar...</td>\n",
              "    </tr>\n",
              "    <tr>\n",
              "      <th>1</th>\n",
              "      <td>13702</td>\n",
              "      <td>107527.0</td>\n",
              "      <td>Discharge summary</td>\n",
              "      <td>Admission Date:  [**2118-6-2**]       Discharg...</td>\n",
              "    </tr>\n",
              "    <tr>\n",
              "      <th>2</th>\n",
              "      <td>13702</td>\n",
              "      <td>167118.0</td>\n",
              "      <td>Discharge summary</td>\n",
              "      <td>Admission Date:  [**2119-5-4**]              D...</td>\n",
              "    </tr>\n",
              "    <tr>\n",
              "      <th>3</th>\n",
              "      <td>13702</td>\n",
              "      <td>196489.0</td>\n",
              "      <td>Discharge summary</td>\n",
              "      <td>Admission Date:  [**2124-7-21**]              ...</td>\n",
              "    </tr>\n",
              "    <tr>\n",
              "      <th>4</th>\n",
              "      <td>26880</td>\n",
              "      <td>135453.0</td>\n",
              "      <td>Discharge summary</td>\n",
              "      <td>Admission Date:  [**2162-3-3**]              D...</td>\n",
              "    </tr>\n",
              "    <tr>\n",
              "      <th>5</th>\n",
              "      <td>53181</td>\n",
              "      <td>170490.0</td>\n",
              "      <td>Discharge summary</td>\n",
              "      <td>Admission Date:  [**2172-3-5**]              D...</td>\n",
              "    </tr>\n",
              "    <tr>\n",
              "      <th>6</th>\n",
              "      <td>20646</td>\n",
              "      <td>134727.0</td>\n",
              "      <td>Discharge summary</td>\n",
              "      <td>Admission Date:  [**2112-12-8**]              ...</td>\n",
              "    </tr>\n",
              "    <tr>\n",
              "      <th>7</th>\n",
              "      <td>42130</td>\n",
              "      <td>114236.0</td>\n",
              "      <td>Discharge summary</td>\n",
              "      <td>Admission Date:  [**2150-2-25**]              ...</td>\n",
              "    </tr>\n",
              "    <tr>\n",
              "      <th>8</th>\n",
              "      <td>56174</td>\n",
              "      <td>163469.0</td>\n",
              "      <td>Discharge summary</td>\n",
              "      <td>Admission Date:  [**2118-8-10**]              ...</td>\n",
              "    </tr>\n",
              "    <tr>\n",
              "      <th>9</th>\n",
              "      <td>56174</td>\n",
              "      <td>189681.0</td>\n",
              "      <td>Discharge summary</td>\n",
              "      <td>Admission Date:  [**2118-12-7**]              ...</td>\n",
              "    </tr>\n",
              "  </tbody>\n",
              "</table>\n",
              "</div>"
            ],
            "text/plain": [
              "   SUBJECT_ID  ...                                               TEXT\n",
              "0       22532  ...  Admission Date:  [**2151-7-16**]       Dischar...\n",
              "1       13702  ...  Admission Date:  [**2118-6-2**]       Discharg...\n",
              "2       13702  ...  Admission Date:  [**2119-5-4**]              D...\n",
              "3       13702  ...  Admission Date:  [**2124-7-21**]              ...\n",
              "4       26880  ...  Admission Date:  [**2162-3-3**]              D...\n",
              "5       53181  ...  Admission Date:  [**2172-3-5**]              D...\n",
              "6       20646  ...  Admission Date:  [**2112-12-8**]              ...\n",
              "7       42130  ...  Admission Date:  [**2150-2-25**]              ...\n",
              "8       56174  ...  Admission Date:  [**2118-8-10**]              ...\n",
              "9       56174  ...  Admission Date:  [**2118-12-7**]              ...\n",
              "\n",
              "[10 rows x 4 columns]"
            ]
          },
          "metadata": {
            "tags": []
          },
          "execution_count": 27
        }
      ]
    },
    {
      "cell_type": "code",
      "metadata": {
        "id": "gZ1U8xi3Othz",
        "colab": {
          "base_uri": "https://localhost:8080/",
          "height": 204
        },
        "outputId": "14cd911a-eeb9-4a5f-b38d-704c1d9dff6c"
      },
      "source": [
        "notes.info()"
      ],
      "execution_count": null,
      "outputs": [
        {
          "output_type": "stream",
          "text": [
            "<class 'pandas.core.frame.DataFrame'>\n",
            "RangeIndex: 2083180 entries, 0 to 2083179\n",
            "Data columns (total 4 columns):\n",
            " #   Column      Dtype  \n",
            "---  ------      -----  \n",
            " 0   SUBJECT_ID  int64  \n",
            " 1   HADM_ID     float64\n",
            " 2   CATEGORY    object \n",
            " 3   TEXT        object \n",
            "dtypes: float64(1), int64(1), object(2)\n",
            "memory usage: 63.6+ MB\n"
          ],
          "name": "stdout"
        }
      ]
    },
    {
      "cell_type": "code",
      "metadata": {
        "id": "IieZNA5QAgvx",
        "colab": {
          "base_uri": "https://localhost:8080/",
          "height": 34
        },
        "outputId": "85cc44dc-8c2a-4915-a86e-f20f69a61706"
      },
      "source": [
        "notes.shape"
      ],
      "execution_count": null,
      "outputs": [
        {
          "output_type": "execute_result",
          "data": {
            "text/plain": [
              "(2083180, 4)"
            ]
          },
          "metadata": {
            "tags": []
          },
          "execution_count": 29
        }
      ]
    },
    {
      "cell_type": "code",
      "metadata": {
        "id": "AAGyqcuuNCro",
        "colab": {
          "base_uri": "https://localhost:8080/",
          "height": 289
        },
        "outputId": "28f26251-6a69-4862-fb5e-aea53681f391"
      },
      "source": [
        "notes['CATEGORY'].value_counts()"
      ],
      "execution_count": null,
      "outputs": [
        {
          "output_type": "execute_result",
          "data": {
            "text/plain": [
              "Nursing/other        822497\n",
              "Radiology            522279\n",
              "Nursing              223556\n",
              "ECG                  209051\n",
              "Physician            141624\n",
              "Discharge summary     59652\n",
              "Echo                  45794\n",
              "Respiratory           31739\n",
              "Nutrition              9418\n",
              "General                8301\n",
              "Rehab Services         5431\n",
              "Social Work            2670\n",
              "Case Management         967\n",
              "Pharmacy                103\n",
              "Consult                  98\n",
              "Name: CATEGORY, dtype: int64"
            ]
          },
          "metadata": {
            "tags": []
          },
          "execution_count": 30
        }
      ]
    },
    {
      "cell_type": "code",
      "metadata": {
        "id": "E7opk0H7NiKz"
      },
      "source": [
        "notes_dis = notes[notes['CATEGORY'] == 'Discharge summary']"
      ],
      "execution_count": null,
      "outputs": []
    },
    {
      "cell_type": "code",
      "metadata": {
        "id": "3JBtbgaaNyma",
        "colab": {
          "base_uri": "https://localhost:8080/",
          "height": 204
        },
        "outputId": "d584a756-3924-40ab-b465-47899d334558"
      },
      "source": [
        "notes_dis.head()"
      ],
      "execution_count": null,
      "outputs": [
        {
          "output_type": "execute_result",
          "data": {
            "text/html": [
              "<div>\n",
              "<style scoped>\n",
              "    .dataframe tbody tr th:only-of-type {\n",
              "        vertical-align: middle;\n",
              "    }\n",
              "\n",
              "    .dataframe tbody tr th {\n",
              "        vertical-align: top;\n",
              "    }\n",
              "\n",
              "    .dataframe thead th {\n",
              "        text-align: right;\n",
              "    }\n",
              "</style>\n",
              "<table border=\"1\" class=\"dataframe\">\n",
              "  <thead>\n",
              "    <tr style=\"text-align: right;\">\n",
              "      <th></th>\n",
              "      <th>SUBJECT_ID</th>\n",
              "      <th>HADM_ID</th>\n",
              "      <th>CATEGORY</th>\n",
              "      <th>TEXT</th>\n",
              "    </tr>\n",
              "  </thead>\n",
              "  <tbody>\n",
              "    <tr>\n",
              "      <th>0</th>\n",
              "      <td>22532</td>\n",
              "      <td>167853.0</td>\n",
              "      <td>Discharge summary</td>\n",
              "      <td>Admission Date:  [**2151-7-16**]       Dischar...</td>\n",
              "    </tr>\n",
              "    <tr>\n",
              "      <th>1</th>\n",
              "      <td>13702</td>\n",
              "      <td>107527.0</td>\n",
              "      <td>Discharge summary</td>\n",
              "      <td>Admission Date:  [**2118-6-2**]       Discharg...</td>\n",
              "    </tr>\n",
              "    <tr>\n",
              "      <th>2</th>\n",
              "      <td>13702</td>\n",
              "      <td>167118.0</td>\n",
              "      <td>Discharge summary</td>\n",
              "      <td>Admission Date:  [**2119-5-4**]              D...</td>\n",
              "    </tr>\n",
              "    <tr>\n",
              "      <th>3</th>\n",
              "      <td>13702</td>\n",
              "      <td>196489.0</td>\n",
              "      <td>Discharge summary</td>\n",
              "      <td>Admission Date:  [**2124-7-21**]              ...</td>\n",
              "    </tr>\n",
              "    <tr>\n",
              "      <th>4</th>\n",
              "      <td>26880</td>\n",
              "      <td>135453.0</td>\n",
              "      <td>Discharge summary</td>\n",
              "      <td>Admission Date:  [**2162-3-3**]              D...</td>\n",
              "    </tr>\n",
              "  </tbody>\n",
              "</table>\n",
              "</div>"
            ],
            "text/plain": [
              "   SUBJECT_ID  ...                                               TEXT\n",
              "0       22532  ...  Admission Date:  [**2151-7-16**]       Dischar...\n",
              "1       13702  ...  Admission Date:  [**2118-6-2**]       Discharg...\n",
              "2       13702  ...  Admission Date:  [**2119-5-4**]              D...\n",
              "3       13702  ...  Admission Date:  [**2124-7-21**]              ...\n",
              "4       26880  ...  Admission Date:  [**2162-3-3**]              D...\n",
              "\n",
              "[5 rows x 4 columns]"
            ]
          },
          "metadata": {
            "tags": []
          },
          "execution_count": 32
        }
      ]
    },
    {
      "cell_type": "code",
      "metadata": {
        "id": "rOYBf0jiN1x-",
        "colab": {
          "base_uri": "https://localhost:8080/",
          "height": 204
        },
        "outputId": "5ecaff9e-5021-4737-eed3-d31e59264b05"
      },
      "source": [
        "notes_dis.info()"
      ],
      "execution_count": null,
      "outputs": [
        {
          "output_type": "stream",
          "text": [
            "<class 'pandas.core.frame.DataFrame'>\n",
            "Int64Index: 59652 entries, 0 to 60415\n",
            "Data columns (total 4 columns):\n",
            " #   Column      Non-Null Count  Dtype  \n",
            "---  ------      --------------  -----  \n",
            " 0   SUBJECT_ID  59652 non-null  int64  \n",
            " 1   HADM_ID     59652 non-null  float64\n",
            " 2   CATEGORY    59652 non-null  object \n",
            " 3   TEXT        59652 non-null  object \n",
            "dtypes: float64(1), int64(1), object(2)\n",
            "memory usage: 2.3+ MB\n"
          ],
          "name": "stdout"
        }
      ]
    },
    {
      "cell_type": "code",
      "metadata": {
        "id": "VjBJKbmGB24k",
        "colab": {
          "base_uri": "https://localhost:8080/",
          "height": 34
        },
        "outputId": "8eb98299-eb4c-4b9e-c368-2f07a9e1adfe"
      },
      "source": [
        "notes_dis.shape"
      ],
      "execution_count": null,
      "outputs": [
        {
          "output_type": "execute_result",
          "data": {
            "text/plain": [
              "(59652, 4)"
            ]
          },
          "metadata": {
            "tags": []
          },
          "execution_count": 34
        }
      ]
    },
    {
      "cell_type": "markdown",
      "metadata": {
        "id": "ZxlImWWVCngz"
      },
      "source": [
        "Get only last discharge notes for each adm_id for same patient"
      ]
    },
    {
      "cell_type": "code",
      "metadata": {
        "id": "i9otPM1lOQeZ"
      },
      "source": [
        "notes_dis_last = (notes_dis.groupby(['SUBJECT_ID','HADM_ID']).nth(-1)).reset_index()"
      ],
      "execution_count": null,
      "outputs": []
    },
    {
      "cell_type": "code",
      "metadata": {
        "id": "0GpKc5qnFR08",
        "colab": {
          "base_uri": "https://localhost:8080/",
          "height": 359
        },
        "outputId": "d069fa69-ac85-4b67-9e43-cf547c8cc217"
      },
      "source": [
        "notes_dis_last.head(10)"
      ],
      "execution_count": null,
      "outputs": [
        {
          "output_type": "execute_result",
          "data": {
            "text/html": [
              "<div>\n",
              "<style scoped>\n",
              "    .dataframe tbody tr th:only-of-type {\n",
              "        vertical-align: middle;\n",
              "    }\n",
              "\n",
              "    .dataframe tbody tr th {\n",
              "        vertical-align: top;\n",
              "    }\n",
              "\n",
              "    .dataframe thead th {\n",
              "        text-align: right;\n",
              "    }\n",
              "</style>\n",
              "<table border=\"1\" class=\"dataframe\">\n",
              "  <thead>\n",
              "    <tr style=\"text-align: right;\">\n",
              "      <th></th>\n",
              "      <th>SUBJECT_ID</th>\n",
              "      <th>HADM_ID</th>\n",
              "      <th>CATEGORY</th>\n",
              "      <th>TEXT</th>\n",
              "    </tr>\n",
              "  </thead>\n",
              "  <tbody>\n",
              "    <tr>\n",
              "      <th>0</th>\n",
              "      <td>3</td>\n",
              "      <td>145834.0</td>\n",
              "      <td>Discharge summary</td>\n",
              "      <td>Admission Date:  [**2101-10-20**]     Discharg...</td>\n",
              "    </tr>\n",
              "    <tr>\n",
              "      <th>1</th>\n",
              "      <td>4</td>\n",
              "      <td>185777.0</td>\n",
              "      <td>Discharge summary</td>\n",
              "      <td>Admission Date:  [**2191-3-16**]     Discharge...</td>\n",
              "    </tr>\n",
              "    <tr>\n",
              "      <th>2</th>\n",
              "      <td>6</td>\n",
              "      <td>107064.0</td>\n",
              "      <td>Discharge summary</td>\n",
              "      <td>Admission Date: [**2175-5-30**]        Dischar...</td>\n",
              "    </tr>\n",
              "    <tr>\n",
              "      <th>3</th>\n",
              "      <td>9</td>\n",
              "      <td>150750.0</td>\n",
              "      <td>Discharge summary</td>\n",
              "      <td>Name:  [**Known lastname 10050**], [**Known fi...</td>\n",
              "    </tr>\n",
              "    <tr>\n",
              "      <th>4</th>\n",
              "      <td>10</td>\n",
              "      <td>184167.0</td>\n",
              "      <td>Discharge summary</td>\n",
              "      <td>Admission Date:  [**2103-6-28**]       Dischar...</td>\n",
              "    </tr>\n",
              "    <tr>\n",
              "      <th>5</th>\n",
              "      <td>11</td>\n",
              "      <td>194540.0</td>\n",
              "      <td>Discharge summary</td>\n",
              "      <td>Admission Date:  [**2178-4-16**]              ...</td>\n",
              "    </tr>\n",
              "    <tr>\n",
              "      <th>6</th>\n",
              "      <td>12</td>\n",
              "      <td>112213.0</td>\n",
              "      <td>Discharge summary</td>\n",
              "      <td>Admission Date:  [**2104-8-7**]     Discharge ...</td>\n",
              "    </tr>\n",
              "    <tr>\n",
              "      <th>7</th>\n",
              "      <td>13</td>\n",
              "      <td>143045.0</td>\n",
              "      <td>Discharge summary</td>\n",
              "      <td>Name:  [**Known lastname 9900**], [**Known fir...</td>\n",
              "    </tr>\n",
              "    <tr>\n",
              "      <th>8</th>\n",
              "      <td>17</td>\n",
              "      <td>161087.0</td>\n",
              "      <td>Discharge summary</td>\n",
              "      <td>Admission Date:  [**2135-5-9**]              D...</td>\n",
              "    </tr>\n",
              "    <tr>\n",
              "      <th>9</th>\n",
              "      <td>17</td>\n",
              "      <td>194023.0</td>\n",
              "      <td>Discharge summary</td>\n",
              "      <td>Admission Date:  [**2134-12-27**]             ...</td>\n",
              "    </tr>\n",
              "  </tbody>\n",
              "</table>\n",
              "</div>"
            ],
            "text/plain": [
              "   SUBJECT_ID  ...                                               TEXT\n",
              "0           3  ...  Admission Date:  [**2101-10-20**]     Discharg...\n",
              "1           4  ...  Admission Date:  [**2191-3-16**]     Discharge...\n",
              "2           6  ...  Admission Date: [**2175-5-30**]        Dischar...\n",
              "3           9  ...  Name:  [**Known lastname 10050**], [**Known fi...\n",
              "4          10  ...  Admission Date:  [**2103-6-28**]       Dischar...\n",
              "5          11  ...  Admission Date:  [**2178-4-16**]              ...\n",
              "6          12  ...  Admission Date:  [**2104-8-7**]     Discharge ...\n",
              "7          13  ...  Name:  [**Known lastname 9900**], [**Known fir...\n",
              "8          17  ...  Admission Date:  [**2135-5-9**]              D...\n",
              "9          17  ...  Admission Date:  [**2134-12-27**]             ...\n",
              "\n",
              "[10 rows x 4 columns]"
            ]
          },
          "metadata": {
            "tags": []
          },
          "execution_count": 36
        }
      ]
    },
    {
      "cell_type": "code",
      "metadata": {
        "id": "ZIUAab64PvyM",
        "colab": {
          "base_uri": "https://localhost:8080/",
          "height": 34
        },
        "outputId": "271e38b9-caa7-4ea4-b6c6-1d932540ad78"
      },
      "source": [
        "notes_dis_last.shape"
      ],
      "execution_count": null,
      "outputs": [
        {
          "output_type": "execute_result",
          "data": {
            "text/plain": [
              "(52726, 4)"
            ]
          },
          "metadata": {
            "tags": []
          },
          "execution_count": 37
        }
      ]
    },
    {
      "cell_type": "code",
      "metadata": {
        "id": "3bAw-a8jRo83",
        "colab": {
          "base_uri": "https://localhost:8080/",
          "height": 34
        },
        "outputId": "2e1dab38-61a3-4510-9cc0-6cdd61d530fc"
      },
      "source": [
        "notes_dis_last.duplicated(['HADM_ID']).sum()"
      ],
      "execution_count": null,
      "outputs": [
        {
          "output_type": "execute_result",
          "data": {
            "text/plain": [
              "0"
            ]
          },
          "metadata": {
            "tags": []
          },
          "execution_count": 38
        }
      ]
    },
    {
      "cell_type": "markdown",
      "metadata": {
        "id": "OE_dZf7pSxyo"
      },
      "source": [
        "## Merging adm & note events df"
      ]
    },
    {
      "cell_type": "code",
      "metadata": {
        "id": "agElfqVdSpZJ"
      },
      "source": [
        "adm_notes = pd.merge(adm, notes_dis_last, on=['SUBJECT_ID', 'HADM_ID'], how='left')"
      ],
      "execution_count": null,
      "outputs": []
    },
    {
      "cell_type": "code",
      "metadata": {
        "id": "1Prcm3ELT5mF",
        "colab": {
          "base_uri": "https://localhost:8080/",
          "height": 34
        },
        "outputId": "76ffb3e6-8666-4d03-d75a-3cbbddf2e2d7"
      },
      "source": [
        "adm_notes.shape"
      ],
      "execution_count": null,
      "outputs": [
        {
          "output_type": "execute_result",
          "data": {
            "text/plain": [
              "(58976, 11)"
            ]
          },
          "metadata": {
            "tags": []
          },
          "execution_count": 41
        }
      ]
    },
    {
      "cell_type": "code",
      "metadata": {
        "id": "KvyEZrz0T--q",
        "colab": {
          "base_uri": "https://localhost:8080/",
          "height": 34
        },
        "outputId": "d5eece94-1622-42a2-caf7-6c12f2442831"
      },
      "source": [
        "adm_notes['TEXT'].isnull().sum()"
      ],
      "execution_count": null,
      "outputs": [
        {
          "output_type": "execute_result",
          "data": {
            "text/plain": [
              "6250"
            ]
          },
          "metadata": {
            "tags": []
          },
          "execution_count": 42
        }
      ]
    },
    {
      "cell_type": "code",
      "metadata": {
        "id": "CkpvEva4UFtG",
        "colab": {
          "base_uri": "https://localhost:8080/",
          "height": 34
        },
        "outputId": "9cf4156c-2e56-4147-87af-ef1dfd5792e4"
      },
      "source": [
        "adm_notes['TEXT'].isnull().sum() / len(adm_notes)\n",
        "# 10% are null notes"
      ],
      "execution_count": null,
      "outputs": [
        {
          "output_type": "execute_result",
          "data": {
            "text/plain": [
              "0.1059753119913185"
            ]
          },
          "metadata": {
            "tags": []
          },
          "execution_count": 43
        }
      ]
    },
    {
      "cell_type": "code",
      "metadata": {
        "id": "lACZRFFnUf9f",
        "colab": {
          "base_uri": "https://localhost:8080/",
          "height": 119
        },
        "outputId": "dda76ba6-f5a2-46c3-8372-cb670518bf35"
      },
      "source": [
        "# check which type of adm has no discharge summary\n",
        "adm_notes.groupby('ADMISSION_TYPE').apply(lambda g: g['TEXT'].isnull().sum())"
      ],
      "execution_count": null,
      "outputs": [
        {
          "output_type": "execute_result",
          "data": {
            "text/plain": [
              "ADMISSION_TYPE\n",
              "ELECTIVE      375\n",
              "EMERGENCY    1598\n",
              "NEWBORN      4220\n",
              "URGENT         57\n",
              "dtype: int64"
            ]
          },
          "metadata": {
            "tags": []
          },
          "execution_count": 44
        }
      ]
    },
    {
      "cell_type": "code",
      "metadata": {
        "id": "x_7bJniOUthW",
        "colab": {
          "base_uri": "https://localhost:8080/",
          "height": 119
        },
        "outputId": "5637cbb4-6a06-4401-fc0c-69b8c2610ae1"
      },
      "source": [
        "adm_notes.groupby('ADMISSION_TYPE').size()"
      ],
      "execution_count": null,
      "outputs": [
        {
          "output_type": "execute_result",
          "data": {
            "text/plain": [
              "ADMISSION_TYPE\n",
              "ELECTIVE      7706\n",
              "EMERGENCY    42071\n",
              "NEWBORN       7863\n",
              "URGENT        1336\n",
              "dtype: int64"
            ]
          },
          "metadata": {
            "tags": []
          },
          "execution_count": 45
        }
      ]
    },
    {
      "cell_type": "code",
      "metadata": {
        "id": "go5bW_aVagiD",
        "colab": {
          "base_uri": "https://localhost:8080/",
          "height": 119
        },
        "outputId": "53f63d3c-3d0c-4d06-aef0-d0f5288d0ed8"
      },
      "source": [
        "adm_notes.groupby('ADMISSION_TYPE').apply(lambda g: g.TEXT.isnull().sum())/adm_notes.groupby('ADMISSION_TYPE').size()"
      ],
      "execution_count": null,
      "outputs": [
        {
          "output_type": "execute_result",
          "data": {
            "text/plain": [
              "ADMISSION_TYPE\n",
              "ELECTIVE     0.048663\n",
              "EMERGENCY    0.037983\n",
              "NEWBORN      0.536691\n",
              "URGENT       0.042665\n",
              "dtype: float64"
            ]
          },
          "metadata": {
            "tags": []
          },
          "execution_count": 46
        }
      ]
    },
    {
      "cell_type": "code",
      "metadata": {
        "id": "ym39BGCyakSZ",
        "colab": {
          "base_uri": "https://localhost:8080/",
          "height": 529
        },
        "outputId": "306bef3c-fba3-4a30-b14b-80cbef407de3"
      },
      "source": [
        "adm_notes_clean = adm_notes.loc[adm_notes['ADMISSION_TYPE'] != \"NEWBORN\"]\n",
        "adm_notes_clean.head(10)"
      ],
      "execution_count": null,
      "outputs": [
        {
          "output_type": "execute_result",
          "data": {
            "text/html": [
              "<div>\n",
              "<style scoped>\n",
              "    .dataframe tbody tr th:only-of-type {\n",
              "        vertical-align: middle;\n",
              "    }\n",
              "\n",
              "    .dataframe tbody tr th {\n",
              "        vertical-align: top;\n",
              "    }\n",
              "\n",
              "    .dataframe thead th {\n",
              "        text-align: right;\n",
              "    }\n",
              "</style>\n",
              "<table border=\"1\" class=\"dataframe\">\n",
              "  <thead>\n",
              "    <tr style=\"text-align: right;\">\n",
              "      <th></th>\n",
              "      <th>SUBJECT_ID</th>\n",
              "      <th>HADM_ID</th>\n",
              "      <th>ADMITTIME</th>\n",
              "      <th>DISCHTIME</th>\n",
              "      <th>DEATHTIME</th>\n",
              "      <th>ADMISSION_TYPE</th>\n",
              "      <th>NEXT_ADMITTIME</th>\n",
              "      <th>NEXT_ADM_TYPE</th>\n",
              "      <th>DAYS_NEXT_ADMIT</th>\n",
              "      <th>CATEGORY</th>\n",
              "      <th>TEXT</th>\n",
              "    </tr>\n",
              "  </thead>\n",
              "  <tbody>\n",
              "    <tr>\n",
              "      <th>1</th>\n",
              "      <td>3</td>\n",
              "      <td>145834</td>\n",
              "      <td>2101-10-20 19:08:00</td>\n",
              "      <td>2101-10-31 13:58:00</td>\n",
              "      <td>NaT</td>\n",
              "      <td>EMERGENCY</td>\n",
              "      <td>NaT</td>\n",
              "      <td>NaN</td>\n",
              "      <td>NaN</td>\n",
              "      <td>Discharge summary</td>\n",
              "      <td>Admission Date:  [**2101-10-20**]     Discharg...</td>\n",
              "    </tr>\n",
              "    <tr>\n",
              "      <th>2</th>\n",
              "      <td>4</td>\n",
              "      <td>185777</td>\n",
              "      <td>2191-03-16 00:28:00</td>\n",
              "      <td>2191-03-23 18:41:00</td>\n",
              "      <td>NaT</td>\n",
              "      <td>EMERGENCY</td>\n",
              "      <td>NaT</td>\n",
              "      <td>NaN</td>\n",
              "      <td>NaN</td>\n",
              "      <td>Discharge summary</td>\n",
              "      <td>Admission Date:  [**2191-3-16**]     Discharge...</td>\n",
              "    </tr>\n",
              "    <tr>\n",
              "      <th>4</th>\n",
              "      <td>6</td>\n",
              "      <td>107064</td>\n",
              "      <td>2175-05-30 07:15:00</td>\n",
              "      <td>2175-06-15 16:00:00</td>\n",
              "      <td>NaT</td>\n",
              "      <td>ELECTIVE</td>\n",
              "      <td>NaT</td>\n",
              "      <td>NaN</td>\n",
              "      <td>NaN</td>\n",
              "      <td>Discharge summary</td>\n",
              "      <td>Admission Date: [**2175-5-30**]        Dischar...</td>\n",
              "    </tr>\n",
              "    <tr>\n",
              "      <th>7</th>\n",
              "      <td>9</td>\n",
              "      <td>150750</td>\n",
              "      <td>2149-11-09 13:06:00</td>\n",
              "      <td>2149-11-14 10:15:00</td>\n",
              "      <td>2149-11-14 10:15:00</td>\n",
              "      <td>EMERGENCY</td>\n",
              "      <td>NaT</td>\n",
              "      <td>NaN</td>\n",
              "      <td>NaN</td>\n",
              "      <td>Discharge summary</td>\n",
              "      <td>Name:  [**Known lastname 10050**], [**Known fi...</td>\n",
              "    </tr>\n",
              "    <tr>\n",
              "      <th>9</th>\n",
              "      <td>11</td>\n",
              "      <td>194540</td>\n",
              "      <td>2178-04-16 06:18:00</td>\n",
              "      <td>2178-05-11 19:00:00</td>\n",
              "      <td>NaT</td>\n",
              "      <td>EMERGENCY</td>\n",
              "      <td>NaT</td>\n",
              "      <td>NaN</td>\n",
              "      <td>NaN</td>\n",
              "      <td>Discharge summary</td>\n",
              "      <td>Admission Date:  [**2178-4-16**]              ...</td>\n",
              "    </tr>\n",
              "    <tr>\n",
              "      <th>10</th>\n",
              "      <td>12</td>\n",
              "      <td>112213</td>\n",
              "      <td>2104-08-07 10:15:00</td>\n",
              "      <td>2104-08-20 02:57:00</td>\n",
              "      <td>2104-08-20 02:57:00</td>\n",
              "      <td>ELECTIVE</td>\n",
              "      <td>NaT</td>\n",
              "      <td>NaN</td>\n",
              "      <td>NaN</td>\n",
              "      <td>Discharge summary</td>\n",
              "      <td>Admission Date:  [**2104-8-7**]     Discharge ...</td>\n",
              "    </tr>\n",
              "    <tr>\n",
              "      <th>11</th>\n",
              "      <td>13</td>\n",
              "      <td>143045</td>\n",
              "      <td>2167-01-08 18:43:00</td>\n",
              "      <td>2167-01-15 15:15:00</td>\n",
              "      <td>NaT</td>\n",
              "      <td>EMERGENCY</td>\n",
              "      <td>NaT</td>\n",
              "      <td>NaN</td>\n",
              "      <td>NaN</td>\n",
              "      <td>Discharge summary</td>\n",
              "      <td>Name:  [**Known lastname 9900**], [**Known fir...</td>\n",
              "    </tr>\n",
              "    <tr>\n",
              "      <th>13</th>\n",
              "      <td>17</td>\n",
              "      <td>194023</td>\n",
              "      <td>2134-12-27 07:15:00</td>\n",
              "      <td>2134-12-31 16:05:00</td>\n",
              "      <td>NaT</td>\n",
              "      <td>ELECTIVE</td>\n",
              "      <td>2135-05-09 14:11:00</td>\n",
              "      <td>EMERGENCY</td>\n",
              "      <td>128.0</td>\n",
              "      <td>Discharge summary</td>\n",
              "      <td>Admission Date:  [**2134-12-27**]             ...</td>\n",
              "    </tr>\n",
              "    <tr>\n",
              "      <th>14</th>\n",
              "      <td>17</td>\n",
              "      <td>161087</td>\n",
              "      <td>2135-05-09 14:11:00</td>\n",
              "      <td>2135-05-13 14:40:00</td>\n",
              "      <td>NaT</td>\n",
              "      <td>EMERGENCY</td>\n",
              "      <td>NaT</td>\n",
              "      <td>NaN</td>\n",
              "      <td>NaN</td>\n",
              "      <td>Discharge summary</td>\n",
              "      <td>Admission Date:  [**2135-5-9**]              D...</td>\n",
              "    </tr>\n",
              "    <tr>\n",
              "      <th>15</th>\n",
              "      <td>18</td>\n",
              "      <td>188822</td>\n",
              "      <td>2167-10-02 11:18:00</td>\n",
              "      <td>2167-10-04 16:15:00</td>\n",
              "      <td>NaT</td>\n",
              "      <td>EMERGENCY</td>\n",
              "      <td>NaT</td>\n",
              "      <td>NaN</td>\n",
              "      <td>NaN</td>\n",
              "      <td>Discharge summary</td>\n",
              "      <td>Name:  [**Known lastname 4919**] JR,[**Known f...</td>\n",
              "    </tr>\n",
              "  </tbody>\n",
              "</table>\n",
              "</div>"
            ],
            "text/plain": [
              "    SUBJECT_ID  ...                                               TEXT\n",
              "1            3  ...  Admission Date:  [**2101-10-20**]     Discharg...\n",
              "2            4  ...  Admission Date:  [**2191-3-16**]     Discharge...\n",
              "4            6  ...  Admission Date: [**2175-5-30**]        Dischar...\n",
              "7            9  ...  Name:  [**Known lastname 10050**], [**Known fi...\n",
              "9           11  ...  Admission Date:  [**2178-4-16**]              ...\n",
              "10          12  ...  Admission Date:  [**2104-8-7**]     Discharge ...\n",
              "11          13  ...  Name:  [**Known lastname 9900**], [**Known fir...\n",
              "13          17  ...  Admission Date:  [**2134-12-27**]             ...\n",
              "14          17  ...  Admission Date:  [**2135-5-9**]              D...\n",
              "15          18  ...  Name:  [**Known lastname 4919**] JR,[**Known f...\n",
              "\n",
              "[10 rows x 11 columns]"
            ]
          },
          "metadata": {
            "tags": []
          },
          "execution_count": 47
        }
      ]
    },
    {
      "cell_type": "code",
      "metadata": {
        "id": "IgfnyR86aomi",
        "colab": {
          "base_uri": "https://localhost:8080/",
          "height": 119
        },
        "outputId": "10761cb6-8c06-4167-c74b-eba6d613e1d8"
      },
      "source": [
        "adm_notes_clean['OUTPUT_LABEL'] = (adm_notes_clean['DAYS_NEXT_ADMIT'] < 30).astype('int')"
      ],
      "execution_count": null,
      "outputs": [
        {
          "output_type": "stream",
          "text": [
            "/usr/local/lib/python3.6/dist-packages/ipykernel_launcher.py:1: SettingWithCopyWarning: \n",
            "A value is trying to be set on a copy of a slice from a DataFrame.\n",
            "Try using .loc[row_indexer,col_indexer] = value instead\n",
            "\n",
            "See the caveats in the documentation: https://pandas.pydata.org/pandas-docs/stable/user_guide/indexing.html#returning-a-view-versus-a-copy\n",
            "  \"\"\"Entry point for launching an IPython kernel.\n"
          ],
          "name": "stderr"
        }
      ]
    },
    {
      "cell_type": "code",
      "metadata": {
        "id": "0XFEmKW2at_W",
        "colab": {
          "base_uri": "https://localhost:8080/",
          "height": 289
        },
        "outputId": "13ddc3b2-3929-46e7-9283-66e836868d31"
      },
      "source": [
        "adm_notes_clean.head()"
      ],
      "execution_count": null,
      "outputs": [
        {
          "output_type": "execute_result",
          "data": {
            "text/html": [
              "<div>\n",
              "<style scoped>\n",
              "    .dataframe tbody tr th:only-of-type {\n",
              "        vertical-align: middle;\n",
              "    }\n",
              "\n",
              "    .dataframe tbody tr th {\n",
              "        vertical-align: top;\n",
              "    }\n",
              "\n",
              "    .dataframe thead th {\n",
              "        text-align: right;\n",
              "    }\n",
              "</style>\n",
              "<table border=\"1\" class=\"dataframe\">\n",
              "  <thead>\n",
              "    <tr style=\"text-align: right;\">\n",
              "      <th></th>\n",
              "      <th>SUBJECT_ID</th>\n",
              "      <th>HADM_ID</th>\n",
              "      <th>ADMITTIME</th>\n",
              "      <th>DISCHTIME</th>\n",
              "      <th>DEATHTIME</th>\n",
              "      <th>ADMISSION_TYPE</th>\n",
              "      <th>NEXT_ADMITTIME</th>\n",
              "      <th>NEXT_ADM_TYPE</th>\n",
              "      <th>DAYS_NEXT_ADMIT</th>\n",
              "      <th>CATEGORY</th>\n",
              "      <th>TEXT</th>\n",
              "      <th>OUTPUT_LABEL</th>\n",
              "    </tr>\n",
              "  </thead>\n",
              "  <tbody>\n",
              "    <tr>\n",
              "      <th>1</th>\n",
              "      <td>3</td>\n",
              "      <td>145834</td>\n",
              "      <td>2101-10-20 19:08:00</td>\n",
              "      <td>2101-10-31 13:58:00</td>\n",
              "      <td>NaT</td>\n",
              "      <td>EMERGENCY</td>\n",
              "      <td>NaT</td>\n",
              "      <td>NaN</td>\n",
              "      <td>NaN</td>\n",
              "      <td>Discharge summary</td>\n",
              "      <td>Admission Date:  [**2101-10-20**]     Discharg...</td>\n",
              "      <td>0</td>\n",
              "    </tr>\n",
              "    <tr>\n",
              "      <th>2</th>\n",
              "      <td>4</td>\n",
              "      <td>185777</td>\n",
              "      <td>2191-03-16 00:28:00</td>\n",
              "      <td>2191-03-23 18:41:00</td>\n",
              "      <td>NaT</td>\n",
              "      <td>EMERGENCY</td>\n",
              "      <td>NaT</td>\n",
              "      <td>NaN</td>\n",
              "      <td>NaN</td>\n",
              "      <td>Discharge summary</td>\n",
              "      <td>Admission Date:  [**2191-3-16**]     Discharge...</td>\n",
              "      <td>0</td>\n",
              "    </tr>\n",
              "    <tr>\n",
              "      <th>4</th>\n",
              "      <td>6</td>\n",
              "      <td>107064</td>\n",
              "      <td>2175-05-30 07:15:00</td>\n",
              "      <td>2175-06-15 16:00:00</td>\n",
              "      <td>NaT</td>\n",
              "      <td>ELECTIVE</td>\n",
              "      <td>NaT</td>\n",
              "      <td>NaN</td>\n",
              "      <td>NaN</td>\n",
              "      <td>Discharge summary</td>\n",
              "      <td>Admission Date: [**2175-5-30**]        Dischar...</td>\n",
              "      <td>0</td>\n",
              "    </tr>\n",
              "    <tr>\n",
              "      <th>7</th>\n",
              "      <td>9</td>\n",
              "      <td>150750</td>\n",
              "      <td>2149-11-09 13:06:00</td>\n",
              "      <td>2149-11-14 10:15:00</td>\n",
              "      <td>2149-11-14 10:15:00</td>\n",
              "      <td>EMERGENCY</td>\n",
              "      <td>NaT</td>\n",
              "      <td>NaN</td>\n",
              "      <td>NaN</td>\n",
              "      <td>Discharge summary</td>\n",
              "      <td>Name:  [**Known lastname 10050**], [**Known fi...</td>\n",
              "      <td>0</td>\n",
              "    </tr>\n",
              "    <tr>\n",
              "      <th>9</th>\n",
              "      <td>11</td>\n",
              "      <td>194540</td>\n",
              "      <td>2178-04-16 06:18:00</td>\n",
              "      <td>2178-05-11 19:00:00</td>\n",
              "      <td>NaT</td>\n",
              "      <td>EMERGENCY</td>\n",
              "      <td>NaT</td>\n",
              "      <td>NaN</td>\n",
              "      <td>NaN</td>\n",
              "      <td>Discharge summary</td>\n",
              "      <td>Admission Date:  [**2178-4-16**]              ...</td>\n",
              "      <td>0</td>\n",
              "    </tr>\n",
              "  </tbody>\n",
              "</table>\n",
              "</div>"
            ],
            "text/plain": [
              "   SUBJECT_ID  ...  OUTPUT_LABEL\n",
              "1           3  ...             0\n",
              "2           4  ...             0\n",
              "4           6  ...             0\n",
              "7           9  ...             0\n",
              "9          11  ...             0\n",
              "\n",
              "[5 rows x 12 columns]"
            ]
          },
          "metadata": {
            "tags": []
          },
          "execution_count": 49
        }
      ]
    },
    {
      "cell_type": "code",
      "metadata": {
        "id": "kYFzTmNLa58P",
        "colab": {
          "base_uri": "https://localhost:8080/",
          "height": 68
        },
        "outputId": "33e97bde-d29f-4f29-e525-2ea674927619"
      },
      "source": [
        "adm_notes_clean['OUTPUT_LABEL'].value_counts()"
      ],
      "execution_count": null,
      "outputs": [
        {
          "output_type": "execute_result",
          "data": {
            "text/plain": [
              "0    48109\n",
              "1     3004\n",
              "Name: OUTPUT_LABEL, dtype: int64"
            ]
          },
          "metadata": {
            "tags": []
          },
          "execution_count": 50
        }
      ]
    },
    {
      "cell_type": "code",
      "metadata": {
        "id": "h4qDnnTja9b_",
        "colab": {
          "base_uri": "https://localhost:8080/",
          "height": 340
        },
        "outputId": "e7072397-877a-449c-a803-aeef93755145"
      },
      "source": [
        "adm_notes_clean.info()"
      ],
      "execution_count": null,
      "outputs": [
        {
          "output_type": "stream",
          "text": [
            "<class 'pandas.core.frame.DataFrame'>\n",
            "Int64Index: 51113 entries, 1 to 58975\n",
            "Data columns (total 12 columns):\n",
            " #   Column           Non-Null Count  Dtype         \n",
            "---  ------           --------------  -----         \n",
            " 0   SUBJECT_ID       51113 non-null  int64         \n",
            " 1   HADM_ID          51113 non-null  int64         \n",
            " 2   ADMITTIME        51113 non-null  datetime64[ns]\n",
            " 3   DISCHTIME        51113 non-null  datetime64[ns]\n",
            " 4   DEATHTIME        5792 non-null   datetime64[ns]\n",
            " 5   ADMISSION_TYPE   51113 non-null  object        \n",
            " 6   NEXT_ADMITTIME   11169 non-null  datetime64[ns]\n",
            " 7   NEXT_ADM_TYPE    11169 non-null  object        \n",
            " 8   DAYS_NEXT_ADMIT  11169 non-null  float64       \n",
            " 9   CATEGORY         49083 non-null  object        \n",
            " 10  TEXT             49083 non-null  object        \n",
            " 11  OUTPUT_LABEL     51113 non-null  int64         \n",
            "dtypes: datetime64[ns](4), float64(1), int64(3), object(4)\n",
            "memory usage: 5.1+ MB\n"
          ],
          "name": "stdout"
        }
      ]
    },
    {
      "cell_type": "code",
      "metadata": {
        "id": "unG2jGKjbAcb"
      },
      "source": [
        "adm_notes_clean.to_pickle('/content/drive/My Drive/Colab Notebooks/619_nlp/adm_notes_clean.pkl')"
      ],
      "execution_count": null,
      "outputs": []
    },
    {
      "cell_type": "markdown",
      "metadata": {
        "id": "LbdTQOaoe5xf"
      },
      "source": [
        "## Cleaning before starting with BoW"
      ]
    },
    {
      "cell_type": "code",
      "metadata": {
        "id": "YEAsOwk5zihb"
      },
      "source": [
        "adm_notes_clean_unpickled = pd.read_pickle('/content/drive/My Drive/Colab Notebooks/619_nlp/adm_notes_clean.pkl')"
      ],
      "execution_count": null,
      "outputs": []
    },
    {
      "cell_type": "code",
      "metadata": {
        "id": "CknqYiBxz-EN",
        "colab": {
          "base_uri": "https://localhost:8080/",
          "height": 289
        },
        "outputId": "bc9d01f8-3a4b-45fa-f689-33203118f691"
      },
      "source": [
        "adm_notes_clean_unpickled.head()"
      ],
      "execution_count": null,
      "outputs": [
        {
          "output_type": "execute_result",
          "data": {
            "text/html": [
              "<div>\n",
              "<style scoped>\n",
              "    .dataframe tbody tr th:only-of-type {\n",
              "        vertical-align: middle;\n",
              "    }\n",
              "\n",
              "    .dataframe tbody tr th {\n",
              "        vertical-align: top;\n",
              "    }\n",
              "\n",
              "    .dataframe thead th {\n",
              "        text-align: right;\n",
              "    }\n",
              "</style>\n",
              "<table border=\"1\" class=\"dataframe\">\n",
              "  <thead>\n",
              "    <tr style=\"text-align: right;\">\n",
              "      <th></th>\n",
              "      <th>SUBJECT_ID</th>\n",
              "      <th>HADM_ID</th>\n",
              "      <th>ADMITTIME</th>\n",
              "      <th>DISCHTIME</th>\n",
              "      <th>DEATHTIME</th>\n",
              "      <th>ADMISSION_TYPE</th>\n",
              "      <th>NEXT_ADMITTIME</th>\n",
              "      <th>NEXT_ADM_TYPE</th>\n",
              "      <th>DAYS_NEXT_ADMIT</th>\n",
              "      <th>CATEGORY</th>\n",
              "      <th>TEXT</th>\n",
              "      <th>OUTPUT_LABEL</th>\n",
              "    </tr>\n",
              "  </thead>\n",
              "  <tbody>\n",
              "    <tr>\n",
              "      <th>1</th>\n",
              "      <td>3</td>\n",
              "      <td>145834</td>\n",
              "      <td>2101-10-20 19:08:00</td>\n",
              "      <td>2101-10-31 13:58:00</td>\n",
              "      <td>NaT</td>\n",
              "      <td>EMERGENCY</td>\n",
              "      <td>NaT</td>\n",
              "      <td>NaN</td>\n",
              "      <td>NaN</td>\n",
              "      <td>Discharge summary</td>\n",
              "      <td>Admission Date:  [**2101-10-20**]     Discharg...</td>\n",
              "      <td>0</td>\n",
              "    </tr>\n",
              "    <tr>\n",
              "      <th>2</th>\n",
              "      <td>4</td>\n",
              "      <td>185777</td>\n",
              "      <td>2191-03-16 00:28:00</td>\n",
              "      <td>2191-03-23 18:41:00</td>\n",
              "      <td>NaT</td>\n",
              "      <td>EMERGENCY</td>\n",
              "      <td>NaT</td>\n",
              "      <td>NaN</td>\n",
              "      <td>NaN</td>\n",
              "      <td>Discharge summary</td>\n",
              "      <td>Admission Date:  [**2191-3-16**]     Discharge...</td>\n",
              "      <td>0</td>\n",
              "    </tr>\n",
              "    <tr>\n",
              "      <th>4</th>\n",
              "      <td>6</td>\n",
              "      <td>107064</td>\n",
              "      <td>2175-05-30 07:15:00</td>\n",
              "      <td>2175-06-15 16:00:00</td>\n",
              "      <td>NaT</td>\n",
              "      <td>ELECTIVE</td>\n",
              "      <td>NaT</td>\n",
              "      <td>NaN</td>\n",
              "      <td>NaN</td>\n",
              "      <td>Discharge summary</td>\n",
              "      <td>Admission Date: [**2175-5-30**]        Dischar...</td>\n",
              "      <td>0</td>\n",
              "    </tr>\n",
              "    <tr>\n",
              "      <th>7</th>\n",
              "      <td>9</td>\n",
              "      <td>150750</td>\n",
              "      <td>2149-11-09 13:06:00</td>\n",
              "      <td>2149-11-14 10:15:00</td>\n",
              "      <td>2149-11-14 10:15:00</td>\n",
              "      <td>EMERGENCY</td>\n",
              "      <td>NaT</td>\n",
              "      <td>NaN</td>\n",
              "      <td>NaN</td>\n",
              "      <td>Discharge summary</td>\n",
              "      <td>Name:  [**Known lastname 10050**], [**Known fi...</td>\n",
              "      <td>0</td>\n",
              "    </tr>\n",
              "    <tr>\n",
              "      <th>9</th>\n",
              "      <td>11</td>\n",
              "      <td>194540</td>\n",
              "      <td>2178-04-16 06:18:00</td>\n",
              "      <td>2178-05-11 19:00:00</td>\n",
              "      <td>NaT</td>\n",
              "      <td>EMERGENCY</td>\n",
              "      <td>NaT</td>\n",
              "      <td>NaN</td>\n",
              "      <td>NaN</td>\n",
              "      <td>Discharge summary</td>\n",
              "      <td>Admission Date:  [**2178-4-16**]              ...</td>\n",
              "      <td>0</td>\n",
              "    </tr>\n",
              "  </tbody>\n",
              "</table>\n",
              "</div>"
            ],
            "text/plain": [
              "   SUBJECT_ID  ...  OUTPUT_LABEL\n",
              "1           3  ...             0\n",
              "2           4  ...             0\n",
              "4           6  ...             0\n",
              "7           9  ...             0\n",
              "9          11  ...             0\n",
              "\n",
              "[5 rows x 12 columns]"
            ]
          },
          "metadata": {
            "tags": []
          },
          "execution_count": 9
        }
      ]
    },
    {
      "cell_type": "code",
      "metadata": {
        "id": "mZ9Z7WA9bJK3"
      },
      "source": [
        "X = adm_notes_clean_unpickled.loc[:, 'TEXT']\n",
        "y = adm_notes_clean_unpickled.loc[:, 'OUTPUT_LABEL']"
      ],
      "execution_count": null,
      "outputs": []
    },
    {
      "cell_type": "code",
      "metadata": {
        "id": "auTgZrI4dnKY",
        "colab": {
          "base_uri": "https://localhost:8080/",
          "height": 221
        },
        "outputId": "cb810d04-2036-46f4-9eea-a6a4d1590cd1"
      },
      "source": [
        "print(X.head())\n",
        "print(y.head())"
      ],
      "execution_count": null,
      "outputs": [
        {
          "output_type": "stream",
          "text": [
            "1    Admission Date:  [**2101-10-20**]     Discharg...\n",
            "2    Admission Date:  [**2191-3-16**]     Discharge...\n",
            "4    Admission Date: [**2175-5-30**]        Dischar...\n",
            "7    Name:  [**Known lastname 10050**], [**Known fi...\n",
            "9    Admission Date:  [**2178-4-16**]              ...\n",
            "Name: TEXT, dtype: object\n",
            "1    0\n",
            "2    0\n",
            "4    0\n",
            "7    0\n",
            "9    0\n",
            "Name: OUTPUT_LABEL, dtype: int64\n"
          ],
          "name": "stdout"
        }
      ]
    },
    {
      "cell_type": "code",
      "metadata": {
        "id": "Thfpg8viC0Kq",
        "colab": {
          "base_uri": "https://localhost:8080/",
          "height": 120
        },
        "outputId": "dd08f6ae-6847-4c4f-a8ab-1310e3aecda3"
      },
      "source": [
        "X[1]"
      ],
      "execution_count": null,
      "outputs": [
        {
          "output_type": "execute_result",
          "data": {
            "application/vnd.google.colaboratory.intrinsic+json": {
              "type": "string"
            },
            "text/plain": [
              "\"Admission Date:  [**2101-10-20**]     Discharge Date:  [**2101-10-31**]\\n\\nDate of Birth:   [**2025-4-11**]     Sex:  M\\n\\nService:  Medicine\\n\\nCHIEF COMPLAINT:  Admitted from rehabilitation for\\nhypotension (systolic blood pressure to the 70s) and\\ndecreased urine output.\\n\\nHISTORY OF PRESENT ILLNESS:  The patient is a 76-year-old\\nmale who had been hospitalized at the [**Hospital1 190**] from [**10-11**] through [**10-19**] of [**2101**]\\nafter undergoing a left femoral-AT bypass graft and was\\nsubsequently discharged to a rehabilitation facility.\\n\\nOn [**2101-10-20**], he presented again to the [**Hospital1 346**] after being found to have a systolic\\nblood pressure in the 70s and no urine output for 17 hours.\\nA Foley catheter placed at the rehabilitation facility\\nyielded 100 cc of murky/brown urine.  There may also have\\nbeen purulent discharge at the penile meatus at this time.\\n\\nOn presentation to the Emergency Department, the patient was\\nwithout subjective complaints.  In the Emergency Department,\\nhe was found to have systolic blood pressure of 85.  He was\\ngiven 6 liters of intravenous fluids and transiently started\\non dopamine for a systolic blood pressure in the 80.s\\n\\nPAST MEDICAL HISTORY:\\n 1.  Coronary artery disease with diffuse 3-vessel disease;\\nright-dominant, status post proximal left circumflex stent in\\n[**2101-7-9**] with occlusion of the distal left circumflex;\\nstatus post right coronary artery stent on [**2101-8-26**] (no\\npercutaneous coronary intervention to 99% diagonal left\\ncircumflex, 80% small proximal left anterior descending\\nartery, or 80% small distal left anterior descending artery).\\n 2.  Congestive heart failure (with an ejection fraction\\nof 15% to 20%).\\n 3.  Type 2 diabetes with neuropathy.\\n 4.  Hypertension.\\n 5.  Diverticulosis (found on colonoscopy in [**2101-7-9**]).\\n 6.  Alzheimer's dementia.\\n 7.  History of gastrointestinal bleed (while the patient was\\ntaking eptifibatide).\\n 8.  Cardiac risk factors (with a baseline creatinine\\nof 1.4 to 1.6).\\n 9.  Hypercholesterolemia.\\n10.  History of methicillin-resistant Staphylococcus aureus\\nand Pseudomonas growth in wound cultures.\\n11.  Severe peripheral vascular disease; status post left\\nfemoral-AT bypass graft on [**2101-10-11**].\\n12.  Chronic nonhealing foot ulcers.\\n13.  Recent right pedal cellulitis.\\n\\nALLERGIES:  The patient has no known drug allergies.\\n\\nMEDICATIONS ON ADMISSION:\\n 1.  Vancomycin 1 g intravenously q.24h. for a level of less\\nthan 15 (started on [**2101-10-4**]).\\n 2.  Levofloxacin 250 mg p.o. q.d. (started on [**2101-10-4**]).\\n 3.  Metronidazole 500 mg p.o. q.8h. (started on [**2101-10-4**]).\\n 4.  Heparin 5000 units subcutaneous b.i.d.\\n 5.  Simvastatin 40 mg p.o. q.d.\\n 6.  Lisinopril 5 mg p.o. q.d.\\n 7.  Furosemide 40 mg p.o. q.d.\\n 8.  Vitamin E 400 IU p.o. q.d.\\n 9.  Atenolol 25 mg p.o. q.d.\\n10.  Pantoprazole 40 mg p.o. q.d.\\n11.  Ascorbic acid 500 mg p.o. b.i.d.\\n12.  NPH 17 units b.i.d.\\n13.  Regular insulin sliding-scale.\\n14.  Bisacodyl 10 mg p.o./p.r. as needed.\\n15.  Docusate 100 mg p.o. b.i.d.\\n16.  Percocet 5/325 mg one tablet p.o. q.4-6h. as needed for\\npain.\\n17.  Aspirin 81 mg p.o. q.d.\\n18.  Metoprolol 75 mg p.o. b.i.d.\\n\\nSOCIAL HISTORY:  The patient is retired and had been living\\nat home with his wife prior to his admission to the hospital\\non [**2101-10-11**]; he had been living at [**Hospital3 1761**] for the day prior to admission.  He is a\\nsocial drinker and has a 40-pack-year smoking history;\\nalthough, he quit smoking 20 years ago.\\n\\nPHYSICAL EXAMINATION ON PRESENTATION:   Initial physical\\nexamination revealed temperature was 96.1 degrees Fahrenheit,\\nheart rate was 83, blood pressure was 124/42 (following\\nadministration of 3 liters of normal saline), respiratory\\nwas 24, and his oxygen saturation was 100% on 2 liters nasal\\ncannula.  His heart had a regular rate and rhythm.  There\\nwere normal first and second heart sounds.  There was a 2/6\\nsystolic ejection murmur, and there were no rubs or gallops.\\nHis lungs were clear to auscultation bilaterally.  His\\nabdomen was soft, nontender, and nondistended, and there were\\nhypoactive bowel sounds.  He had a palpable bypass graft\\npulse, [**Hospital3 17394**] dorsalis pedis and posterior tibialis\\npulses bilaterally; and his surgical incision was clean, dry,\\nand intact.  Please note that the above examination was done\\nby the Vascular Surgery team, which was the team that was\\ninitially planning to admit the patient to the hospital.\\n\\nPERTINENT LABORATORY DATA ON PRESENTATION:  On initial\\nlaboratory evaluation the patient had a white blood cell\\ncount of 12.7, hematocrit was 30.2, and platelets\\nwere 282,000.  His PT was 13.5, PTT was 30.7, and INR\\nwas 1.3.  His serum chemistries revealed sodium was 136,\\npotassium was 5.4, chloride was 99, bicarbonate was 25, blood\\nurea nitrogen was 53, creatinine was 3.2, and blood glucose\\nwas 91.  His calcium was 8.2, magnesium was 2.4, and\\nphosphate was 4.8.  Blood cultures drawn on admission were\\npending, but ultimately negative.  A urine culture taken on\\nadmission was initially pending, but ultimately grew out\\nyeast.  A sputum culture taken on admission was also\\ninitially pending, but ultimately also grew out yeast.\\n\\nRADIOLOGY/IMAGING:  His admission chest x-ray demonstrated\\nstable prominence of the right main pulmonary artery; no\\nfocal areas of consolidation; overall stable appearance of\\nthe chest compared with a [**2101-10-15**] study.  No\\nradiographic evidence of congestive heart failure or\\npneumonia.\\n\\nHis admission electrocardiogram demonstrated a sinus rhythm,\\nnonspecific inferior/lateral T wave changes, low QRS voltages\\nin the limb leads, and T wave changes in V5 and V6 when\\ncompared with an electrocardiogram dated [**2101-10-12**].\\n\\nAn initial abdominal CT was a limited noncontrast examination\\nthat demonstrated diffuse vascular calcifications.  No\\nevidence of an abdominal aortic aneurysm or free fluid,\\nincompletely imaged coronary artery calcification, a simple\\nleft renal cyst, sigmoid diverticulosis, and an enlarged and\\npartially calcified prostate gland.\\n\\nHOSPITAL COURSE BY SYSTEM:\\n\\n1.  CARDIOVASCULAR:  The patient was initially admitted to\\nthe Vascular Intensive Care Unit with hypotension, decreased\\nurine output, and acute renal failure; most likely secondary\\nto a presumed gram-negative urosepsis (although there were\\nnever any positive culture data to confirm this diagnosis).\\n\\nWhile boarding in the Medical Intensive Care Unit on the\\nnight of admission, the patient had a sudden\\ncardiorespiratory arrest.  He was resuscitated with\\nepinephrine, lidocaine, and direct current cardioversion\\ntimes four.  He was also intubate for airway protection.\\n\\nFollowing these measures, the patient returned to a sinus\\nrhythm with a systolic blood pressure of approximately 100;\\nthe total time elapsed from the beginning of the arrest to\\nthe return of a pulse was approximately 16 minutes.  He\\nsubsequently required double pressors to maintain his blood\\npressure.\\n\\nAn echocardiogram performed at the bedside demonstrated a\\ntrivial pericardial effusion and a left ventricular ejection\\nfraction of 20% to 25% in the setting of tachycardia and a\\nhyperdynamic right ventricle; suggesting elevated right-sided\\nfilling pressures.  Although the definitive etiology of this\\narrest remained unknown, the most likely trigger was a\\nnon-Q-wave myocardial infarction, as his troponin values were\\nelevated to greater than 50 following his arrest.\\n\\nA repeat echocardiogram done on [**2101-10-21**]\\ndemonstrated mild left atrial dilation, an ejection fraction\\nof 15% to 20%, resting regional wall motion abnormalities\\nincluding inferior, mid, and apical left ventricular\\nakinesis, depressed right ventricular systolic function, and\\nmoderate mitral regurgitation.  Compared with the prior study\\nof [**2101-10-20**]; the left ventricular function was\\nunchanged.  There was moderate mitral regurgitation, and the\\nright ventricular function appeared worse.\\n\\nOn [**2101-10-21**], the patient was loaded with amiodarone\\nand was subsequently started on oral amiodarone.  The\\nfollowing day, he was started on heparin intravenously given\\nhis elevated serum troponin to greater than 50; this\\nmedication was continued for 72 hours.  Given his elevated\\ntroponins and non-Q-wave myocardial infarction, the patient\\nwas a candidate for cardiac catheterization.\\n\\nAfter discussions between the Medical Intensive Care Unit\\nteam and the patient's family, however, the decision was made\\nto not pursue further invasive procedures given that the\\npatient had been made do not resuscitate/do not intubate\\nfollowing the resuscitation mentioned above, and his family\\nno longer wished for aggressive resuscitating measures.\\n\\nBy [**2101-10-23**], he was off pressors and he was\\nrestarted on a beta blocker and ACE inhibitor at low doses.\\n\\nOn the evening of [**2101-10-25**], the patient complained\\nof substernal chest pain that was relieved by NPG SL and\\nmorphine.  He also had ST segment depressions in V2 and V3\\nthat reverted to baseline after the resolution of his pain.\\nTherefore, the patient was again started on heparin;\\nalthough, this was discontinued on [**2101-10-26**] when\\nthe patient ruled out for a myocardial infarction by cardiac\\nenzymes.  He again had substernal chest pain on [**2101-10-27**]; although, he had no electrocardiogram changes, and he\\nagain ruled out for a myocardial infarction by cardiac\\nenzymes.\\n\\nBy hospital day four, the patient began to develop evidence\\nof congestive heart failure given his aggressive fluid\\nresuscitation, and gentle diuresis with furosemide was begun.\\nBy the time of his transfer to the General Medicine Service\\non [**2101-10-26**], the patient was still significantly\\nvolume overloaded following his aggressive fluid\\nresuscitation in the Medical Intensive Care Unit.  Therefore,\\nhe was continued on the program of gentle diuresis given that\\nhe was having signs and symptoms of right-sided congestive\\nheart failure.  He achieved adequate diuresis by the time of\\nhis discharge to rehabilitation, as his oxygen saturation was\\ngreater than 95% on 2 liters nasal cannula.\\n\\n2.  INFECTIOUS DISEASE/SEPSIS:  The patient was started on\\ngentamicin and piperacillin/tazobactam in addition to the\\nlevofloxacin, metronidazole, and vancomycin he was already\\ntaking for right lower extremity cellulitis prior to\\nadmission for empiric coverage of a presumed gram-negative\\nurosepsis, and he was aggressively hydrated with intravenous\\nfluids.\\n\\nOn [**2101-10-21**], his levofloxacin and metronidazole was\\ndiscontinued, and he was started on fluconazole given the\\ngrowth of yeast on urine culture.  He was taken off of\\ngentamicin on hospital day three, and his fluconazole was\\ndiscontinued on hospital day five (as per the Infectious\\nDisease Service).  He was taken off of vancomycin on\\n[**2101-10-28**], and his piperacillin/tazobactam was\\ndiscontinued on [**2101-10-29**].\\n\\nDespite the presumption of a gram-negative urosepsis\\nprecipitating this admission, the patient did not have any\\npositive blood or urine cultures aside from the growth of\\nyeast in two urine cultures noted above.  He remained\\nafebrile both before and after discontinuation of his\\nantibiotics, and he was found to be Clostridium difficile\\nnegative on [**2101-10-28**].\\n\\n3.  PULMONARY:  As noted above, the patient was intubated and\\nhe was extubated on [**2101-10-24**].  He subsequently\\ndeveloped wheezing and mild hypoxia; most likely secondary to\\ncardiac asthma and fluid overload in the setting of his\\naggressive fluid resuscitation.  He was gently diuresed\\ntoward the end of his hospitalization, and by the time of his\\nhe was maintaining an oxygen saturation of greater than 95%\\non 2 liters nasal cannula, intermittent ipratropium\\nnebulizers, and chest physical therapy for clearance of his\\nrespiratory secretions.\\n\\n4.  RENAL:  The patient presented with acute renal failure\\nand prerenal azotemia that rapidly resolved following fluid\\nresuscitation.  By the time of discharge, his serum\\ncreatinine was stable and at his preadmission baseline.\\n\\n5.  NUTRITION:  The patient was found to be profoundly\\nmalnourished with a serum albumin of 1.8 on admission.  Once\\nhe was extubated and taking orals, he performed poorly on a\\nmodified barium swallowing study and was started on a thin\\nliquid, ground-solid diet with whole medication tablets,\\nsmall bites and sips, upright posture with meals, and\\naspiration precautions.  He was also given ProMod shakes with\\nand between meals for nutritional supplementation of his\\nheart-healthy/diabetic diet.\\n\\n6.  VASCULAR:  The patient's operative incisions and foot\\nulcers continued to heal throughout this admission.  He was\\nstarted on an multivitamin, vitamin C, and zinc for improved\\nwound healing.\\n\\n7.  HEMATOLOGY:  The patient was transfused one unit of\\npacked red blood cells on [**2101-10-27**] to maintain a\\nhematocrit of greater than 30 given his history of severe\\ncoronary artery disease.  His hematocrit subsequently\\nremained stable.\\n\\nCONDITION AT DISCHARGE:  Condition on discharge was stable.\\n\\nDISCHARGE STATUS:  [**First Name4 (NamePattern1) 1188**] [**Last Name (NamePattern1) **] rehabilitation facility.\\n\\nDISCHARGE DIAGNOSES:\\n 1.  Cardiorespiratory arrest.\\n 2.  Non-Q-wave myocardial infarction.\\n 3.  Acute renal failure.\\n 4.  Coronary artery disease with diffuse 3-vessel disease;\\nright-dominant, status post proximal left circumflex stent in\\n[**2101-7-9**] with occlusion of distal left circumflex; status\\npost right coronary artery stent on [**2101-10-27**] (no\\npercutaneous coronary intervention to 99%, distal left\\ncircumflex, 80% small proximal left anterior descending\\nartery, 80% small distal left anterior descending artery).\\n 5.  Congestive heart failure (with an ejection fraction\\nof 15% to 20%).\\n 6.  Type 2 diabetes with neuropathy.\\n 7.  Hypertension.\\n 8.  Diverticulosis (found on colonoscopy in [**2101-7-9**]).\\n 9.  Alzheimer's dementia.\\n10.  History of gastrointestinal bleed (while the patient was\\ntaking eptifibatide).\\n11.  Cardiac risk factors (with a baseline creatinine\\nof 1.4 to 1.6).\\n12.  History of methicillin-resistant Staphylococcus aureus\\nand Pseudomonas growth in wound cultures.\\n13.  Severe peripheral vascular disease; status post left\\nfemoral-AT bypass graft on [**2101-10-11**].\\n14.  Chronic nonhealing foot ulcers.\\n\\nMEDICATIONS ON DISCHARGE:\\n 1.  Amiodarone 400 mg p.o. b.i.d. (through [**2101-11-2**]), then 400 mg p.o. q.d. (times one week), then 200 mg\\np.o. q.d.\\n 2.  Metoprolol 50 mg p.o. b.i.d.\\n 3.  Captopril 6.25 mg p.o. t.i.d.\\n 4.  Aspirin 325 mg p.o. q.d.\\n 5.  Pantoprazole 40 mg p.o. q.d.\\n 6.  Heparin 5000 units subcutaneously b.i.d.\\n 7.  Multivitamin one tablet p.o. q.d.\\n 8.  Zinc sulfate 220 mg p.o. q.d.\\n 9.  Vitamin C 500 mg p.o. q.d.\\n10.  Ipratropium nebulizers q.4-6h. as needed (for wheezing).\\n11.  Acetaminophen 325 mg to 650 mg p.o. q.4-6h. as needed\\n(for pain).\\n12.  Miconazole 2% powder to groin b.i.d.\\n13.  Santyl lotion to heels b.i.d.\\n14.  Regular insulin sliding-scale.\\n\\nCODE STATUS:  Do not resuscitate/do not intubate.\\n\\nNOTE:  If applicable, an addendum to this Discharge Summary\\nwill be dictated to include follow-up appointments as well as\\nany changes to the medication list noted above.\\n\\n\\n\\n\\n\\n\\n                          [**First Name11 (Name Pattern1) **] [**Last Name (NamePattern4) 1604**], M.D.  [**MD Number(1) 1605**]\\n\\nDictated By:[**Name8 (MD) 2507**]\\n\\nMEDQUIST36\\n\\nD:  [**2101-10-31**]  01:07\\nT:  [**2101-11-5**]  03:44\\nJOB#:  [**Job Number **]\\n\""
            ]
          },
          "metadata": {
            "tags": []
          },
          "execution_count": 7
        }
      ]
    },
    {
      "cell_type": "code",
      "metadata": {
        "id": "S1x_FQrO67-X",
        "colab": {
          "base_uri": "https://localhost:8080/",
          "height": 119
        },
        "outputId": "0d27b1b0-2901-4c2b-b1e4-507d63ed3de6"
      },
      "source": [
        "X = X.apply(lambda x:re.sub('[^a-zA-Z]', \" \", str(x)).lower())\n",
        "X.head()"
      ],
      "execution_count": null,
      "outputs": [
        {
          "output_type": "execute_result",
          "data": {
            "text/plain": [
              "1    admission date                        discharg...\n",
              "2    admission date                       discharge...\n",
              "4    admission date                         dischar...\n",
              "7    name      known lastname              known fi...\n",
              "9    admission date                                ...\n",
              "Name: TEXT, dtype: object"
            ]
          },
          "metadata": {
            "tags": []
          },
          "execution_count": 8
        }
      ]
    },
    {
      "cell_type": "markdown",
      "metadata": {
        "id": "STZW4JCvG01S"
      },
      "source": [
        "#### Top 30 most common words in corpus (before applying stemmer):"
      ]
    },
    {
      "cell_type": "code",
      "metadata": {
        "id": "WT2aXSy5EpUT",
        "colab": {
          "base_uri": "https://localhost:8080/",
          "height": 527
        },
        "outputId": "6be66789-09d2-4b97-bc38-a4b962dd1723"
      },
      "source": [
        "from collections import Counter\n",
        "Counter(\" \".join(X).split()).most_common(30)"
      ],
      "execution_count": null,
      "outputs": [
        {
          "output_type": "execute_result",
          "data": {
            "text/plain": [
              "[('the', 1706988),\n",
              " ('and', 1519243),\n",
              " ('to', 1298323),\n",
              " ('of', 1248979),\n",
              " ('was', 1165566),\n",
              " ('with', 922456),\n",
              " ('a', 862751),\n",
              " ('on', 791798),\n",
              " ('in', 719466),\n",
              " ('mg', 692388),\n",
              " ('for', 670883),\n",
              " ('no', 594437),\n",
              " ('tablet', 549015),\n",
              " ('name', 544802),\n",
              " ('is', 489516),\n",
              " ('patient', 482964),\n",
              " ('s', 448410),\n",
              " ('po', 421233),\n",
              " ('he', 420229),\n",
              " ('blood', 394494),\n",
              " ('at', 368718),\n",
              " ('or', 366921),\n",
              " ('she', 350386),\n",
              " ('discharge', 349741),\n",
              " ('as', 344707),\n",
              " ('daily', 340224),\n",
              " ('hospital', 334481),\n",
              " ('sig', 331176),\n",
              " ('day', 314983),\n",
              " ('one', 309793)]"
            ]
          },
          "metadata": {
            "tags": []
          },
          "execution_count": 11
        }
      ]
    },
    {
      "cell_type": "code",
      "metadata": {
        "id": "S8DLNczd68gd",
        "colab": {
          "base_uri": "https://localhost:8080/",
          "height": 119
        },
        "outputId": "0dd0df71-7396-44cb-b7a0-d160dcfb3b45"
      },
      "source": [
        "X = X.apply(lambda x:x.split())\n",
        "X.head()"
      ],
      "execution_count": null,
      "outputs": [
        {
          "output_type": "execute_result",
          "data": {
            "text/plain": [
              "1    [admission, date, discharge, date, date, of, b...\n",
              "2    [admission, date, discharge, date, date, of, b...\n",
              "4    [admission, date, discharge, date, date, of, b...\n",
              "7    [name, known, lastname, known, firstname, unit...\n",
              "9    [admission, date, discharge, date, date, of, b...\n",
              "Name: TEXT, dtype: object"
            ]
          },
          "metadata": {
            "tags": []
          },
          "execution_count": 44
        }
      ]
    },
    {
      "cell_type": "code",
      "metadata": {
        "id": "cdVsz2EcWr3Y"
      },
      "source": [
        "X_len = X.str.len()"
      ],
      "execution_count": null,
      "outputs": []
    },
    {
      "cell_type": "code",
      "metadata": {
        "id": "zCpSM5AGX7ST",
        "colab": {
          "base_uri": "https://localhost:8080/",
          "height": 296
        },
        "outputId": "0ab6dd68-c656-449f-99a6-355465432778"
      },
      "source": [
        "sns.histplot(data=X_len)"
      ],
      "execution_count": null,
      "outputs": [
        {
          "output_type": "execute_result",
          "data": {
            "text/plain": [
              "<matplotlib.axes._subplots.AxesSubplot at 0x7fc663f8efd0>"
            ]
          },
          "metadata": {
            "tags": []
          },
          "execution_count": 60
        },
        {
          "output_type": "display_data",
          "data": {
            "image/png": "[encoded data removed]",
            "text/plain": [
              "<Figure size 432x288 with 1 Axes>"
            ]
          },
          "metadata": {
            "tags": [],
            "needs_background": "light"
          }
        }
      ]
    },
    {
      "cell_type": "code",
      "metadata": {
        "id": "y73BdDu5CuDZ"
      },
      "source": [
        "ss = SnowballStemmer('english')\n",
        "all_stopwords = stopwords.words('english')"
      ],
      "execution_count": null,
      "outputs": []
    },
    {
      "cell_type": "code",
      "metadata": {
        "id": "I_2EKcBiFYIH",
        "colab": {
          "base_uri": "https://localhost:8080/",
          "height": 85
        },
        "outputId": "b04a5018-7137-4ead-8dc6-35f4f001bcce"
      },
      "source": [
        "print ('date' in all_stopwords)\n",
        "print ('admission' in all_stopwords)\n",
        "print ('discharge' in all_stopwords)\n",
        "print ('of' in all_stopwords)"
      ],
      "execution_count": null,
      "outputs": [
        {
          "output_type": "stream",
          "text": [
            "False\n",
            "False\n",
            "False\n",
            "True\n"
          ],
          "name": "stdout"
        }
      ]
    },
    {
      "cell_type": "code",
      "metadata": {
        "id": "u32OHyy1Uobo"
      },
      "source": [
        "def getStem_removeStop(x):    \n",
        "    new_list = []\n",
        "    for word in x:\n",
        "        if word not in all_stopwords:\n",
        "            word = ss.stem(word)\n",
        "            new_list.append(word)\n",
        "    \n",
        "    return new_list"
      ],
      "execution_count": null,
      "outputs": []
    },
    {
      "cell_type": "code",
      "metadata": {
        "id": "yROaHiY6UsLm"
      },
      "source": [
        "X_ss = X.apply(lambda x:getStem_removeStop(x))"
      ],
      "execution_count": null,
      "outputs": []
    },
    {
      "cell_type": "code",
      "metadata": {
        "id": "9g8UFsgdw5fd"
      },
      "source": [
        "X_ss.to_pickle('/content/drive/My Drive/Colab Notebooks/619_nlp/X_ss.pkl')"
      ],
      "execution_count": null,
      "outputs": []
    },
    {
      "cell_type": "code",
      "metadata": {
        "id": "YOPNM07Ox454"
      },
      "source": [
        "X_ss_unpickled = pd.read_pickle('/content/drive/My Drive/Colab Notebooks/619_nlp/X_ss.pkl')"
      ],
      "execution_count": null,
      "outputs": []
    },
    {
      "cell_type": "code",
      "metadata": {
        "id": "S0o8J-BDPXEJ",
        "colab": {
          "base_uri": "https://localhost:8080/",
          "height": 119
        },
        "outputId": "af5ddecc-9e2a-4887-9db5-cb12dc5e87c8"
      },
      "source": [
        "X_ss_unpickled.head()"
      ],
      "execution_count": null,
      "outputs": [
        {
          "output_type": "execute_result",
          "data": {
            "text/plain": [
              "1    [admiss, date, discharg, date, date, birth, se...\n",
              "2    [admiss, date, discharg, date, date, birth, se...\n",
              "4    [admiss, date, discharg, date, date, birth, se...\n",
              "7    [name, known, lastnam, known, firstnam, unit, ...\n",
              "9    [admiss, date, discharg, date, date, birth, se...\n",
              "Name: TEXT, dtype: object"
            ]
          },
          "metadata": {
            "tags": []
          },
          "execution_count": 13
        }
      ]
    },
    {
      "cell_type": "code",
      "metadata": {
        "id": "IcYELdnDU3c6"
      },
      "source": [
        "X_notes = X_ss_unpickled.apply(lambda x:' '.join(x))"
      ],
      "execution_count": null,
      "outputs": []
    },
    {
      "cell_type": "code",
      "metadata": {
        "id": "hTKTHNLGzODZ",
        "colab": {
          "base_uri": "https://localhost:8080/",
          "height": 119
        },
        "outputId": "98d7e6ab-551a-48a7-df44-09fc3f977210"
      },
      "source": [
        "X_notes.head()"
      ],
      "execution_count": null,
      "outputs": [
        {
          "output_type": "execute_result",
          "data": {
            "text/plain": [
              "1    admiss date discharg date date birth sex servi...\n",
              "2    admiss date discharg date date birth sex f ser...\n",
              "4    admiss date discharg date date birth sex f ser...\n",
              "7    name known lastnam known firstnam unit numer i...\n",
              "9    admiss date discharg date date birth sex f ser...\n",
              "Name: TEXT, dtype: object"
            ]
          },
          "metadata": {
            "tags": []
          },
          "execution_count": 15
        }
      ]
    },
    {
      "cell_type": "markdown",
      "metadata": {
        "id": "zuYBogHwHoT7"
      },
      "source": [
        "### Top 30 most common words in corpus (after applying stemming and removing stopwords):"
      ]
    },
    {
      "cell_type": "code",
      "metadata": {
        "id": "43-ZxvqKHR0Q",
        "colab": {
          "base_uri": "https://localhost:8080/",
          "height": 527
        },
        "outputId": "7320a257-18f5-4faf-d999-48167a6fc130"
      },
      "source": [
        "from collections import Counter\n",
        "Counter(\" \".join(X_notes).split()).most_common(30)"
      ],
      "execution_count": null,
      "outputs": [
        {
          "output_type": "execute_result",
          "data": {
            "text/plain": [
              "[('mg', 692388),\n",
              " ('tablet', 573821),\n",
              " ('name', 546872),\n",
              " ('patient', 485790),\n",
              " ('po', 421234),\n",
              " ('day', 403924),\n",
              " ('blood', 394534),\n",
              " ('discharg', 388784),\n",
              " ('hospit', 357821),\n",
              " ('daili', 340227),\n",
              " ('sig', 331181),\n",
              " ('one', 309953),\n",
              " ('left', 279614),\n",
              " ('last', 269549),\n",
              " ('histori', 267787),\n",
              " ('medic', 254637),\n",
              " ('right', 231133),\n",
              " ('time', 217385),\n",
              " ('pm', 210812),\n",
              " ('pt', 201448),\n",
              " ('pain', 199926),\n",
              " ('admiss', 190642),\n",
              " ('date', 187167),\n",
              " ('normal', 175212),\n",
              " ('follow', 168744),\n",
              " ('p', 166811),\n",
              " ('q', 163196),\n",
              " ('first', 162728),\n",
              " ('ct', 156808),\n",
              " ('c', 152640)]"
            ]
          },
          "metadata": {
            "tags": []
          },
          "execution_count": 16
        }
      ]
    },
    {
      "cell_type": "markdown",
      "metadata": {
        "id": "v-ZvZY2EVou-"
      },
      "source": [
        "## Train-test split"
      ]
    },
    {
      "cell_type": "code",
      "metadata": {
        "id": "7PjHlz4Xbnx6"
      },
      "source": [
        "X_train, X_test, y_train, y_test = train_test_split(X_notes, y, test_size = 0.30, random_state = 42, stratify = y)"
      ],
      "execution_count": null,
      "outputs": []
    },
    {
      "cell_type": "code",
      "metadata": {
        "id": "ssEzH2YSb0Z8",
        "colab": {
          "base_uri": "https://localhost:8080/",
          "height": 85
        },
        "outputId": "8e7a05f4-f049-4c2f-a36b-d3f1a6c726cd"
      },
      "source": [
        "print( len(X_train) )\n",
        "print( len(X_test) )\n",
        "print( len(y_train) )\n",
        "print( len(y_test) )"
      ],
      "execution_count": null,
      "outputs": [
        {
          "output_type": "stream",
          "text": [
            "35779\n",
            "15334\n",
            "35779\n",
            "15334\n"
          ],
          "name": "stdout"
        }
      ]
    },
    {
      "cell_type": "markdown",
      "metadata": {
        "id": "ctfkwi-icGaA"
      },
      "source": [
        "### Creating the Bag of Words model"
      ]
    },
    {
      "cell_type": "code",
      "metadata": {
        "id": "Mjl0Tohfb8WU"
      },
      "source": [
        "from sklearn.feature_extraction.text import CountVectorizer\n",
        "cv = CountVectorizer(max_features = 4000, ngram_range=(1, 2))\n",
        "X_train = cv.fit_transform(X_train)\n",
        "X_test = cv.transform(X_test)"
      ],
      "execution_count": null,
      "outputs": []
    },
    {
      "cell_type": "code",
      "metadata": {
        "id": "rfv_aInkQBxa",
        "colab": {
          "base_uri": "https://localhost:8080/",
          "height": 51
        },
        "outputId": "b34c1cab-4302-48c6-9375-2bf8e43eefd1"
      },
      "source": [
        "X_train"
      ],
      "execution_count": null,
      "outputs": [
        {
          "output_type": "execute_result",
          "data": {
            "text/plain": [
              "<35779x4000 sparse matrix of type '<class 'numpy.int64'>'\n",
              "\twith 20433229 stored elements in Compressed Sparse Row format>"
            ]
          },
          "metadata": {
            "tags": []
          },
          "execution_count": 21
        }
      ]
    },
    {
      "cell_type": "markdown",
      "metadata": {
        "id": "mf9E0oYaQFUa"
      },
      "source": [
        "### Model 1: Guassian NB"
      ]
    },
    {
      "cell_type": "code",
      "metadata": {
        "id": "TC2oqgJDQUpC",
        "colab": {
          "base_uri": "https://localhost:8080/",
          "height": 136
        },
        "outputId": "5cb1323e-01be-49de-fb8c-4723fe6d41bb"
      },
      "source": [
        "X_train.toarray()"
      ],
      "execution_count": null,
      "outputs": [
        {
          "output_type": "execute_result",
          "data": {
            "text/plain": [
              "array([[0, 0, 1, ..., 0, 0, 0],\n",
              "       [0, 0, 0, ..., 0, 0, 0],\n",
              "       [0, 0, 0, ..., 0, 0, 0],\n",
              "       ...,\n",
              "       [0, 0, 0, ..., 0, 0, 0],\n",
              "       [0, 0, 0, ..., 0, 0, 0],\n",
              "       [0, 0, 0, ..., 0, 0, 0]])"
            ]
          },
          "metadata": {
            "tags": []
          },
          "execution_count": 22
        }
      ]
    },
    {
      "cell_type": "code",
      "metadata": {
        "id": "aGg4VTuUQEnq",
        "colab": {
          "base_uri": "https://localhost:8080/",
          "height": 34
        },
        "outputId": "7fbf4a5e-3cba-4518-8f50-9232bd26a396"
      },
      "source": [
        "classifier = GaussianNB()\n",
        "classifier.fit(X_train.toarray(), y_train)"
      ],
      "execution_count": null,
      "outputs": [
        {
          "output_type": "execute_result",
          "data": {
            "text/plain": [
              "GaussianNB(priors=None, var_smoothing=1e-09)"
            ]
          },
          "metadata": {
            "tags": []
          },
          "execution_count": 23
        }
      ]
    },
    {
      "cell_type": "code",
      "metadata": {
        "id": "ZMfNeuyKQRr-",
        "colab": {
          "base_uri": "https://localhost:8080/",
          "height": 34
        },
        "outputId": "0f622448-6d77-4df4-e791-df7364cf58af"
      },
      "source": [
        "y_pred = classifier.predict(X_test.toarray())\n",
        "accuracy = accuracy_score(y_test, y_pred)\n",
        "print(\"Accuracy: %.2f%%\" % (accuracy * 100.0))"
      ],
      "execution_count": null,
      "outputs": [
        {
          "output_type": "stream",
          "text": [
            "Accuracy: 72.42%\n"
          ],
          "name": "stdout"
        }
      ]
    },
    {
      "cell_type": "code",
      "metadata": {
        "id": "hE4r51DHQVP9",
        "colab": {
          "base_uri": "https://localhost:8080/",
          "height": 51
        },
        "outputId": "509aa756-f01d-49b2-f53b-f6837924a937"
      },
      "source": [
        "cm = confusion_matrix(y_test, y_pred)\n",
        "print(cm)"
      ],
      "execution_count": null,
      "outputs": [
        {
          "output_type": "stream",
          "text": [
            "[[10629  3804]\n",
            " [  425   476]]\n"
          ],
          "name": "stdout"
        }
      ]
    },
    {
      "cell_type": "code",
      "metadata": {
        "id": "PNH3-QNaQbao",
        "colab": {
          "base_uri": "https://localhost:8080/",
          "height": 34
        },
        "outputId": "d9cc1603-c56d-4da9-c5fa-e64cd349f096"
      },
      "source": [
        "fpr, tpr, thresholds = roc_curve(y_test, y_pred)\n",
        "auc(fpr, tpr)"
      ],
      "execution_count": null,
      "outputs": [
        {
          "output_type": "execute_result",
          "data": {
            "text/plain": [
              "0.6323696089543224"
            ]
          },
          "metadata": {
            "tags": []
          },
          "execution_count": 26
        }
      ]
    },
    {
      "cell_type": "code",
      "metadata": {
        "id": "5Cl1naDGRi3B",
        "colab": {
          "base_uri": "https://localhost:8080/",
          "height": 282
        },
        "outputId": "f5affe26-3f98-4a5c-8933-63b86bcbe284"
      },
      "source": [
        "plt.plot(fpr, tpr)"
      ],
      "execution_count": null,
      "outputs": [
        {
          "output_type": "execute_result",
          "data": {
            "text/plain": [
              "[<matplotlib.lines.Line2D at 0x7f20d2a9cdd8>]"
            ]
          },
          "metadata": {
            "tags": []
          },
          "execution_count": 27
        },
        {
          "output_type": "display_data",
          "data": {
            "image/png": "[encoded data removed]",
            "text/plain": [
              "<Figure size 432x288 with 1 Axes>"
            ]
          },
          "metadata": {
            "tags": [],
            "needs_background": "light"
          }
        }
      ]
    },
    {
      "cell_type": "markdown",
      "metadata": {
        "id": "Rl_BDk7XQoFY"
      },
      "source": [
        "### Model 2: XgBoost"
      ]
    },
    {
      "cell_type": "code",
      "metadata": {
        "id": "NOeEZWoaQdXT",
        "colab": {
          "base_uri": "https://localhost:8080/",
          "height": 187
        },
        "outputId": "8a0c1c59-40fa-4b06-e687-17e74421b737"
      },
      "source": [
        "classifier = GradientBoostingClassifier()\n",
        "classifier.fit(X_train.toarray(), y_train)"
      ],
      "execution_count": null,
      "outputs": [
        {
          "output_type": "execute_result",
          "data": {
            "text/plain": [
              "GradientBoostingClassifier(ccp_alpha=0.0, criterion='friedman_mse', init=None,\n",
              "                           learning_rate=0.1, loss='deviance', max_depth=3,\n",
              "                           max_features=None, max_leaf_nodes=None,\n",
              "                           min_impurity_decrease=0.0, min_impurity_split=None,\n",
              "                           min_samples_leaf=1, min_samples_split=2,\n",
              "                           min_weight_fraction_leaf=0.0, n_estimators=100,\n",
              "                           n_iter_no_change=None, presort='deprecated',\n",
              "                           random_state=None, subsample=1.0, tol=0.0001,\n",
              "                           validation_fraction=0.1, verbose=0,\n",
              "                           warm_start=False)"
            ]
          },
          "metadata": {
            "tags": []
          },
          "execution_count": 49
        }
      ]
    },
    {
      "cell_type": "code",
      "metadata": {
        "id": "YMHpI8Y_QsdX"
      },
      "source": [
        "y_pred = classifier.predict(X_test)"
      ],
      "execution_count": null,
      "outputs": []
    },
    {
      "cell_type": "code",
      "metadata": {
        "id": "yEtCmlU7QyAF",
        "colab": {
          "base_uri": "https://localhost:8080/",
          "height": 68
        },
        "outputId": "ba49bc2a-f72c-4403-ba3f-68294bea7322"
      },
      "source": [
        "cm = confusion_matrix(y_test, y_pred)\n",
        "print(cm)\n",
        "acuuracy = accuracy_score(y_test, y_pred)\n",
        "print(\"Accuracy: %.2f%%\" % (accuracy * 100.0))"
      ],
      "execution_count": null,
      "outputs": [
        {
          "output_type": "stream",
          "text": [
            "[[14423    10]\n",
            " [  894     7]]\n",
            "Accuracy: 94.13%\n"
          ],
          "name": "stdout"
        }
      ]
    },
    {
      "cell_type": "code",
      "metadata": {
        "id": "PXpYMcnHQuP8",
        "colab": {
          "base_uri": "https://localhost:8080/",
          "height": 34
        },
        "outputId": "de34dfdf-867a-4b68-a0c1-48861d50d88b"
      },
      "source": [
        "fpr, tpr, thresholds = roc_curve(y_test, y_pred)\n",
        "auc(fpr, tpr)"
      ],
      "execution_count": null,
      "outputs": [
        {
          "output_type": "execute_result",
          "data": {
            "text/plain": [
              "0.5035381443730236"
            ]
          },
          "metadata": {
            "tags": []
          },
          "execution_count": 52
        }
      ]
    },
    {
      "cell_type": "code",
      "metadata": {
        "id": "U-m7mpna3z1q",
        "colab": {
          "base_uri": "https://localhost:8080/",
          "height": 282
        },
        "outputId": "1aff1fad-341a-47d2-d66e-877b677ae51d"
      },
      "source": [
        "plt.plot(fpr, tpr)"
      ],
      "execution_count": null,
      "outputs": [
        {
          "output_type": "execute_result",
          "data": {
            "text/plain": [
              "[<matplotlib.lines.Line2D at 0x7f20dc501588>]"
            ]
          },
          "metadata": {
            "tags": []
          },
          "execution_count": 55
        },
        {
          "output_type": "display_data",
          "data": {
            "image/png": "[encoded data removed]",
            "text/plain": [
              "<Figure size 432x288 with 1 Axes>"
            ]
          },
          "metadata": {
            "tags": [],
            "needs_background": "light"
          }
        }
      ]
    },
    {
      "cell_type": "markdown",
      "metadata": {
        "id": "HTE5Hox7QzeC"
      },
      "source": [
        "### Model 3: Logistic Regression"
      ]
    },
    {
      "cell_type": "code",
      "metadata": {
        "id": "HOvR-2QXQ3fT",
        "colab": {
          "base_uri": "https://localhost:8080/",
          "height": 102
        },
        "outputId": "525230ca-eeda-410a-90d5-44d4f136d934"
      },
      "source": [
        "classifier = LogisticRegression(max_iter=3000)\n",
        "classifier.fit(X_train.toarray(), y_train)"
      ],
      "execution_count": null,
      "outputs": [
        {
          "output_type": "execute_result",
          "data": {
            "text/plain": [
              "LogisticRegression(C=1.0, class_weight=None, dual=False, fit_intercept=True,\n",
              "                   intercept_scaling=1, l1_ratio=None, max_iter=3000,\n",
              "                   multi_class='auto', n_jobs=None, penalty='l2',\n",
              "                   random_state=None, solver='lbfgs', tol=0.0001, verbose=0,\n",
              "                   warm_start=False)"
            ]
          },
          "metadata": {
            "tags": []
          },
          "execution_count": 57
        }
      ]
    },
    {
      "cell_type": "code",
      "metadata": {
        "id": "dxrtE3xKQ7GB"
      },
      "source": [
        "y_pred = classifier.predict(X_test.toarray())"
      ],
      "execution_count": null,
      "outputs": []
    },
    {
      "cell_type": "code",
      "metadata": {
        "id": "8GO24OaBQ_cE",
        "colab": {
          "base_uri": "https://localhost:8080/",
          "height": 68
        },
        "outputId": "8e4c521c-06b6-4ddc-8f83-5b79057cdaea"
      },
      "source": [
        "cm = confusion_matrix(y_test, y_pred)\n",
        "print(cm)\n",
        "accuracy = accuracy_score(y_test, y_pred)\n",
        "print(\"Accuracy: %.2f%%\" % (accuracy * 100.0))"
      ],
      "execution_count": null,
      "outputs": [
        {
          "output_type": "stream",
          "text": [
            "[[13858   575]\n",
            " [  799   102]]\n",
            "Accuracy: 91.04%\n"
          ],
          "name": "stdout"
        }
      ]
    },
    {
      "cell_type": "code",
      "metadata": {
        "id": "b7300QHmQ9cG",
        "colab": {
          "base_uri": "https://localhost:8080/",
          "height": 34
        },
        "outputId": "5b11567d-b102-420b-9519-2524aec30303"
      },
      "source": [
        "fpr, tpr, thresholds = roc_curve(y_test, y_pred)\n",
        "auc(fpr, tpr)"
      ],
      "execution_count": null,
      "outputs": [
        {
          "output_type": "execute_result",
          "data": {
            "text/plain": [
              "0.536684144956069"
            ]
          },
          "metadata": {
            "tags": []
          },
          "execution_count": 60
        }
      ]
    },
    {
      "cell_type": "code",
      "metadata": {
        "id": "NIJgP0Dw6OZ-",
        "colab": {
          "base_uri": "https://localhost:8080/",
          "height": 282
        },
        "outputId": "6852c233-fd6f-4f2f-953f-8b6c2f7cf776"
      },
      "source": [
        "plt.plot(fpr, tpr)"
      ],
      "execution_count": null,
      "outputs": [
        {
          "output_type": "execute_result",
          "data": {
            "text/plain": [
              "[<matplotlib.lines.Line2D at 0x7f20d62ce208>]"
            ]
          },
          "metadata": {
            "tags": []
          },
          "execution_count": 61
        },
        {
          "output_type": "display_data",
          "data": {
            "image/png": "[encoded data removed]",
            "text/plain": [
              "<Figure size 432x288 with 1 Axes>"
            ]
          },
          "metadata": {
            "tags": [],
            "needs_background": "light"
          }
        }
      ]
    },
    {
      "cell_type": "markdown",
      "metadata": {
        "id": "3mcj820m51wZ"
      },
      "source": [
        "### Model 4: Random Forest Classifier"
      ]
    },
    {
      "cell_type": "code",
      "metadata": {
        "id": "nVTy6rff51Jf",
        "colab": {
          "base_uri": "https://localhost:8080/",
          "height": 153
        },
        "outputId": "7793ac21-ae36-4209-e346-12c7595dd64e"
      },
      "source": [
        "classifier = RandomForestClassifier()\n",
        "classifier.fit(X_train.toarray(), y_train)"
      ],
      "execution_count": null,
      "outputs": [
        {
          "output_type": "execute_result",
          "data": {
            "text/plain": [
              "RandomForestClassifier(bootstrap=True, ccp_alpha=0.0, class_weight=None,\n",
              "                       criterion='gini', max_depth=None, max_features='auto',\n",
              "                       max_leaf_nodes=None, max_samples=None,\n",
              "                       min_impurity_decrease=0.0, min_impurity_split=None,\n",
              "                       min_samples_leaf=1, min_samples_split=2,\n",
              "                       min_weight_fraction_leaf=0.0, n_estimators=100,\n",
              "                       n_jobs=None, oob_score=False, random_state=None,\n",
              "                       verbose=0, warm_start=False)"
            ]
          },
          "metadata": {
            "tags": []
          },
          "execution_count": 39
        }
      ]
    },
    {
      "cell_type": "code",
      "metadata": {
        "id": "dThFXhsT5_cd"
      },
      "source": [
        "y_pred = classifier.predict(X_test.toarray())"
      ],
      "execution_count": null,
      "outputs": []
    },
    {
      "cell_type": "code",
      "metadata": {
        "id": "HjU9-zhI6BH1",
        "colab": {
          "base_uri": "https://localhost:8080/",
          "height": 68
        },
        "outputId": "669705a3-8de6-4934-abec-15637b10ed7c"
      },
      "source": [
        "cm = confusion_matrix(y_test, y_pred)\n",
        "print(cm)\n",
        "accuracy = accuracy_score(y_test, y_pred)\n",
        "print(\"Accuracy: %.2f%%\" % (accuracy * 100.0))"
      ],
      "execution_count": null,
      "outputs": [
        {
          "output_type": "stream",
          "text": [
            "[[14433     0]\n",
            " [  900     1]]\n",
            "Accuracy: 94.13%\n"
          ],
          "name": "stdout"
        }
      ]
    },
    {
      "cell_type": "code",
      "metadata": {
        "id": "nG877NJT6FDT",
        "colab": {
          "base_uri": "https://localhost:8080/",
          "height": 34
        },
        "outputId": "e0e804a9-8399-4a48-efd2-26bec39c8718"
      },
      "source": [
        "fpr, tpr, thresholds = roc_curve(y_test, y_pred)\n",
        "auc(fpr, tpr)"
      ],
      "execution_count": null,
      "outputs": [
        {
          "output_type": "execute_result",
          "data": {
            "text/plain": [
              "0.5005549389567148"
            ]
          },
          "metadata": {
            "tags": []
          },
          "execution_count": 42
        }
      ]
    },
    {
      "cell_type": "code",
      "metadata": {
        "id": "moo9Tmod6pYO",
        "colab": {
          "base_uri": "https://localhost:8080/",
          "height": 282
        },
        "outputId": "5f74b9c7-d470-4f15-8b6e-dd188350284c"
      },
      "source": [
        "plt.plot(fpr, tpr)"
      ],
      "execution_count": null,
      "outputs": [
        {
          "output_type": "execute_result",
          "data": {
            "text/plain": [
              "[<matplotlib.lines.Line2D at 0x7f20d3345dd8>]"
            ]
          },
          "metadata": {
            "tags": []
          },
          "execution_count": 43
        },
        {
          "output_type": "display_data",
          "data": {
            "image/png": "[encoded data removed]",
            "text/plain": [
              "<Figure size 432x288 with 1 Axes>"
            ]
          },
          "metadata": {
            "tags": [],
            "needs_background": "light"
          }
        }
      ]
    },
    {
      "cell_type": "markdown",
      "metadata": {
        "id": "U5WXlBuvKqUH"
      },
      "source": [
        "Summary of all models:\n",
        "- model 1 Guassian NB : accuracy=72.42% and auc=0.63\n",
        "- model 2 XGBoost : accuracy=94% and auc=0.50\n",
        "- model 3 Logistic Regression : accuracy= 91% and auc=0.53\n",
        "- model 4 Random Forest : accuracy=94.13% and auc=0.50\n",
        "\n",
        "Model 1 Guassian NB is the best performing model from these 4 models. It doesn't have high accuracy values like the other three models, but it shows better AUC value than all other models."
      ]
    },
    {
      "cell_type": "code",
      "metadata": {
        "id": "yg1fHUD3L43M"
      },
      "source": [],
      "execution_count": null,
      "outputs": []
    }
  ]
}