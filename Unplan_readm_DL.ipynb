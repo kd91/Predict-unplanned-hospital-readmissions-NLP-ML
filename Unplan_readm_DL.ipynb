{
  "nbformat": 4,
  "nbformat_minor": 0,
  "metadata": {
    "colab": {
      "name": "Mimic_Project_DL.ipynb",
      "provenance": [],
      "collapsed_sections": []
    },
    "kernelspec": {
      "name": "python3",
      "display_name": "Python 3"
    },
    "accelerator": "GPU",
    "widgets": {
      "application/vnd.jupyter.widget-state+json": {
        "b1940e33c3ed4ad88d90e982edd3312d": {
          "model_module": "@jupyter-widgets/controls",
          "model_name": "HBoxModel",
          "state": {
            "_view_name": "HBoxView",
            "_dom_classes": [],
            "_model_name": "HBoxModel",
            "_view_module": "@jupyter-widgets/controls",
            "_model_module_version": "1.5.0",
            "_view_count": null,
            "_view_module_version": "1.5.0",
            "box_style": "",
            "layout": "IPY_MODEL_9f2163c9d4ff4f4d867dc1f8d019f507",
            "_model_module": "@jupyter-widgets/controls",
            "children": [
              "IPY_MODEL_9949d34bf99442068cde43522f57ea0e",
              "IPY_MODEL_7f1a1d8df7a04af1b0ebeeb0f6fa2a80"
            ]
          }
        },
        "9f2163c9d4ff4f4d867dc1f8d019f507": {
          "model_module": "@jupyter-widgets/base",
          "model_name": "LayoutModel",
          "state": {
            "_view_name": "LayoutView",
            "grid_template_rows": null,
            "right": null,
            "justify_content": null,
            "_view_module": "@jupyter-widgets/base",
            "overflow": null,
            "_model_module_version": "1.2.0",
            "_view_count": null,
            "flex_flow": null,
            "width": null,
            "min_width": null,
            "border": null,
            "align_items": null,
            "bottom": null,
            "_model_module": "@jupyter-widgets/base",
            "top": null,
            "grid_column": null,
            "overflow_y": null,
            "overflow_x": null,
            "grid_auto_flow": null,
            "grid_area": null,
            "grid_template_columns": null,
            "flex": null,
            "_model_name": "LayoutModel",
            "justify_items": null,
            "grid_row": null,
            "max_height": null,
            "align_content": null,
            "visibility": null,
            "align_self": null,
            "height": null,
            "min_height": null,
            "padding": null,
            "grid_auto_rows": null,
            "grid_gap": null,
            "max_width": null,
            "order": null,
            "_view_module_version": "1.2.0",
            "grid_template_areas": null,
            "object_position": null,
            "object_fit": null,
            "grid_auto_columns": null,
            "margin": null,
            "display": null,
            "left": null
          }
        },
        "9949d34bf99442068cde43522f57ea0e": {
          "model_module": "@jupyter-widgets/controls",
          "model_name": "FloatProgressModel",
          "state": {
            "_view_name": "ProgressView",
            "style": "IPY_MODEL_f52851623e794b589937382bb32ab5d1",
            "_dom_classes": [],
            "description": "Downloading: 100%",
            "_model_name": "FloatProgressModel",
            "bar_style": "success",
            "max": 442,
            "_view_module": "@jupyter-widgets/controls",
            "_model_module_version": "1.5.0",
            "value": 442,
            "_view_count": null,
            "_view_module_version": "1.5.0",
            "orientation": "horizontal",
            "min": 0,
            "description_tooltip": null,
            "_model_module": "@jupyter-widgets/controls",
            "layout": "IPY_MODEL_b95e6ded49e949b38aa9feb7372055aa"
          }
        },
        "7f1a1d8df7a04af1b0ebeeb0f6fa2a80": {
          "model_module": "@jupyter-widgets/controls",
          "model_name": "HTMLModel",
          "state": {
            "_view_name": "HTMLView",
            "style": "IPY_MODEL_4f0ef3b294c24861af7397cf672e0f06",
            "_dom_classes": [],
            "description": "",
            "_model_name": "HTMLModel",
            "placeholder": "​",
            "_view_module": "@jupyter-widgets/controls",
            "_model_module_version": "1.5.0",
            "value": " 442/442 [00:05&lt;00:00, 87.5B/s]",
            "_view_count": null,
            "_view_module_version": "1.5.0",
            "description_tooltip": null,
            "_model_module": "@jupyter-widgets/controls",
            "layout": "IPY_MODEL_b32b0f24e30248148bbf59b99d8dba5c"
          }
        },
        "f52851623e794b589937382bb32ab5d1": {
          "model_module": "@jupyter-widgets/controls",
          "model_name": "ProgressStyleModel",
          "state": {
            "_view_name": "StyleView",
            "_model_name": "ProgressStyleModel",
            "description_width": "initial",
            "_view_module": "@jupyter-widgets/base",
            "_model_module_version": "1.5.0",
            "_view_count": null,
            "_view_module_version": "1.2.0",
            "bar_color": null,
            "_model_module": "@jupyter-widgets/controls"
          }
        },
        "b95e6ded49e949b38aa9feb7372055aa": {
          "model_module": "@jupyter-widgets/base",
          "model_name": "LayoutModel",
          "state": {
            "_view_name": "LayoutView",
            "grid_template_rows": null,
            "right": null,
            "justify_content": null,
            "_view_module": "@jupyter-widgets/base",
            "overflow": null,
            "_model_module_version": "1.2.0",
            "_view_count": null,
            "flex_flow": null,
            "width": null,
            "min_width": null,
            "border": null,
            "align_items": null,
            "bottom": null,
            "_model_module": "@jupyter-widgets/base",
            "top": null,
            "grid_column": null,
            "overflow_y": null,
            "overflow_x": null,
            "grid_auto_flow": null,
            "grid_area": null,
            "grid_template_columns": null,
            "flex": null,
            "_model_name": "LayoutModel",
            "justify_items": null,
            "grid_row": null,
            "max_height": null,
            "align_content": null,
            "visibility": null,
            "align_self": null,
            "height": null,
            "min_height": null,
            "padding": null,
            "grid_auto_rows": null,
            "grid_gap": null,
            "max_width": null,
            "order": null,
            "_view_module_version": "1.2.0",
            "grid_template_areas": null,
            "object_position": null,
            "object_fit": null,
            "grid_auto_columns": null,
            "margin": null,
            "display": null,
            "left": null
          }
        },
        "4f0ef3b294c24861af7397cf672e0f06": {
          "model_module": "@jupyter-widgets/controls",
          "model_name": "DescriptionStyleModel",
          "state": {
            "_view_name": "StyleView",
            "_model_name": "DescriptionStyleModel",
            "description_width": "",
            "_view_module": "@jupyter-widgets/base",
            "_model_module_version": "1.5.0",
            "_view_count": null,
            "_view_module_version": "1.2.0",
            "_model_module": "@jupyter-widgets/controls"
          }
        },
        "b32b0f24e30248148bbf59b99d8dba5c": {
          "model_module": "@jupyter-widgets/base",
          "model_name": "LayoutModel",
          "state": {
            "_view_name": "LayoutView",
            "grid_template_rows": null,
            "right": null,
            "justify_content": null,
            "_view_module": "@jupyter-widgets/base",
            "overflow": null,
            "_model_module_version": "1.2.0",
            "_view_count": null,
            "flex_flow": null,
            "width": null,
            "min_width": null,
            "border": null,
            "align_items": null,
            "bottom": null,
            "_model_module": "@jupyter-widgets/base",
            "top": null,
            "grid_column": null,
            "overflow_y": null,
            "overflow_x": null,
            "grid_auto_flow": null,
            "grid_area": null,
            "grid_template_columns": null,
            "flex": null,
            "_model_name": "LayoutModel",
            "justify_items": null,
            "grid_row": null,
            "max_height": null,
            "align_content": null,
            "visibility": null,
            "align_self": null,
            "height": null,
            "min_height": null,
            "padding": null,
            "grid_auto_rows": null,
            "grid_gap": null,
            "max_width": null,
            "order": null,
            "_view_module_version": "1.2.0",
            "grid_template_areas": null,
            "object_position": null,
            "object_fit": null,
            "grid_auto_columns": null,
            "margin": null,
            "display": null,
            "left": null
          }
        },
        "e0d4ecfa41644f56a161765cd613269a": {
          "model_module": "@jupyter-widgets/controls",
          "model_name": "HBoxModel",
          "state": {
            "_view_name": "HBoxView",
            "_dom_classes": [],
            "_model_name": "HBoxModel",
            "_view_module": "@jupyter-widgets/controls",
            "_model_module_version": "1.5.0",
            "_view_count": null,
            "_view_module_version": "1.5.0",
            "box_style": "",
            "layout": "IPY_MODEL_e4b7ad9474b742418633191fba0c248b",
            "_model_module": "@jupyter-widgets/controls",
            "children": [
              "IPY_MODEL_94b11054431a4b2897b3b8082dee8231",
              "IPY_MODEL_f99cb74fa14645258fa7956b20862f8d"
            ]
          }
        },
        "e4b7ad9474b742418633191fba0c248b": {
          "model_module": "@jupyter-widgets/base",
          "model_name": "LayoutModel",
          "state": {
            "_view_name": "LayoutView",
            "grid_template_rows": null,
            "right": null,
            "justify_content": null,
            "_view_module": "@jupyter-widgets/base",
            "overflow": null,
            "_model_module_version": "1.2.0",
            "_view_count": null,
            "flex_flow": null,
            "width": null,
            "min_width": null,
            "border": null,
            "align_items": null,
            "bottom": null,
            "_model_module": "@jupyter-widgets/base",
            "top": null,
            "grid_column": null,
            "overflow_y": null,
            "overflow_x": null,
            "grid_auto_flow": null,
            "grid_area": null,
            "grid_template_columns": null,
            "flex": null,
            "_model_name": "LayoutModel",
            "justify_items": null,
            "grid_row": null,
            "max_height": null,
            "align_content": null,
            "visibility": null,
            "align_self": null,
            "height": null,
            "min_height": null,
            "padding": null,
            "grid_auto_rows": null,
            "grid_gap": null,
            "max_width": null,
            "order": null,
            "_view_module_version": "1.2.0",
            "grid_template_areas": null,
            "object_position": null,
            "object_fit": null,
            "grid_auto_columns": null,
            "margin": null,
            "display": null,
            "left": null
          }
        },
        "94b11054431a4b2897b3b8082dee8231": {
          "model_module": "@jupyter-widgets/controls",
          "model_name": "FloatProgressModel",
          "state": {
            "_view_name": "ProgressView",
            "style": "IPY_MODEL_3fd90688f2744b8cbe28bf5bd35f06de",
            "_dom_classes": [],
            "description": "Downloading: 100%",
            "_model_name": "FloatProgressModel",
            "bar_style": "success",
            "max": 231508,
            "_view_module": "@jupyter-widgets/controls",
            "_model_module_version": "1.5.0",
            "value": 231508,
            "_view_count": null,
            "_view_module_version": "1.5.0",
            "orientation": "horizontal",
            "min": 0,
            "description_tooltip": null,
            "_model_module": "@jupyter-widgets/controls",
            "layout": "IPY_MODEL_bec61deffc06466fa789a6ff38f33955"
          }
        },
        "f99cb74fa14645258fa7956b20862f8d": {
          "model_module": "@jupyter-widgets/controls",
          "model_name": "HTMLModel",
          "state": {
            "_view_name": "HTMLView",
            "style": "IPY_MODEL_bb3a02c6cadf40cf9dce591c5d209173",
            "_dom_classes": [],
            "description": "",
            "_model_name": "HTMLModel",
            "placeholder": "​",
            "_view_module": "@jupyter-widgets/controls",
            "_model_module_version": "1.5.0",
            "value": " 232k/232k [00:00&lt;00:00, 439kB/s]",
            "_view_count": null,
            "_view_module_version": "1.5.0",
            "description_tooltip": null,
            "_model_module": "@jupyter-widgets/controls",
            "layout": "IPY_MODEL_2ae83bc27e434935abb9f1fe38f3932b"
          }
        },
        "3fd90688f2744b8cbe28bf5bd35f06de": {
          "model_module": "@jupyter-widgets/controls",
          "model_name": "ProgressStyleModel",
          "state": {
            "_view_name": "StyleView",
            "_model_name": "ProgressStyleModel",
            "description_width": "initial",
            "_view_module": "@jupyter-widgets/base",
            "_model_module_version": "1.5.0",
            "_view_count": null,
            "_view_module_version": "1.2.0",
            "bar_color": null,
            "_model_module": "@jupyter-widgets/controls"
          }
        },
        "bec61deffc06466fa789a6ff38f33955": {
          "model_module": "@jupyter-widgets/base",
          "model_name": "LayoutModel",
          "state": {
            "_view_name": "LayoutView",
            "grid_template_rows": null,
            "right": null,
            "justify_content": null,
            "_view_module": "@jupyter-widgets/base",
            "overflow": null,
            "_model_module_version": "1.2.0",
            "_view_count": null,
            "flex_flow": null,
            "width": null,
            "min_width": null,
            "border": null,
            "align_items": null,
            "bottom": null,
            "_model_module": "@jupyter-widgets/base",
            "top": null,
            "grid_column": null,
            "overflow_y": null,
            "overflow_x": null,
            "grid_auto_flow": null,
            "grid_area": null,
            "grid_template_columns": null,
            "flex": null,
            "_model_name": "LayoutModel",
            "justify_items": null,
            "grid_row": null,
            "max_height": null,
            "align_content": null,
            "visibility": null,
            "align_self": null,
            "height": null,
            "min_height": null,
            "padding": null,
            "grid_auto_rows": null,
            "grid_gap": null,
            "max_width": null,
            "order": null,
            "_view_module_version": "1.2.0",
            "grid_template_areas": null,
            "object_position": null,
            "object_fit": null,
            "grid_auto_columns": null,
            "margin": null,
            "display": null,
            "left": null
          }
        },
        "bb3a02c6cadf40cf9dce591c5d209173": {
          "model_module": "@jupyter-widgets/controls",
          "model_name": "DescriptionStyleModel",
          "state": {
            "_view_name": "StyleView",
            "_model_name": "DescriptionStyleModel",
            "description_width": "",
            "_view_module": "@jupyter-widgets/base",
            "_model_module_version": "1.5.0",
            "_view_count": null,
            "_view_module_version": "1.2.0",
            "_model_module": "@jupyter-widgets/controls"
          }
        },
        "2ae83bc27e434935abb9f1fe38f3932b": {
          "model_module": "@jupyter-widgets/base",
          "model_name": "LayoutModel",
          "state": {
            "_view_name": "LayoutView",
            "grid_template_rows": null,
            "right": null,
            "justify_content": null,
            "_view_module": "@jupyter-widgets/base",
            "overflow": null,
            "_model_module_version": "1.2.0",
            "_view_count": null,
            "flex_flow": null,
            "width": null,
            "min_width": null,
            "border": null,
            "align_items": null,
            "bottom": null,
            "_model_module": "@jupyter-widgets/base",
            "top": null,
            "grid_column": null,
            "overflow_y": null,
            "overflow_x": null,
            "grid_auto_flow": null,
            "grid_area": null,
            "grid_template_columns": null,
            "flex": null,
            "_model_name": "LayoutModel",
            "justify_items": null,
            "grid_row": null,
            "max_height": null,
            "align_content": null,
            "visibility": null,
            "align_self": null,
            "height": null,
            "min_height": null,
            "padding": null,
            "grid_auto_rows": null,
            "grid_gap": null,
            "max_width": null,
            "order": null,
            "_view_module_version": "1.2.0",
            "grid_template_areas": null,
            "object_position": null,
            "object_fit": null,
            "grid_auto_columns": null,
            "margin": null,
            "display": null,
            "left": null
          }
        },
        "7eb46bb2db29472f9c35d38b6ea2359b": {
          "model_module": "@jupyter-widgets/controls",
          "model_name": "HBoxModel",
          "state": {
            "_view_name": "HBoxView",
            "_dom_classes": [],
            "_model_name": "HBoxModel",
            "_view_module": "@jupyter-widgets/controls",
            "_model_module_version": "1.5.0",
            "_view_count": null,
            "_view_module_version": "1.5.0",
            "box_style": "",
            "layout": "IPY_MODEL_600edbae8dae477a83103a9c8c0cf684",
            "_model_module": "@jupyter-widgets/controls",
            "children": [
              "IPY_MODEL_6cb1a7ede48b4b718d0618a4ef3cac38",
              "IPY_MODEL_42f2657bf31a4d179951f72254dec03f"
            ]
          }
        },
        "600edbae8dae477a83103a9c8c0cf684": {
          "model_module": "@jupyter-widgets/base",
          "model_name": "LayoutModel",
          "state": {
            "_view_name": "LayoutView",
            "grid_template_rows": null,
            "right": null,
            "justify_content": null,
            "_view_module": "@jupyter-widgets/base",
            "overflow": null,
            "_model_module_version": "1.2.0",
            "_view_count": null,
            "flex_flow": null,
            "width": null,
            "min_width": null,
            "border": null,
            "align_items": null,
            "bottom": null,
            "_model_module": "@jupyter-widgets/base",
            "top": null,
            "grid_column": null,
            "overflow_y": null,
            "overflow_x": null,
            "grid_auto_flow": null,
            "grid_area": null,
            "grid_template_columns": null,
            "flex": null,
            "_model_name": "LayoutModel",
            "justify_items": null,
            "grid_row": null,
            "max_height": null,
            "align_content": null,
            "visibility": null,
            "align_self": null,
            "height": null,
            "min_height": null,
            "padding": null,
            "grid_auto_rows": null,
            "grid_gap": null,
            "max_width": null,
            "order": null,
            "_view_module_version": "1.2.0",
            "grid_template_areas": null,
            "object_position": null,
            "object_fit": null,
            "grid_auto_columns": null,
            "margin": null,
            "display": null,
            "left": null
          }
        },
        "6cb1a7ede48b4b718d0618a4ef3cac38": {
          "model_module": "@jupyter-widgets/controls",
          "model_name": "FloatProgressModel",
          "state": {
            "_view_name": "ProgressView",
            "style": "IPY_MODEL_17c1964b52fb44cb9d98c830acf6a618",
            "_dom_classes": [],
            "description": "Downloading: 100%",
            "_model_name": "FloatProgressModel",
            "bar_style": "success",
            "max": 466062,
            "_view_module": "@jupyter-widgets/controls",
            "_model_module_version": "1.5.0",
            "value": 466062,
            "_view_count": null,
            "_view_module_version": "1.5.0",
            "orientation": "horizontal",
            "min": 0,
            "description_tooltip": null,
            "_model_module": "@jupyter-widgets/controls",
            "layout": "IPY_MODEL_ccb7b6f6c8cc4acbbf5b808ab4e269fa"
          }
        },
        "42f2657bf31a4d179951f72254dec03f": {
          "model_module": "@jupyter-widgets/controls",
          "model_name": "HTMLModel",
          "state": {
            "_view_name": "HTMLView",
            "style": "IPY_MODEL_235fc188102046238cde0099868f77fa",
            "_dom_classes": [],
            "description": "",
            "_model_name": "HTMLModel",
            "placeholder": "​",
            "_view_module": "@jupyter-widgets/controls",
            "_model_module_version": "1.5.0",
            "value": " 466k/466k [00:00&lt;00:00, 1.71MB/s]",
            "_view_count": null,
            "_view_module_version": "1.5.0",
            "description_tooltip": null,
            "_model_module": "@jupyter-widgets/controls",
            "layout": "IPY_MODEL_1fc367a9e617430b98fe1878360b4447"
          }
        },
        "17c1964b52fb44cb9d98c830acf6a618": {
          "model_module": "@jupyter-widgets/controls",
          "model_name": "ProgressStyleModel",
          "state": {
            "_view_name": "StyleView",
            "_model_name": "ProgressStyleModel",
            "description_width": "initial",
            "_view_module": "@jupyter-widgets/base",
            "_model_module_version": "1.5.0",
            "_view_count": null,
            "_view_module_version": "1.2.0",
            "bar_color": null,
            "_model_module": "@jupyter-widgets/controls"
          }
        },
        "ccb7b6f6c8cc4acbbf5b808ab4e269fa": {
          "model_module": "@jupyter-widgets/base",
          "model_name": "LayoutModel",
          "state": {
            "_view_name": "LayoutView",
            "grid_template_rows": null,
            "right": null,
            "justify_content": null,
            "_view_module": "@jupyter-widgets/base",
            "overflow": null,
            "_model_module_version": "1.2.0",
            "_view_count": null,
            "flex_flow": null,
            "width": null,
            "min_width": null,
            "border": null,
            "align_items": null,
            "bottom": null,
            "_model_module": "@jupyter-widgets/base",
            "top": null,
            "grid_column": null,
            "overflow_y": null,
            "overflow_x": null,
            "grid_auto_flow": null,
            "grid_area": null,
            "grid_template_columns": null,
            "flex": null,
            "_model_name": "LayoutModel",
            "justify_items": null,
            "grid_row": null,
            "max_height": null,
            "align_content": null,
            "visibility": null,
            "align_self": null,
            "height": null,
            "min_height": null,
            "padding": null,
            "grid_auto_rows": null,
            "grid_gap": null,
            "max_width": null,
            "order": null,
            "_view_module_version": "1.2.0",
            "grid_template_areas": null,
            "object_position": null,
            "object_fit": null,
            "grid_auto_columns": null,
            "margin": null,
            "display": null,
            "left": null
          }
        },
        "235fc188102046238cde0099868f77fa": {
          "model_module": "@jupyter-widgets/controls",
          "model_name": "DescriptionStyleModel",
          "state": {
            "_view_name": "StyleView",
            "_model_name": "DescriptionStyleModel",
            "description_width": "",
            "_view_module": "@jupyter-widgets/base",
            "_model_module_version": "1.5.0",
            "_view_count": null,
            "_view_module_version": "1.2.0",
            "_model_module": "@jupyter-widgets/controls"
          }
        },
        "1fc367a9e617430b98fe1878360b4447": {
          "model_module": "@jupyter-widgets/base",
          "model_name": "LayoutModel",
          "state": {
            "_view_name": "LayoutView",
            "grid_template_rows": null,
            "right": null,
            "justify_content": null,
            "_view_module": "@jupyter-widgets/base",
            "overflow": null,
            "_model_module_version": "1.2.0",
            "_view_count": null,
            "flex_flow": null,
            "width": null,
            "min_width": null,
            "border": null,
            "align_items": null,
            "bottom": null,
            "_model_module": "@jupyter-widgets/base",
            "top": null,
            "grid_column": null,
            "overflow_y": null,
            "overflow_x": null,
            "grid_auto_flow": null,
            "grid_area": null,
            "grid_template_columns": null,
            "flex": null,
            "_model_name": "LayoutModel",
            "justify_items": null,
            "grid_row": null,
            "max_height": null,
            "align_content": null,
            "visibility": null,
            "align_self": null,
            "height": null,
            "min_height": null,
            "padding": null,
            "grid_auto_rows": null,
            "grid_gap": null,
            "max_width": null,
            "order": null,
            "_view_module_version": "1.2.0",
            "grid_template_areas": null,
            "object_position": null,
            "object_fit": null,
            "grid_auto_columns": null,
            "margin": null,
            "display": null,
            "left": null
          }
        },
        "47f740ac869e487b8c72adc5e5f5f2cf": {
          "model_module": "@jupyter-widgets/controls",
          "model_name": "HBoxModel",
          "state": {
            "_view_name": "HBoxView",
            "_dom_classes": [],
            "_model_name": "HBoxModel",
            "_view_module": "@jupyter-widgets/controls",
            "_model_module_version": "1.5.0",
            "_view_count": null,
            "_view_module_version": "1.5.0",
            "box_style": "",
            "layout": "IPY_MODEL_b326cf44d92a44e0a177e0955806cbd0",
            "_model_module": "@jupyter-widgets/controls",
            "children": [
              "IPY_MODEL_15201396f63e45e68b993babab4519d0",
              "IPY_MODEL_76435e35b58148acbda1ab3a2b8a649d"
            ]
          }
        },
        "b326cf44d92a44e0a177e0955806cbd0": {
          "model_module": "@jupyter-widgets/base",
          "model_name": "LayoutModel",
          "state": {
            "_view_name": "LayoutView",
            "grid_template_rows": null,
            "right": null,
            "justify_content": null,
            "_view_module": "@jupyter-widgets/base",
            "overflow": null,
            "_model_module_version": "1.2.0",
            "_view_count": null,
            "flex_flow": null,
            "width": null,
            "min_width": null,
            "border": null,
            "align_items": null,
            "bottom": null,
            "_model_module": "@jupyter-widgets/base",
            "top": null,
            "grid_column": null,
            "overflow_y": null,
            "overflow_x": null,
            "grid_auto_flow": null,
            "grid_area": null,
            "grid_template_columns": null,
            "flex": null,
            "_model_name": "LayoutModel",
            "justify_items": null,
            "grid_row": null,
            "max_height": null,
            "align_content": null,
            "visibility": null,
            "align_self": null,
            "height": null,
            "min_height": null,
            "padding": null,
            "grid_auto_rows": null,
            "grid_gap": null,
            "max_width": null,
            "order": null,
            "_view_module_version": "1.2.0",
            "grid_template_areas": null,
            "object_position": null,
            "object_fit": null,
            "grid_auto_columns": null,
            "margin": null,
            "display": null,
            "left": null
          }
        },
        "15201396f63e45e68b993babab4519d0": {
          "model_module": "@jupyter-widgets/controls",
          "model_name": "FloatProgressModel",
          "state": {
            "_view_name": "ProgressView",
            "style": "IPY_MODEL_d8de51e9ab22480d962ad69e9f2aaf0e",
            "_dom_classes": [],
            "description": "Downloading: 100%",
            "_model_name": "FloatProgressModel",
            "bar_style": "success",
            "max": 363423424,
            "_view_module": "@jupyter-widgets/controls",
            "_model_module_version": "1.5.0",
            "value": 363423424,
            "_view_count": null,
            "_view_module_version": "1.5.0",
            "orientation": "horizontal",
            "min": 0,
            "description_tooltip": null,
            "_model_module": "@jupyter-widgets/controls",
            "layout": "IPY_MODEL_da7e09d9d56b4d58ad86b3fa3c80210a"
          }
        },
        "76435e35b58148acbda1ab3a2b8a649d": {
          "model_module": "@jupyter-widgets/controls",
          "model_name": "HTMLModel",
          "state": {
            "_view_name": "HTMLView",
            "style": "IPY_MODEL_580f223230c44543880dd3f29c707d95",
            "_dom_classes": [],
            "description": "",
            "_model_name": "HTMLModel",
            "placeholder": "​",
            "_view_module": "@jupyter-widgets/controls",
            "_model_module_version": "1.5.0",
            "value": " 363M/363M [00:05&lt;00:00, 67.4MB/s]",
            "_view_count": null,
            "_view_module_version": "1.5.0",
            "description_tooltip": null,
            "_model_module": "@jupyter-widgets/controls",
            "layout": "IPY_MODEL_686bda3c45b84e4588e891fc4b5f878e"
          }
        },
        "d8de51e9ab22480d962ad69e9f2aaf0e": {
          "model_module": "@jupyter-widgets/controls",
          "model_name": "ProgressStyleModel",
          "state": {
            "_view_name": "StyleView",
            "_model_name": "ProgressStyleModel",
            "description_width": "initial",
            "_view_module": "@jupyter-widgets/base",
            "_model_module_version": "1.5.0",
            "_view_count": null,
            "_view_module_version": "1.2.0",
            "bar_color": null,
            "_model_module": "@jupyter-widgets/controls"
          }
        },
        "da7e09d9d56b4d58ad86b3fa3c80210a": {
          "model_module": "@jupyter-widgets/base",
          "model_name": "LayoutModel",
          "state": {
            "_view_name": "LayoutView",
            "grid_template_rows": null,
            "right": null,
            "justify_content": null,
            "_view_module": "@jupyter-widgets/base",
            "overflow": null,
            "_model_module_version": "1.2.0",
            "_view_count": null,
            "flex_flow": null,
            "width": null,
            "min_width": null,
            "border": null,
            "align_items": null,
            "bottom": null,
            "_model_module": "@jupyter-widgets/base",
            "top": null,
            "grid_column": null,
            "overflow_y": null,
            "overflow_x": null,
            "grid_auto_flow": null,
            "grid_area": null,
            "grid_template_columns": null,
            "flex": null,
            "_model_name": "LayoutModel",
            "justify_items": null,
            "grid_row": null,
            "max_height": null,
            "align_content": null,
            "visibility": null,
            "align_self": null,
            "height": null,
            "min_height": null,
            "padding": null,
            "grid_auto_rows": null,
            "grid_gap": null,
            "max_width": null,
            "order": null,
            "_view_module_version": "1.2.0",
            "grid_template_areas": null,
            "object_position": null,
            "object_fit": null,
            "grid_auto_columns": null,
            "margin": null,
            "display": null,
            "left": null
          }
        },
        "580f223230c44543880dd3f29c707d95": {
          "model_module": "@jupyter-widgets/controls",
          "model_name": "DescriptionStyleModel",
          "state": {
            "_view_name": "StyleView",
            "_model_name": "DescriptionStyleModel",
            "description_width": "",
            "_view_module": "@jupyter-widgets/base",
            "_model_module_version": "1.5.0",
            "_view_count": null,
            "_view_module_version": "1.2.0",
            "_model_module": "@jupyter-widgets/controls"
          }
        },
        "686bda3c45b84e4588e891fc4b5f878e": {
          "model_module": "@jupyter-widgets/base",
          "model_name": "LayoutModel",
          "state": {
            "_view_name": "LayoutView",
            "grid_template_rows": null,
            "right": null,
            "justify_content": null,
            "_view_module": "@jupyter-widgets/base",
            "overflow": null,
            "_model_module_version": "1.2.0",
            "_view_count": null,
            "flex_flow": null,
            "width": null,
            "min_width": null,
            "border": null,
            "align_items": null,
            "bottom": null,
            "_model_module": "@jupyter-widgets/base",
            "top": null,
            "grid_column": null,
            "overflow_y": null,
            "overflow_x": null,
            "grid_auto_flow": null,
            "grid_area": null,
            "grid_template_columns": null,
            "flex": null,
            "_model_name": "LayoutModel",
            "justify_items": null,
            "grid_row": null,
            "max_height": null,
            "align_content": null,
            "visibility": null,
            "align_self": null,
            "height": null,
            "min_height": null,
            "padding": null,
            "grid_auto_rows": null,
            "grid_gap": null,
            "max_width": null,
            "order": null,
            "_view_module_version": "1.2.0",
            "grid_template_areas": null,
            "object_position": null,
            "object_fit": null,
            "grid_auto_columns": null,
            "margin": null,
            "display": null,
            "left": null
          }
        }
      }
    }
  },
  "cells": [
    {
      "cell_type": "markdown",
      "metadata": {
        "id": "yYbPnTUh6WlI"
      },
      "source": [
        "## Importing required libraries"
      ]
    },
    {
      "cell_type": "code",
      "metadata": {
        "id": "PMKfZhgqB8Uf"
      },
      "source": [
        "import numpy as np\n",
        "import pandas as pd\n",
        "import matplotlib.pyplot as plt\n",
        "%matplotlib inline\n",
        "import seaborn as sns"
      ],
      "execution_count": null,
      "outputs": []
    },
    {
      "cell_type": "code",
      "metadata": {
        "colab": {
          "base_uri": "https://localhost:8080/"
        },
        "id": "MTR9kn3zCHdG",
        "outputId": "61a9ba2a-050c-4591-b2b7-525f1ef1c995"
      },
      "source": [
        "import re\n",
        "import nltk\n",
        "nltk.download('stopwords')\n",
        "from nltk.corpus import stopwords\n",
        "from nltk.stem.snowball import SnowballStemmer\n",
        "from sklearn.model_selection import train_test_split\n",
        "from sklearn.feature_extraction.text import CountVectorizer\n",
        "from tensorflow.keras.preprocessing.text import Tokenizer\n",
        "from tensorflow.keras.preprocessing.sequence import pad_sequences\n",
        "from tensorflow.keras.layers import Dense, LSTM, Conv1D, Flatten, MaxPooling1D, Embedding, Dropout, Input, BatchNormalization, GlobalMaxPooling1D, concatenate\n",
        "from tensorflow.keras.models import Sequential, Model\n",
        "from tensorflow.keras.callbacks import EarlyStopping, ReduceLROnPlateau\n",
        "from sklearn.metrics import confusion_matrix, accuracy_score, roc_curve, auc, roc_auc_score\n",
        "from sklearn.preprocessing import MinMaxScaler\n",
        "from tensorflow.keras.optimizers import Adam\n",
        "from tensorflow.keras.metrics import AUC"
      ],
      "execution_count": null,
      "outputs": [
        {
          "output_type": "stream",
          "text": [
            "[nltk_data] Downloading package stopwords to /root/nltk_data...\n",
            "[nltk_data]   Package stopwords is already up-to-date!\n"
          ],
          "name": "stdout"
        }
      ]
    },
    {
      "cell_type": "code",
      "metadata": {
        "colab": {
          "base_uri": "https://localhost:8080/"
        },
        "id": "W38Hb_EOCFsJ",
        "outputId": "ca7fcb17-bb68-4887-f00d-a36f2b47cdb1"
      },
      "source": [
        "from google.colab import drive\n",
        "drive.mount('/content/drive')"
      ],
      "execution_count": null,
      "outputs": [
        {
          "output_type": "stream",
          "text": [
            "Mounted at /content/drive\n"
          ],
          "name": "stdout"
        }
      ]
    },
    {
      "cell_type": "code",
      "metadata": {
        "colab": {
          "base_uri": "https://localhost:8080/"
        },
        "id": "OQKTT0xQCGrv",
        "outputId": "bba02265-1a33-4398-d012-93b1c641836f"
      },
      "source": [
        "!pip install ktrain"
      ],
      "execution_count": null,
      "outputs": [
        {
          "output_type": "stream",
          "text": [
            "Collecting ktrain\n",
            "\u001b[?25l  Downloading https://files.pythonhosted.org/packages/bd/52/aa566f14064dd8904e37d2346431465f20a053df8ad89eae246dcc073dc5/ktrain-0.25.0.tar.gz (25.3MB)\n",
            "\u001b[K     |████████████████████████████████| 25.3MB 134kB/s \n",
            "\u001b[?25hRequirement already satisfied: scikit-learn>=0.21.3 in /usr/local/lib/python3.6/dist-packages (from ktrain) (0.22.2.post1)\n",
            "Requirement already satisfied: matplotlib>=3.0.0 in /usr/local/lib/python3.6/dist-packages (from ktrain) (3.2.2)\n",
            "Requirement already satisfied: pandas>=1.0.1 in /usr/local/lib/python3.6/dist-packages (from ktrain) (1.1.4)\n",
            "Requirement already satisfied: fastprogress>=0.1.21 in /usr/local/lib/python3.6/dist-packages (from ktrain) (1.0.0)\n",
            "Collecting keras_bert>=0.86.0\n",
            "  Downloading https://files.pythonhosted.org/packages/e2/7f/95fabd29f4502924fa3f09ff6538c5a7d290dfef2c2fe076d3d1a16e08f0/keras-bert-0.86.0.tar.gz\n",
            "Requirement already satisfied: requests in /usr/local/lib/python3.6/dist-packages (from ktrain) (2.23.0)\n",
            "Requirement already satisfied: joblib in /usr/local/lib/python3.6/dist-packages (from ktrain) (0.17.0)\n",
            "Collecting langdetect\n",
            "\u001b[?25l  Downloading https://files.pythonhosted.org/packages/56/a3/8407c1e62d5980188b4acc45ef3d94b933d14a2ebc9ef3505f22cf772570/langdetect-1.0.8.tar.gz (981kB)\n",
            "\u001b[K     |████████████████████████████████| 983kB 41.9MB/s \n",
            "\u001b[?25hRequirement already satisfied: jieba in /usr/local/lib/python3.6/dist-packages (from ktrain) (0.42.1)\n",
            "Collecting cchardet\n",
            "\u001b[?25l  Downloading https://files.pythonhosted.org/packages/a0/e5/a0b9edd8664ea3b0d3270c451ebbf86655ed9fc4c3e4c45b9afae9c2e382/cchardet-2.1.7-cp36-cp36m-manylinux2010_x86_64.whl (263kB)\n",
            "\u001b[K     |████████████████████████████████| 266kB 48.6MB/s \n",
            "\u001b[?25hRequirement already satisfied: networkx>=2.3 in /usr/local/lib/python3.6/dist-packages (from ktrain) (2.5)\n",
            "Requirement already satisfied: bokeh in /usr/local/lib/python3.6/dist-packages (from ktrain) (2.1.1)\n",
            "Collecting seqeval==0.0.19\n",
            "  Downloading https://files.pythonhosted.org/packages/93/e5/b7705156a77f742cfe4fc6f22d0c71591edb2d243328dff2f8fc0f933ab6/seqeval-0.0.19.tar.gz\n",
            "Requirement already satisfied: packaging in /usr/local/lib/python3.6/dist-packages (from ktrain) (20.4)\n",
            "Collecting transformers>=3.1.0\n",
            "\u001b[?25l  Downloading https://files.pythonhosted.org/packages/3a/83/e74092e7f24a08d751aa59b37a9fc572b2e4af3918cb66f7766c3affb1b4/transformers-3.5.1-py3-none-any.whl (1.3MB)\n",
            "\u001b[K     |████████████████████████████████| 1.3MB 42.1MB/s \n",
            "\u001b[?25hRequirement already satisfied: ipython in /usr/local/lib/python3.6/dist-packages (from ktrain) (5.5.0)\n",
            "Collecting syntok\n",
            "  Downloading https://files.pythonhosted.org/packages/8c/76/a49e73a04b3e3a14ce232e8e28a1587f8108baa665644fe8c40e307e792e/syntok-1.3.1.tar.gz\n",
            "Collecting whoosh\n",
            "\u001b[?25l  Downloading https://files.pythonhosted.org/packages/ba/19/24d0f1f454a2c1eb689ca28d2f178db81e5024f42d82729a4ff6771155cf/Whoosh-2.7.4-py2.py3-none-any.whl (468kB)\n",
            "\u001b[K     |████████████████████████████████| 471kB 38.9MB/s \n",
            "\u001b[?25hRequirement already satisfied: numpy>=1.11.0 in /usr/local/lib/python3.6/dist-packages (from scikit-learn>=0.21.3->ktrain) (1.18.5)\n",
            "Requirement already satisfied: scipy>=0.17.0 in /usr/local/lib/python3.6/dist-packages (from scikit-learn>=0.21.3->ktrain) (1.4.1)\n",
            "Requirement already satisfied: cycler>=0.10 in /usr/local/lib/python3.6/dist-packages (from matplotlib>=3.0.0->ktrain) (0.10.0)\n",
            "Requirement already satisfied: pyparsing!=2.0.4,!=2.1.2,!=2.1.6,>=2.0.1 in /usr/local/lib/python3.6/dist-packages (from matplotlib>=3.0.0->ktrain) (2.4.7)\n",
            "Requirement already satisfied: kiwisolver>=1.0.1 in /usr/local/lib/python3.6/dist-packages (from matplotlib>=3.0.0->ktrain) (1.3.1)\n",
            "Requirement already satisfied: python-dateutil>=2.1 in /usr/local/lib/python3.6/dist-packages (from matplotlib>=3.0.0->ktrain) (2.8.1)\n",
            "Requirement already satisfied: pytz>=2017.2 in /usr/local/lib/python3.6/dist-packages (from pandas>=1.0.1->ktrain) (2018.9)\n",
            "Requirement already satisfied: Keras>=2.4.3 in /usr/local/lib/python3.6/dist-packages (from keras_bert>=0.86.0->ktrain) (2.4.3)\n",
            "Collecting keras-transformer>=0.38.0\n",
            "  Downloading https://files.pythonhosted.org/packages/89/6c/d6f0c164f4cc16fbc0d0fea85f5526e87a7d2df7b077809e422a7e626150/keras-transformer-0.38.0.tar.gz\n",
            "Requirement already satisfied: idna<3,>=2.5 in /usr/local/lib/python3.6/dist-packages (from requests->ktrain) (2.10)\n",
            "Requirement already satisfied: urllib3!=1.25.0,!=1.25.1,<1.26,>=1.21.1 in /usr/local/lib/python3.6/dist-packages (from requests->ktrain) (1.24.3)\n",
            "Requirement already satisfied: certifi>=2017.4.17 in /usr/local/lib/python3.6/dist-packages (from requests->ktrain) (2020.6.20)\n",
            "Requirement already satisfied: chardet<4,>=3.0.2 in /usr/local/lib/python3.6/dist-packages (from requests->ktrain) (3.0.4)\n",
            "Requirement already satisfied: six in /usr/local/lib/python3.6/dist-packages (from langdetect->ktrain) (1.15.0)\n",
            "Requirement already satisfied: decorator>=4.3.0 in /usr/local/lib/python3.6/dist-packages (from networkx>=2.3->ktrain) (4.4.2)\n",
            "Requirement already satisfied: Jinja2>=2.7 in /usr/local/lib/python3.6/dist-packages (from bokeh->ktrain) (2.11.2)\n",
            "Requirement already satisfied: PyYAML>=3.10 in /usr/local/lib/python3.6/dist-packages (from bokeh->ktrain) (3.13)\n",
            "Requirement already satisfied: tornado>=5.1 in /usr/local/lib/python3.6/dist-packages (from bokeh->ktrain) (5.1.1)\n",
            "Requirement already satisfied: pillow>=4.0 in /usr/local/lib/python3.6/dist-packages (from bokeh->ktrain) (7.0.0)\n",
            "Requirement already satisfied: typing-extensions>=3.7.4 in /usr/local/lib/python3.6/dist-packages (from bokeh->ktrain) (3.7.4.3)\n",
            "Requirement already satisfied: tqdm>=4.27 in /usr/local/lib/python3.6/dist-packages (from transformers>=3.1.0->ktrain) (4.41.1)\n",
            "Requirement already satisfied: regex!=2019.12.17 in /usr/local/lib/python3.6/dist-packages (from transformers>=3.1.0->ktrain) (2019.12.20)\n",
            "Collecting sacremoses\n",
            "\u001b[?25l  Downloading https://files.pythonhosted.org/packages/7d/34/09d19aff26edcc8eb2a01bed8e98f13a1537005d31e95233fd48216eed10/sacremoses-0.0.43.tar.gz (883kB)\n",
            "\u001b[K     |████████████████████████████████| 890kB 38.7MB/s \n",
            "\u001b[?25hCollecting sentencepiece==0.1.91\n",
            "\u001b[?25l  Downloading https://files.pythonhosted.org/packages/d4/a4/d0a884c4300004a78cca907a6ff9a5e9fe4f090f5d95ab341c53d28cbc58/sentencepiece-0.1.91-cp36-cp36m-manylinux1_x86_64.whl (1.1MB)\n",
            "\u001b[K     |████████████████████████████████| 1.1MB 38.8MB/s \n",
            "\u001b[?25hRequirement already satisfied: dataclasses; python_version < \"3.7\" in /usr/local/lib/python3.6/dist-packages (from transformers>=3.1.0->ktrain) (0.7)\n",
            "Requirement already satisfied: filelock in /usr/local/lib/python3.6/dist-packages (from transformers>=3.1.0->ktrain) (3.0.12)\n",
            "Collecting tokenizers==0.9.3\n",
            "\u001b[?25l  Downloading https://files.pythonhosted.org/packages/4c/34/b39eb9994bc3c999270b69c9eea40ecc6f0e97991dba28282b9fd32d44ee/tokenizers-0.9.3-cp36-cp36m-manylinux1_x86_64.whl (2.9MB)\n",
            "\u001b[K     |████████████████████████████████| 2.9MB 42.1MB/s \n",
            "\u001b[?25hRequirement already satisfied: protobuf in /usr/local/lib/python3.6/dist-packages (from transformers>=3.1.0->ktrain) (3.12.4)\n",
            "Requirement already satisfied: setuptools>=18.5 in /usr/local/lib/python3.6/dist-packages (from ipython->ktrain) (50.3.2)\n",
            "Requirement already satisfied: simplegeneric>0.8 in /usr/local/lib/python3.6/dist-packages (from ipython->ktrain) (0.8.1)\n",
            "Requirement already satisfied: prompt-toolkit<2.0.0,>=1.0.4 in /usr/local/lib/python3.6/dist-packages (from ipython->ktrain) (1.0.18)\n",
            "Requirement already satisfied: traitlets>=4.2 in /usr/local/lib/python3.6/dist-packages (from ipython->ktrain) (4.3.3)\n",
            "Requirement already satisfied: pickleshare in /usr/local/lib/python3.6/dist-packages (from ipython->ktrain) (0.7.5)\n",
            "Requirement already satisfied: pygments in /usr/local/lib/python3.6/dist-packages (from ipython->ktrain) (2.6.1)\n",
            "Requirement already satisfied: pexpect; sys_platform != \"win32\" in /usr/local/lib/python3.6/dist-packages (from ipython->ktrain) (4.8.0)\n",
            "Requirement already satisfied: h5py in /usr/local/lib/python3.6/dist-packages (from Keras>=2.4.3->keras_bert>=0.86.0->ktrain) (2.10.0)\n",
            "Collecting keras-pos-embd>=0.11.0\n",
            "  Downloading https://files.pythonhosted.org/packages/09/70/b63ed8fc660da2bb6ae29b9895401c628da5740c048c190b5d7107cadd02/keras-pos-embd-0.11.0.tar.gz\n",
            "Collecting keras-multi-head>=0.27.0\n",
            "  Downloading https://files.pythonhosted.org/packages/e6/32/45adf2549450aca7867deccfa04af80a0ab1ca139af44b16bc669e0e09cd/keras-multi-head-0.27.0.tar.gz\n",
            "Collecting keras-layer-normalization>=0.14.0\n",
            "  Downloading https://files.pythonhosted.org/packages/a4/0e/d1078df0494bac9ce1a67954e5380b6e7569668f0f3b50a9531c62c1fc4a/keras-layer-normalization-0.14.0.tar.gz\n",
            "Collecting keras-position-wise-feed-forward>=0.6.0\n",
            "  Downloading https://files.pythonhosted.org/packages/e3/59/f0faa1037c033059e7e9e7758e6c23b4d1c0772cd48de14c4b6fd4033ad5/keras-position-wise-feed-forward-0.6.0.tar.gz\n",
            "Collecting keras-embed-sim>=0.8.0\n",
            "  Downloading https://files.pythonhosted.org/packages/57/ef/61a1e39082c9e1834a2d09261d4a0b69f7c818b359216d4e1912b20b1c86/keras-embed-sim-0.8.0.tar.gz\n",
            "Requirement already satisfied: MarkupSafe>=0.23 in /usr/local/lib/python3.6/dist-packages (from Jinja2>=2.7->bokeh->ktrain) (1.1.1)\n",
            "Requirement already satisfied: click in /usr/local/lib/python3.6/dist-packages (from sacremoses->transformers>=3.1.0->ktrain) (7.1.2)\n",
            "Requirement already satisfied: wcwidth in /usr/local/lib/python3.6/dist-packages (from prompt-toolkit<2.0.0,>=1.0.4->ipython->ktrain) (0.2.5)\n",
            "Requirement already satisfied: ipython-genutils in /usr/local/lib/python3.6/dist-packages (from traitlets>=4.2->ipython->ktrain) (0.2.0)\n",
            "Requirement already satisfied: ptyprocess>=0.5 in /usr/local/lib/python3.6/dist-packages (from pexpect; sys_platform != \"win32\"->ipython->ktrain) (0.6.0)\n",
            "Collecting keras-self-attention==0.46.0\n",
            "  Downloading https://files.pythonhosted.org/packages/15/6b/c804924a056955fa1f3ff767945187103cfc851ba9bd0fc5a6c6bc18e2eb/keras-self-attention-0.46.0.tar.gz\n",
            "Building wheels for collected packages: ktrain, keras-bert, langdetect, seqeval, syntok, keras-transformer, sacremoses, keras-pos-embd, keras-multi-head, keras-layer-normalization, keras-position-wise-feed-forward, keras-embed-sim, keras-self-attention\n",
            "  Building wheel for ktrain (setup.py) ... \u001b[?25l\u001b[?25hdone\n",
            "  Created wheel for ktrain: filename=ktrain-0.25.0-cp36-none-any.whl size=25274500 sha256=99e1001942b21703ddf64255990eb6e94d8d3d05601a52ce9f5ef54e793e3816\n",
            "  Stored in directory: /root/.cache/pip/wheels/5c/73/05/f36d0027bb6575384e21506dbba8db36a7825f15a24f09b2d5\n",
            "  Building wheel for keras-bert (setup.py) ... \u001b[?25l\u001b[?25hdone\n",
            "  Created wheel for keras-bert: filename=keras_bert-0.86.0-cp36-none-any.whl size=34145 sha256=dd5ae5a84d300405baab58b449eaefa38090278d4e822c072d6046e89dd241b9\n",
            "  Stored in directory: /root/.cache/pip/wheels/66/f0/b1/748128b58562fc9e31b907bb5e2ab6a35eb37695e83911236b\n",
            "  Building wheel for langdetect (setup.py) ... \u001b[?25l\u001b[?25hdone\n",
            "  Created wheel for langdetect: filename=langdetect-1.0.8-cp36-none-any.whl size=993195 sha256=be1fe243894d1e79ece4142afec381320bfa0e992ec80e973a9e353c266e8419\n",
            "  Stored in directory: /root/.cache/pip/wheels/8d/b3/aa/6d99de9f3841d7d3d40a60ea06e6d669e8e5012e6c8b947a57\n",
            "  Building wheel for seqeval (setup.py) ... \u001b[?25l\u001b[?25hdone\n",
            "  Created wheel for seqeval: filename=seqeval-0.0.19-cp36-none-any.whl size=9919 sha256=e821b3cedde8e99daa2b1dcbe05159c22ebbbb11e29a8bf24bf8a03f68e7a1a1\n",
            "  Stored in directory: /root/.cache/pip/wheels/8d/1f/bf/1198beceed805a2099060975f6281d1b01046dd279e19c97be\n",
            "  Building wheel for syntok (setup.py) ... \u001b[?25l\u001b[?25hdone\n",
            "  Created wheel for syntok: filename=syntok-1.3.1-cp36-none-any.whl size=20919 sha256=93eedfaba412a82133c3f42484785fa72c3ceda5591e4f5545ba9d292fb31e30\n",
            "  Stored in directory: /root/.cache/pip/wheels/51/c6/a4/be1920586c49469846bcd2888200bdecfe109ec421dab9be2d\n",
            "  Building wheel for keras-transformer (setup.py) ... \u001b[?25l\u001b[?25hdone\n",
            "  Created wheel for keras-transformer: filename=keras_transformer-0.38.0-cp36-none-any.whl size=12942 sha256=e6706d3af5c3654de48f120f8692d2c7919a9e45f67c9ef6cc305e6702e5c3dd\n",
            "  Stored in directory: /root/.cache/pip/wheels/e5/fb/3a/37b2b9326c799aa010ae46a04ddb04f320d8c77c0b7e837f4e\n",
            "  Building wheel for sacremoses (setup.py) ... \u001b[?25l\u001b[?25hdone\n",
            "  Created wheel for sacremoses: filename=sacremoses-0.0.43-cp36-none-any.whl size=893257 sha256=6467b2c9ce271d58ca5b5a398ee82d2a3756625cf1fb3e0bd13356a11e58ec57\n",
            "  Stored in directory: /root/.cache/pip/wheels/29/3c/fd/7ce5c3f0666dab31a50123635e6fb5e19ceb42ce38d4e58f45\n",
            "  Building wheel for keras-pos-embd (setup.py) ... \u001b[?25l\u001b[?25hdone\n",
            "  Created wheel for keras-pos-embd: filename=keras_pos_embd-0.11.0-cp36-none-any.whl size=7554 sha256=8ff35949c44b629b1e2b672b0da3a5fe8fecf39f0bd9e103bd3d62d3ec9e56fa\n",
            "  Stored in directory: /root/.cache/pip/wheels/5b/a1/a0/ce6b1d49ba1a9a76f592e70cf297b05c96bc9f418146761032\n",
            "  Building wheel for keras-multi-head (setup.py) ... \u001b[?25l\u001b[?25hdone\n",
            "  Created wheel for keras-multi-head: filename=keras_multi_head-0.27.0-cp36-none-any.whl size=15612 sha256=e36efc86fc945eb1cfdfcdcf7be02596446a953c8934d5ac6d2b5773414c0963\n",
            "  Stored in directory: /root/.cache/pip/wheels/b5/b4/49/0a0c27dcb93c13af02fea254ff51d1a43a924dd4e5b7a7164d\n",
            "  Building wheel for keras-layer-normalization (setup.py) ... \u001b[?25l\u001b[?25hdone\n",
            "  Created wheel for keras-layer-normalization: filename=keras_layer_normalization-0.14.0-cp36-none-any.whl size=5268 sha256=71b47ffc67d52967941e34f700f3320f742c88800fe0c2838d2ee1e08aaa9ecb\n",
            "  Stored in directory: /root/.cache/pip/wheels/54/80/22/a638a7d406fd155e507aa33d703e3fa2612b9eb7bb4f4fe667\n",
            "  Building wheel for keras-position-wise-feed-forward (setup.py) ... \u001b[?25l\u001b[?25hdone\n",
            "  Created wheel for keras-position-wise-feed-forward: filename=keras_position_wise_feed_forward-0.6.0-cp36-none-any.whl size=5626 sha256=d7774f45c89c02fc11c8c77548e92a4b5fb3114f0bd27d938c23a7aae0d6d6af\n",
            "  Stored in directory: /root/.cache/pip/wheels/39/e2/e2/3514fef126a00574b13bc0b9e23891800158df3a3c19c96e3b\n",
            "  Building wheel for keras-embed-sim (setup.py) ... \u001b[?25l\u001b[?25hdone\n",
            "  Created wheel for keras-embed-sim: filename=keras_embed_sim-0.8.0-cp36-none-any.whl size=4559 sha256=1a4c0021fb2d7e42e79bb4ade6ee41d709786d6c46db61098e8e98b5382a5720\n",
            "  Stored in directory: /root/.cache/pip/wheels/49/45/8b/c111f6cc8bec253e984677de73a6f4f5d2f1649f42aac191c8\n",
            "  Building wheel for keras-self-attention (setup.py) ... \u001b[?25l\u001b[?25hdone\n",
            "  Created wheel for keras-self-attention: filename=keras_self_attention-0.46.0-cp36-none-any.whl size=17278 sha256=7e28cc1bed493a03591593a98e586223e00d79aa11e6b19844de8c7df5bfc84a\n",
            "  Stored in directory: /root/.cache/pip/wheels/d2/2e/80/fec4c05eb23c8e13b790e26d207d6e0ffe8013fad8c6bdd4d2\n",
            "Successfully built ktrain keras-bert langdetect seqeval syntok keras-transformer sacremoses keras-pos-embd keras-multi-head keras-layer-normalization keras-position-wise-feed-forward keras-embed-sim keras-self-attention\n",
            "Installing collected packages: keras-pos-embd, keras-self-attention, keras-multi-head, keras-layer-normalization, keras-position-wise-feed-forward, keras-embed-sim, keras-transformer, keras-bert, langdetect, cchardet, seqeval, sacremoses, sentencepiece, tokenizers, transformers, syntok, whoosh, ktrain\n",
            "Successfully installed cchardet-2.1.7 keras-bert-0.86.0 keras-embed-sim-0.8.0 keras-layer-normalization-0.14.0 keras-multi-head-0.27.0 keras-pos-embd-0.11.0 keras-position-wise-feed-forward-0.6.0 keras-self-attention-0.46.0 keras-transformer-0.38.0 ktrain-0.25.0 langdetect-1.0.8 sacremoses-0.0.43 sentencepiece-0.1.91 seqeval-0.0.19 syntok-1.3.1 tokenizers-0.9.3 transformers-3.5.1 whoosh-2.7.4\n"
          ],
          "name": "stdout"
        }
      ]
    },
    {
      "cell_type": "code",
      "metadata": {
        "id": "BaIltPILCbS9"
      },
      "source": [
        "import ktrain\n",
        "from ktrain import text"
      ],
      "execution_count": null,
      "outputs": []
    },
    {
      "cell_type": "markdown",
      "metadata": {
        "id": "UCGqm0bw6e68"
      },
      "source": [
        "## Reading data and train-test split:"
      ]
    },
    {
      "cell_type": "code",
      "metadata": {
        "id": "9rN9ZLxcCxc9"
      },
      "source": [
        "data = pd.read_pickle('/content/drive/My Drive/Colab Notebooks/nlp_scripts/MIMIC-III/Prepared_Data_DL.pkl')"
      ],
      "execution_count": null,
      "outputs": []
    },
    {
      "cell_type": "code",
      "metadata": {
        "colab": {
          "base_uri": "https://localhost:8080/"
        },
        "id": "ifkd8O4EEdy8",
        "outputId": "3fd9e11c-feea-472a-b435-b409e80a711a"
      },
      "source": [
        "data.shape"
      ],
      "execution_count": null,
      "outputs": [
        {
          "output_type": "execute_result",
          "data": {
            "text/plain": [
              "(51113, 12)"
            ]
          },
          "metadata": {
            "tags": []
          },
          "execution_count": 7
        }
      ]
    },
    {
      "cell_type": "markdown",
      "metadata": {
        "id": "1pOWOg3bDTbe"
      },
      "source": [
        "Shuffling samples"
      ]
    },
    {
      "cell_type": "code",
      "metadata": {
        "id": "UvQBECD6giAT"
      },
      "source": [
        "data2 = data.sample(n = len(data), random_state = 42)"
      ],
      "execution_count": null,
      "outputs": []
    },
    {
      "cell_type": "code",
      "metadata": {
        "id": "_gHxbWUKoYwy"
      },
      "source": [
        "data2 = data2.reset_index(drop = True)"
      ],
      "execution_count": null,
      "outputs": []
    },
    {
      "cell_type": "code",
      "metadata": {
        "colab": {
          "base_uri": "https://localhost:8080/",
          "height": 289
        },
        "id": "OHGTHIKYDymt",
        "outputId": "45ffbe9b-a548-403f-c37e-f67fae8e6595"
      },
      "source": [
        "data2.head()"
      ],
      "execution_count": null,
      "outputs": [
        {
          "output_type": "execute_result",
          "data": {
            "text/html": [
              "<div>\n",
              "<style scoped>\n",
              "    .dataframe tbody tr th:only-of-type {\n",
              "        vertical-align: middle;\n",
              "    }\n",
              "\n",
              "    .dataframe tbody tr th {\n",
              "        vertical-align: top;\n",
              "    }\n",
              "\n",
              "    .dataframe thead th {\n",
              "        text-align: right;\n",
              "    }\n",
              "</style>\n",
              "<table border=\"1\" class=\"dataframe\">\n",
              "  <thead>\n",
              "    <tr style=\"text-align: right;\">\n",
              "      <th></th>\n",
              "      <th>SUBJECT_ID</th>\n",
              "      <th>HADM_ID</th>\n",
              "      <th>ADMITTIME</th>\n",
              "      <th>DISCHTIME</th>\n",
              "      <th>DEATHTIME</th>\n",
              "      <th>ADMISSION_TYPE</th>\n",
              "      <th>NEXT_ADMITTIME</th>\n",
              "      <th>NEXT_ADMISSION_TYPE</th>\n",
              "      <th>DAYS_NEXT_ADMIT</th>\n",
              "      <th>CATEGORY</th>\n",
              "      <th>TEXT</th>\n",
              "      <th>OUTPUT_LABEL</th>\n",
              "    </tr>\n",
              "  </thead>\n",
              "  <tbody>\n",
              "    <tr>\n",
              "      <th>0</th>\n",
              "      <td>21284</td>\n",
              "      <td>126923</td>\n",
              "      <td>2168-05-03 07:15:00</td>\n",
              "      <td>2168-05-10 14:50:00</td>\n",
              "      <td>NaT</td>\n",
              "      <td>ELECTIVE</td>\n",
              "      <td>2171-02-04 04:04:00</td>\n",
              "      <td>EMERGENCY</td>\n",
              "      <td>999.551389</td>\n",
              "      <td>Discharge summary</td>\n",
              "      <td>Admission Date: [**2168-5-3**]        Discharg...</td>\n",
              "      <td>0</td>\n",
              "    </tr>\n",
              "    <tr>\n",
              "      <th>1</th>\n",
              "      <td>9344</td>\n",
              "      <td>116730</td>\n",
              "      <td>2199-05-21 02:59:00</td>\n",
              "      <td>2199-06-26 14:32:00</td>\n",
              "      <td>NaT</td>\n",
              "      <td>EMERGENCY</td>\n",
              "      <td>NaT</td>\n",
              "      <td>NaN</td>\n",
              "      <td>NaN</td>\n",
              "      <td>Discharge summary</td>\n",
              "      <td>Admission Date:  [**2199-5-21**]              ...</td>\n",
              "      <td>0</td>\n",
              "    </tr>\n",
              "    <tr>\n",
              "      <th>2</th>\n",
              "      <td>4308</td>\n",
              "      <td>109424</td>\n",
              "      <td>2141-04-04 18:38:00</td>\n",
              "      <td>2141-04-06 16:52:00</td>\n",
              "      <td>NaT</td>\n",
              "      <td>EMERGENCY</td>\n",
              "      <td>NaT</td>\n",
              "      <td>NaN</td>\n",
              "      <td>NaN</td>\n",
              "      <td>Discharge summary</td>\n",
              "      <td>Admission Date:  [**2141-4-4**]              D...</td>\n",
              "      <td>0</td>\n",
              "    </tr>\n",
              "    <tr>\n",
              "      <th>3</th>\n",
              "      <td>82935</td>\n",
              "      <td>157739</td>\n",
              "      <td>2183-01-17 20:44:00</td>\n",
              "      <td>2183-01-19 11:19:00</td>\n",
              "      <td>NaT</td>\n",
              "      <td>EMERGENCY</td>\n",
              "      <td>NaT</td>\n",
              "      <td>NaN</td>\n",
              "      <td>NaN</td>\n",
              "      <td>Discharge summary</td>\n",
              "      <td>Admission Date:  [**2183-1-17**]              ...</td>\n",
              "      <td>0</td>\n",
              "    </tr>\n",
              "    <tr>\n",
              "      <th>4</th>\n",
              "      <td>27266</td>\n",
              "      <td>165453</td>\n",
              "      <td>2197-10-17 15:27:00</td>\n",
              "      <td>2197-10-26 12:00:00</td>\n",
              "      <td>NaT</td>\n",
              "      <td>EMERGENCY</td>\n",
              "      <td>2197-11-24 19:46:00</td>\n",
              "      <td>EMERGENCY</td>\n",
              "      <td>29.323611</td>\n",
              "      <td>Discharge summary</td>\n",
              "      <td>Admission Date:  [**2197-10-17**]             ...</td>\n",
              "      <td>1</td>\n",
              "    </tr>\n",
              "  </tbody>\n",
              "</table>\n",
              "</div>"
            ],
            "text/plain": [
              "   SUBJECT_ID  ...  OUTPUT_LABEL\n",
              "0       21284  ...             0\n",
              "1        9344  ...             0\n",
              "2        4308  ...             0\n",
              "3       82935  ...             0\n",
              "4       27266  ...             1\n",
              "\n",
              "[5 rows x 12 columns]"
            ]
          },
          "metadata": {
            "tags": []
          },
          "execution_count": 10
        }
      ]
    },
    {
      "cell_type": "markdown",
      "metadata": {
        "id": "a3UkUp46okkR"
      },
      "source": [
        "Save 20% of the data for validation:"
      ]
    },
    {
      "cell_type": "code",
      "metadata": {
        "id": "Cw9_bVLaom60"
      },
      "source": [
        "df_valid = data2.sample(frac=0.2,random_state=42)"
      ],
      "execution_count": null,
      "outputs": []
    },
    {
      "cell_type": "code",
      "metadata": {
        "colab": {
          "base_uri": "https://localhost:8080/"
        },
        "id": "l-6g29TsENfY",
        "outputId": "ca1e5ad4-6854-4a9a-8e18-32cfca07567e"
      },
      "source": [
        "df_valid.shape"
      ],
      "execution_count": null,
      "outputs": [
        {
          "output_type": "execute_result",
          "data": {
            "text/plain": [
              "(10223, 12)"
            ]
          },
          "metadata": {
            "tags": []
          },
          "execution_count": 12
        }
      ]
    },
    {
      "cell_type": "code",
      "metadata": {
        "colab": {
          "base_uri": "https://localhost:8080/"
        },
        "id": "crUTJzx9H_1G",
        "outputId": "66d23d57-0c1a-466f-a197-41a448889c7e"
      },
      "source": [
        "df_valid['OUTPUT_LABEL'].value_counts()"
      ],
      "execution_count": null,
      "outputs": [
        {
          "output_type": "execute_result",
          "data": {
            "text/plain": [
              "0    9611\n",
              "1     612\n",
              "Name: OUTPUT_LABEL, dtype: int64"
            ]
          },
          "metadata": {
            "tags": []
          },
          "execution_count": 14
        }
      ]
    },
    {
      "cell_type": "code",
      "metadata": {
        "id": "c7ZGQbtiotPC"
      },
      "source": [
        "df_valid.to_pickle('/content/drive/MyDrive/Colab Notebooks/nlp_scripts/MIMIC-III/df_valid.pkl')"
      ],
      "execution_count": null,
      "outputs": []
    },
    {
      "cell_type": "code",
      "metadata": {
        "id": "szpVYZNRo3JR"
      },
      "source": [
        "df_train_all = data2.drop(df_valid.index)"
      ],
      "execution_count": null,
      "outputs": []
    },
    {
      "cell_type": "code",
      "metadata": {
        "colab": {
          "base_uri": "https://localhost:8080/"
        },
        "id": "t8XQzOtFEar9",
        "outputId": "deaa18c8-3a7a-433c-8105-ec30f049fadf"
      },
      "source": [
        "df_train_all.shape"
      ],
      "execution_count": null,
      "outputs": [
        {
          "output_type": "execute_result",
          "data": {
            "text/plain": [
              "(40890, 12)"
            ]
          },
          "metadata": {
            "tags": []
          },
          "execution_count": 17
        }
      ]
    },
    {
      "cell_type": "code",
      "metadata": {
        "id": "43szqmYbo7Eh"
      },
      "source": [
        "rows_pos = df_train_all.OUTPUT_LABEL == 1"
      ],
      "execution_count": null,
      "outputs": []
    },
    {
      "cell_type": "code",
      "metadata": {
        "colab": {
          "base_uri": "https://localhost:8080/"
        },
        "id": "5gdfKW98pOvw",
        "outputId": "b035a7f0-aa3a-4bf4-bcfd-8496d6c265d3"
      },
      "source": [
        "~rows_pos "
      ],
      "execution_count": null,
      "outputs": [
        {
          "output_type": "execute_result",
          "data": {
            "text/plain": [
              "0        True\n",
              "1        True\n",
              "2        True\n",
              "3        True\n",
              "5        True\n",
              "         ... \n",
              "51108    True\n",
              "51109    True\n",
              "51110    True\n",
              "51111    True\n",
              "51112    True\n",
              "Name: OUTPUT_LABEL, Length: 40890, dtype: bool"
            ]
          },
          "metadata": {
            "tags": []
          },
          "execution_count": 19
        }
      ]
    },
    {
      "cell_type": "code",
      "metadata": {
        "id": "RPFFvRn7pWkt"
      },
      "source": [
        "df_train_pos = df_train_all.loc[rows_pos]\n",
        "df_train_neg = df_train_all.loc[~rows_pos]"
      ],
      "execution_count": null,
      "outputs": []
    },
    {
      "cell_type": "code",
      "metadata": {
        "colab": {
          "base_uri": "https://localhost:8080/"
        },
        "id": "KOWzfJvWwo6O",
        "outputId": "8de279df-d461-47be-ef18-4820d9c0c46e"
      },
      "source": [
        "print(df_train_pos.shape)\n",
        "print(df_train_neg.shape)"
      ],
      "execution_count": null,
      "outputs": [
        {
          "output_type": "stream",
          "text": [
            "(2392, 12)\n",
            "(38498, 12)\n"
          ],
          "name": "stdout"
        }
      ]
    },
    {
      "cell_type": "code",
      "metadata": {
        "id": "_Q5fFdsupabQ"
      },
      "source": [
        "df_train = pd.concat([df_train_pos, df_train_neg.sample(n = len(df_train_pos), random_state = 42)],axis = 0)"
      ],
      "execution_count": null,
      "outputs": []
    },
    {
      "cell_type": "code",
      "metadata": {
        "colab": {
          "base_uri": "https://localhost:8080/"
        },
        "id": "0xkjFv9oEo6K",
        "outputId": "0d14b52c-1192-4206-e825-8f4dc9739d92"
      },
      "source": [
        "df_train.shape"
      ],
      "execution_count": null,
      "outputs": [
        {
          "output_type": "execute_result",
          "data": {
            "text/plain": [
              "(4784, 12)"
            ]
          },
          "metadata": {
            "tags": []
          },
          "execution_count": 23
        }
      ]
    },
    {
      "cell_type": "code",
      "metadata": {
        "colab": {
          "base_uri": "https://localhost:8080/",
          "height": 289
        },
        "id": "iG9a2E1sEz7a",
        "outputId": "8575b5f8-0fa0-490a-8c44-c263b39fd8a7"
      },
      "source": [
        "df_train.head()"
      ],
      "execution_count": null,
      "outputs": [
        {
          "output_type": "execute_result",
          "data": {
            "text/html": [
              "<div>\n",
              "<style scoped>\n",
              "    .dataframe tbody tr th:only-of-type {\n",
              "        vertical-align: middle;\n",
              "    }\n",
              "\n",
              "    .dataframe tbody tr th {\n",
              "        vertical-align: top;\n",
              "    }\n",
              "\n",
              "    .dataframe thead th {\n",
              "        text-align: right;\n",
              "    }\n",
              "</style>\n",
              "<table border=\"1\" class=\"dataframe\">\n",
              "  <thead>\n",
              "    <tr style=\"text-align: right;\">\n",
              "      <th></th>\n",
              "      <th>SUBJECT_ID</th>\n",
              "      <th>HADM_ID</th>\n",
              "      <th>ADMITTIME</th>\n",
              "      <th>DISCHTIME</th>\n",
              "      <th>DEATHTIME</th>\n",
              "      <th>ADMISSION_TYPE</th>\n",
              "      <th>NEXT_ADMITTIME</th>\n",
              "      <th>NEXT_ADMISSION_TYPE</th>\n",
              "      <th>DAYS_NEXT_ADMIT</th>\n",
              "      <th>CATEGORY</th>\n",
              "      <th>TEXT</th>\n",
              "      <th>OUTPUT_LABEL</th>\n",
              "    </tr>\n",
              "  </thead>\n",
              "  <tbody>\n",
              "    <tr>\n",
              "      <th>32</th>\n",
              "      <td>11825</td>\n",
              "      <td>155900</td>\n",
              "      <td>2179-10-23 05:47:00</td>\n",
              "      <td>2179-11-03 16:30:00</td>\n",
              "      <td>NaT</td>\n",
              "      <td>EMERGENCY</td>\n",
              "      <td>2179-11-04 19:20:00</td>\n",
              "      <td>EMERGENCY</td>\n",
              "      <td>1.118056</td>\n",
              "      <td>Discharge summary</td>\n",
              "      <td>Admission Date: [**2179-10-23**]        Discha...</td>\n",
              "      <td>1</td>\n",
              "    </tr>\n",
              "    <tr>\n",
              "      <th>57</th>\n",
              "      <td>55597</td>\n",
              "      <td>189080</td>\n",
              "      <td>2122-04-13 22:38:00</td>\n",
              "      <td>2122-05-05 16:02:00</td>\n",
              "      <td>NaT</td>\n",
              "      <td>EMERGENCY</td>\n",
              "      <td>2122-05-09 13:59:00</td>\n",
              "      <td>EMERGENCY</td>\n",
              "      <td>3.914583</td>\n",
              "      <td>Discharge summary</td>\n",
              "      <td>Admission Date:  [**2122-4-13**]              ...</td>\n",
              "      <td>1</td>\n",
              "    </tr>\n",
              "    <tr>\n",
              "      <th>78</th>\n",
              "      <td>76652</td>\n",
              "      <td>103471</td>\n",
              "      <td>2106-06-25 07:50:00</td>\n",
              "      <td>2106-06-30 05:00:00</td>\n",
              "      <td>NaT</td>\n",
              "      <td>EMERGENCY</td>\n",
              "      <td>2106-06-30 15:07:00</td>\n",
              "      <td>EMERGENCY</td>\n",
              "      <td>0.421528</td>\n",
              "      <td>Discharge summary</td>\n",
              "      <td>Admission Date:  [**2106-6-25**]              ...</td>\n",
              "      <td>1</td>\n",
              "    </tr>\n",
              "    <tr>\n",
              "      <th>158</th>\n",
              "      <td>7514</td>\n",
              "      <td>116903</td>\n",
              "      <td>2138-03-20 14:40:00</td>\n",
              "      <td>2138-04-07 18:30:00</td>\n",
              "      <td>NaT</td>\n",
              "      <td>EMERGENCY</td>\n",
              "      <td>2138-04-10 13:48:00</td>\n",
              "      <td>EMERGENCY</td>\n",
              "      <td>2.804167</td>\n",
              "      <td>Discharge summary</td>\n",
              "      <td>Admission Date:  [**2138-3-20**]     Discharge...</td>\n",
              "      <td>1</td>\n",
              "    </tr>\n",
              "    <tr>\n",
              "      <th>159</th>\n",
              "      <td>8818</td>\n",
              "      <td>156627</td>\n",
              "      <td>2135-08-19 03:08:00</td>\n",
              "      <td>2135-08-19 12:00:00</td>\n",
              "      <td>2135-08-19 12:00:00</td>\n",
              "      <td>EMERGENCY</td>\n",
              "      <td>2135-08-19 14:08:00</td>\n",
              "      <td>EMERGENCY</td>\n",
              "      <td>0.088889</td>\n",
              "      <td>Discharge summary</td>\n",
              "      <td>Admission Date:  [**2135-8-19**]              ...</td>\n",
              "      <td>1</td>\n",
              "    </tr>\n",
              "  </tbody>\n",
              "</table>\n",
              "</div>"
            ],
            "text/plain": [
              "     SUBJECT_ID  ...  OUTPUT_LABEL\n",
              "32        11825  ...             1\n",
              "57        55597  ...             1\n",
              "78        76652  ...             1\n",
              "158        7514  ...             1\n",
              "159        8818  ...             1\n",
              "\n",
              "[5 rows x 12 columns]"
            ]
          },
          "metadata": {
            "tags": []
          },
          "execution_count": 25
        }
      ]
    },
    {
      "cell_type": "code",
      "metadata": {
        "id": "BZed5bXypn_R"
      },
      "source": [
        "df_train = df_train.sample(n = len(df_train), random_state = 42).reset_index(drop = True)"
      ],
      "execution_count": null,
      "outputs": []
    },
    {
      "cell_type": "code",
      "metadata": {
        "colab": {
          "base_uri": "https://localhost:8080/"
        },
        "id": "tiz0KKggE3dO",
        "outputId": "88f1381d-88ad-48a1-91e2-cde1280be0d2"
      },
      "source": [
        "df_train.shape"
      ],
      "execution_count": null,
      "outputs": [
        {
          "output_type": "execute_result",
          "data": {
            "text/plain": [
              "(4784, 12)"
            ]
          },
          "metadata": {
            "tags": []
          },
          "execution_count": 27
        }
      ]
    },
    {
      "cell_type": "code",
      "metadata": {
        "colab": {
          "base_uri": "https://localhost:8080/",
          "height": 289
        },
        "id": "7NE3zQVsBS9O",
        "outputId": "a507ae76-e4eb-45ad-c489-0290e09f3da2"
      },
      "source": [
        "df_train.head()"
      ],
      "execution_count": null,
      "outputs": [
        {
          "output_type": "execute_result",
          "data": {
            "text/html": [
              "<div>\n",
              "<style scoped>\n",
              "    .dataframe tbody tr th:only-of-type {\n",
              "        vertical-align: middle;\n",
              "    }\n",
              "\n",
              "    .dataframe tbody tr th {\n",
              "        vertical-align: top;\n",
              "    }\n",
              "\n",
              "    .dataframe thead th {\n",
              "        text-align: right;\n",
              "    }\n",
              "</style>\n",
              "<table border=\"1\" class=\"dataframe\">\n",
              "  <thead>\n",
              "    <tr style=\"text-align: right;\">\n",
              "      <th></th>\n",
              "      <th>SUBJECT_ID</th>\n",
              "      <th>HADM_ID</th>\n",
              "      <th>ADMITTIME</th>\n",
              "      <th>DISCHTIME</th>\n",
              "      <th>DEATHTIME</th>\n",
              "      <th>ADMISSION_TYPE</th>\n",
              "      <th>NEXT_ADMITTIME</th>\n",
              "      <th>NEXT_ADMISSION_TYPE</th>\n",
              "      <th>DAYS_NEXT_ADMIT</th>\n",
              "      <th>CATEGORY</th>\n",
              "      <th>TEXT</th>\n",
              "      <th>OUTPUT_LABEL</th>\n",
              "    </tr>\n",
              "  </thead>\n",
              "  <tbody>\n",
              "    <tr>\n",
              "      <th>0</th>\n",
              "      <td>12103</td>\n",
              "      <td>112106</td>\n",
              "      <td>2107-07-20 02:52:00</td>\n",
              "      <td>2107-07-31 13:50:00</td>\n",
              "      <td>NaT</td>\n",
              "      <td>EMERGENCY</td>\n",
              "      <td>NaT</td>\n",
              "      <td>NaN</td>\n",
              "      <td>NaN</td>\n",
              "      <td>Discharge summary</td>\n",
              "      <td>Admission Date:  [**2107-7-19**]     Discharge...</td>\n",
              "      <td>0</td>\n",
              "    </tr>\n",
              "    <tr>\n",
              "      <th>1</th>\n",
              "      <td>15986</td>\n",
              "      <td>161587</td>\n",
              "      <td>2129-12-14 13:37:00</td>\n",
              "      <td>2129-12-28 19:45:00</td>\n",
              "      <td>NaT</td>\n",
              "      <td>EMERGENCY</td>\n",
              "      <td>NaT</td>\n",
              "      <td>NaN</td>\n",
              "      <td>NaN</td>\n",
              "      <td>Discharge summary</td>\n",
              "      <td>Admission Date:  [**2129-12-14**]     Discharg...</td>\n",
              "      <td>0</td>\n",
              "    </tr>\n",
              "    <tr>\n",
              "      <th>2</th>\n",
              "      <td>13033</td>\n",
              "      <td>137471</td>\n",
              "      <td>2183-07-28 13:14:00</td>\n",
              "      <td>2183-07-31 13:10:00</td>\n",
              "      <td>NaT</td>\n",
              "      <td>EMERGENCY</td>\n",
              "      <td>2183-08-12 16:58:00</td>\n",
              "      <td>EMERGENCY</td>\n",
              "      <td>12.158333</td>\n",
              "      <td>Discharge summary</td>\n",
              "      <td>Admission Date: [**2183-7-28**]        Dischar...</td>\n",
              "      <td>1</td>\n",
              "    </tr>\n",
              "    <tr>\n",
              "      <th>3</th>\n",
              "      <td>41182</td>\n",
              "      <td>178692</td>\n",
              "      <td>2154-01-20 13:18:00</td>\n",
              "      <td>2154-02-18 16:40:00</td>\n",
              "      <td>NaT</td>\n",
              "      <td>EMERGENCY</td>\n",
              "      <td>2154-03-04 16:19:00</td>\n",
              "      <td>EMERGENCY</td>\n",
              "      <td>13.985417</td>\n",
              "      <td>Discharge summary</td>\n",
              "      <td>Admission Date:  [**2154-1-20**]              ...</td>\n",
              "      <td>1</td>\n",
              "    </tr>\n",
              "    <tr>\n",
              "      <th>4</th>\n",
              "      <td>94007</td>\n",
              "      <td>143533</td>\n",
              "      <td>2188-10-31 14:57:00</td>\n",
              "      <td>2188-11-09 16:25:00</td>\n",
              "      <td>NaT</td>\n",
              "      <td>EMERGENCY</td>\n",
              "      <td>NaT</td>\n",
              "      <td>NaN</td>\n",
              "      <td>NaN</td>\n",
              "      <td>Discharge summary</td>\n",
              "      <td>Admission Date:  [**2188-10-31**]             ...</td>\n",
              "      <td>0</td>\n",
              "    </tr>\n",
              "  </tbody>\n",
              "</table>\n",
              "</div>"
            ],
            "text/plain": [
              "   SUBJECT_ID  ...  OUTPUT_LABEL\n",
              "0       12103  ...             0\n",
              "1       15986  ...             0\n",
              "2       13033  ...             1\n",
              "3       41182  ...             1\n",
              "4       94007  ...             0\n",
              "\n",
              "[5 rows x 12 columns]"
            ]
          },
          "metadata": {
            "tags": []
          },
          "execution_count": 28
        }
      ]
    },
    {
      "cell_type": "code",
      "metadata": {
        "colab": {
          "base_uri": "https://localhost:8080/"
        },
        "id": "DTVjOx-MItW_",
        "outputId": "700aaf18-c4f1-441d-bc51-0e47fd00380e"
      },
      "source": [
        "df_train['OUTPUT_LABEL'].value_counts()"
      ],
      "execution_count": null,
      "outputs": [
        {
          "output_type": "execute_result",
          "data": {
            "text/plain": [
              "1    2392\n",
              "0    2392\n",
              "Name: OUTPUT_LABEL, dtype: int64"
            ]
          },
          "metadata": {
            "tags": []
          },
          "execution_count": 29
        }
      ]
    },
    {
      "cell_type": "code",
      "metadata": {
        "id": "30et-ky3ppjS"
      },
      "source": [
        "df_train.to_pickle('/content/drive/MyDrive/Colab Notebooks/nlp_scripts/MIMIC-III//df_train.pkl')"
      ],
      "execution_count": null,
      "outputs": []
    },
    {
      "cell_type": "code",
      "metadata": {
        "id": "459K25omL51G"
      },
      "source": [
        "df_train = pd.read_pickle('/content/drive/MyDrive/Colab Notebooks/nlp_scripts/MIMIC-III/df_train.pkl')"
      ],
      "execution_count": null,
      "outputs": []
    },
    {
      "cell_type": "code",
      "metadata": {
        "id": "4ftOpXIpMRVq"
      },
      "source": [
        "df_valid = pd.read_pickle('/content/drive/MyDrive/Colab Notebooks/nlp_scripts/MIMIC-III/df_valid.pkl')"
      ],
      "execution_count": null,
      "outputs": []
    },
    {
      "cell_type": "markdown",
      "metadata": {
        "id": "n73gP3mrpxQh"
      },
      "source": [
        "## Preprocessing:"
      ]
    },
    {
      "cell_type": "markdown",
      "metadata": {
        "id": "6x0ru-DRGAyg"
      },
      "source": [
        "For df_train:"
      ]
    },
    {
      "cell_type": "code",
      "metadata": {
        "id": "C-Xn9iXAFOkn"
      },
      "source": [
        "df_train['TEXT'] = df_train['TEXT'].apply(lambda x:re.sub('[^a-zA-Z]', \" \", str(x)).lower())"
      ],
      "execution_count": null,
      "outputs": []
    },
    {
      "cell_type": "code",
      "metadata": {
        "id": "6ZsIQ59eorED"
      },
      "source": [
        "# removing repititive words from all observations\n",
        "pattern = \"admission date|discharge date|date of birth|sex\"\n",
        "df_train['TEXT'] = df_train['TEXT'].apply(lambda x:re.sub(pattern,\" \", str(x)))"
      ],
      "execution_count": null,
      "outputs": []
    },
    {
      "cell_type": "code",
      "metadata": {
        "colab": {
          "base_uri": "https://localhost:8080/",
          "height": 120
        },
        "id": "pu-YbfWgmWV5",
        "outputId": "79fc2f89-7c46-4608-cc13-4aedbb4c9fa9"
      },
      "source": [
        "df_train['TEXT'][1]"
      ],
      "execution_count": null,
      "outputs": [
        {
          "output_type": "execute_result",
          "data": {
            "application/vnd.google.colaboratory.intrinsic+json": {
              "type": "string"
            },
            "text/plain": [
              "'                                                                            m  service   neurology  history of present illness   in summary  this is a    year old gentleman with a history of cerebral palsy and a seizure disorder who recently moved from    state          who was admitted to the hospital with about one week of abdominal pain  nausea  and vomiting   he was found to have a large gallstone in the fundus of the gallbladder  and the plan was to take him to the operating room for a cholecystectomy   on                  he had a laparoscopic cholecystectomy  prior to the surgery he was loaded with   gram of dilantin  and then he was started on     mg by mouth every day post surgery   he was noted in the emergency room to have a witnessed generalized tonic clonic seizure  and this was the reason he was loaded   he was consulted by the neurology team in consultation about seizure prophylaxis during the perioperative period  and this was their recommendation   he did well post surgery and was scheduled to be discharged but then was found to have repeated seizures   he was initially given ativan as needed  and there was a concern of status epilepticus  and he was transferred to the    hospital ward name        intensive care unit for monitoring   his seizures were deemed to be nonepileptic in nature   he was subsequently transferred to the neurology service and observed prior to discharge   past medical history   cerebral palsy  which left him with a right sided hemiparesis and a seizure disorder    allergies   he has allergies to multiple antiepileptic medications which usually make him drowsy   physical examination on presentation    his vital signs were stable   brief summary of hospital course   he was followed by the neurology service   he was noted to have two to three seizures during the week that he was on the neurology service  however  on long term memory monitoring they were deemed not to be epileptic in nature   by system  he was also placed on neurontin and keppra   from a gastrointestinal perspective  his status post cholecystectomy was uneventful   his liver function tests were normal   he was weaned off of his dilantin and started on keppra which was raised to a therapeutic level   he was also started on neurontin which was then slowly weaned at the time of discharge   condition at discharge   discharged in good condition on                    medications on discharge    his discharge medications included      klonopin     mg by mouth at hour of sleep      keppra      mg by mouth twice per day      pantoprazole    mg by mouth once per day      seroquel     mg by mouth at hour of sleep      imitrex    mg by mouth once per day as needed  for headaches    discharge instructions followup    he was instructed to follow up with his neurologist here dr     first name   namepattern          last name  namepattern            who is one of the members of the neurology service                                     first name   namepattern          last name  namepattern        m d      md number              dictated by    name   md            medquist    d                         t                          job       job number          '"
            ]
          },
          "metadata": {
            "tags": []
          },
          "execution_count": 10
        }
      ]
    },
    {
      "cell_type": "code",
      "metadata": {
        "id": "je7o-GxSFfPj"
      },
      "source": [
        "df_train['TEXT'] = df_train['TEXT'].apply(lambda x:x.split())"
      ],
      "execution_count": null,
      "outputs": []
    },
    {
      "cell_type": "code",
      "metadata": {
        "colab": {
          "base_uri": "https://localhost:8080/",
          "height": 296
        },
        "id": "ZpGDLZPpn4PE",
        "outputId": "aa9b4e05-a3b0-47bf-ecdf-1b1fe5f2a22d"
      },
      "source": [
        "sns.histplot(data=df_train['TEXT'].str.len())"
      ],
      "execution_count": null,
      "outputs": [
        {
          "output_type": "execute_result",
          "data": {
            "text/plain": [
              "<matplotlib.axes._subplots.AxesSubplot at 0x7f49d2df7390>"
            ]
          },
          "metadata": {
            "tags": []
          },
          "execution_count": 12
        },
        {
          "output_type": "display_data",
          "data": {
            "image/png": "[encoded data removed]",
            "text/plain": [
              "<Figure size 432x288 with 1 Axes>"
            ]
          },
          "metadata": {
            "tags": [],
            "needs_background": "light"
          }
        }
      ]
    },
    {
      "cell_type": "code",
      "metadata": {
        "id": "7e72M6oIFljH"
      },
      "source": [
        "all_stopwords = stopwords.words('english')"
      ],
      "execution_count": null,
      "outputs": []
    },
    {
      "cell_type": "code",
      "metadata": {
        "id": "AScKgk7MFsQd"
      },
      "source": [
        "df_train['TEXT'] = df_train['TEXT'].apply(lambda x: [item for item in x if item not in all_stopwords])"
      ],
      "execution_count": null,
      "outputs": []
    },
    {
      "cell_type": "code",
      "metadata": {
        "id": "W5sKIOkEFxus"
      },
      "source": [
        "df_train['TEXT'] = df_train['TEXT'].apply(lambda x:' '.join(x))"
      ],
      "execution_count": null,
      "outputs": []
    },
    {
      "cell_type": "code",
      "metadata": {
        "colab": {
          "base_uri": "https://localhost:8080/",
          "height": 120
        },
        "id": "nCGkFTPcpgUv",
        "outputId": "54770b55-6a81-4bdf-a79c-b1f347b2bace"
      },
      "source": [
        "df_train['TEXT'][1]"
      ],
      "execution_count": null,
      "outputs": [
        {
          "output_type": "execute_result",
          "data": {
            "application/vnd.google.colaboratory.intrinsic+json": {
              "type": "string"
            },
            "text/plain": [
              "'service neurology history present illness summary year old gentleman history cerebral palsy seizure disorder recently moved state admitted hospital one week abdominal pain nausea vomiting found large gallstone fundus gallbladder plan take operating room cholecystectomy laparoscopic cholecystectomy prior surgery loaded gram dilantin started mg mouth every day post surgery noted emergency room witnessed generalized tonic clonic seizure reason loaded consulted neurology team consultation seizure prophylaxis perioperative period recommendation well post surgery scheduled discharged found repeated seizures initially given ativan needed concern status epilepticus transferred hospital ward name intensive care unit monitoring seizures deemed nonepileptic nature subsequently transferred neurology service observed prior discharge past medical history cerebral palsy left right sided hemiparesis seizure disorder allergies allergies multiple antiepileptic medications usually make drowsy physical examination presentation vital signs stable brief summary hospital course followed neurology service noted two three seizures week neurology service however long term memory monitoring deemed epileptic nature system also placed neurontin keppra gastrointestinal perspective status post cholecystectomy uneventful liver function tests normal weaned dilantin started keppra raised therapeutic level also started neurontin slowly weaned time discharge condition discharge discharged good condition medications discharge discharge medications included klonopin mg mouth hour sleep keppra mg mouth twice per day pantoprazole mg mouth per day seroquel mg mouth hour sleep imitrex mg mouth per day needed headaches discharge instructions followup instructed follow neurologist dr first name namepattern last name namepattern one members neurology service first name namepattern last name namepattern md number dictated name md medquist job job number'"
            ]
          },
          "metadata": {
            "tags": []
          },
          "execution_count": 16
        }
      ]
    },
    {
      "cell_type": "markdown",
      "metadata": {
        "id": "HGA9DiNBGDyG"
      },
      "source": [
        "For df_valid:"
      ]
    },
    {
      "cell_type": "code",
      "metadata": {
        "id": "F7h49QywF77Z"
      },
      "source": [
        "df_valid['TEXT'] = df_valid['TEXT'].apply(lambda x:re.sub('[^a-zA-Z]', \" \", str(x)).lower())"
      ],
      "execution_count": null,
      "outputs": []
    },
    {
      "cell_type": "code",
      "metadata": {
        "id": "LNM9Vr4Ppo-a"
      },
      "source": [
        "# removing repititive words from all observations\n",
        "# pattern = \"admission date|discharge date|date of birth|sex\"\n",
        "\n",
        "df_valid['TEXT'] = df_valid['TEXT'].apply(lambda x:re.sub(pattern,\" \", str(x)))"
      ],
      "execution_count": null,
      "outputs": []
    },
    {
      "cell_type": "code",
      "metadata": {
        "colab": {
          "base_uri": "https://localhost:8080/"
        },
        "id": "5SWDjz7YpwRA",
        "outputId": "0d259756-cdc0-44a0-f1f8-8b65982eb4aa"
      },
      "source": [
        "df_valid['TEXT'][0:1]"
      ],
      "execution_count": null,
      "outputs": [
        {
          "output_type": "execute_result",
          "data": {
            "text/plain": [
              "20564                                                  ...\n",
              "Name: TEXT, dtype: object"
            ]
          },
          "metadata": {
            "tags": []
          },
          "execution_count": 19
        }
      ]
    },
    {
      "cell_type": "code",
      "metadata": {
        "id": "qIRE5Hb7GbXN"
      },
      "source": [
        "df_valid['TEXT'] = df_valid['TEXT'].apply(lambda x:x.split())"
      ],
      "execution_count": null,
      "outputs": []
    },
    {
      "cell_type": "code",
      "metadata": {
        "id": "zT4ZW4pUGxSt"
      },
      "source": [
        "df_valid['TEXT'] = df_valid['TEXT'].apply(lambda x: [item for item in x if item not in all_stopwords])"
      ],
      "execution_count": null,
      "outputs": []
    },
    {
      "cell_type": "code",
      "metadata": {
        "id": "Az9d183UGy3A"
      },
      "source": [
        "df_valid['TEXT'] = df_valid['TEXT'].apply(lambda x:' '.join(x))"
      ],
      "execution_count": null,
      "outputs": []
    },
    {
      "cell_type": "code",
      "metadata": {
        "colab": {
          "base_uri": "https://localhost:8080/"
        },
        "id": "sL-CHhLnGZNc",
        "outputId": "e0a259df-4efa-4eb5-8362-ea9293a82ab9"
      },
      "source": [
        "df_valid['TEXT'][0:1]"
      ],
      "execution_count": null,
      "outputs": [
        {
          "output_type": "execute_result",
          "data": {
            "text/plain": [
              "20564    service neurosurgery allergies patient recorde...\n",
              "Name: TEXT, dtype: object"
            ]
          },
          "metadata": {
            "tags": []
          },
          "execution_count": 23
        }
      ]
    },
    {
      "cell_type": "markdown",
      "metadata": {
        "id": "nIlTLfcDCZ7E"
      },
      "source": [
        "### Tokenize"
      ]
    },
    {
      "cell_type": "code",
      "metadata": {
        "id": "QSV7ym5n5vbC"
      },
      "source": [
        "max_leng = 1000\n",
        "vocabulary_size = 5000\n",
        "tokenizer = Tokenizer(num_words= vocabulary_size)\n",
        "tokenizer.fit_on_texts(df_train['TEXT'])\n",
        "sequences = tokenizer.texts_to_sequences(df_train['TEXT'])"
      ],
      "execution_count": null,
      "outputs": []
    },
    {
      "cell_type": "code",
      "metadata": {
        "id": "cE-MAgJc_pXS"
      },
      "source": [
        "X_train = pad_sequences(sequences, maxlen=max_leng)"
      ],
      "execution_count": null,
      "outputs": []
    },
    {
      "cell_type": "code",
      "metadata": {
        "colab": {
          "base_uri": "https://localhost:8080/"
        },
        "id": "X1gQn5eo_r0b",
        "outputId": "c3377ba2-70b5-4abd-f306-832c0746e9d9"
      },
      "source": [
        "X_train[:5]"
      ],
      "execution_count": null,
      "outputs": [
        {
          "output_type": "execute_result",
          "data": {
            "text/plain": [
              "array([[   0,    0,    0, ...,  499,  499,  201],\n",
              "       [   0,    0,    0, ...,  499,  499,  201],\n",
              "       [   0,    0,    0, ...,  499,  499,  201],\n",
              "       [  48,   43,   22, ..., 2195,  119,  309],\n",
              "       [ 117,  198,  519, ...,   72,  201,  309]], dtype=int32)"
            ]
          },
          "metadata": {
            "tags": []
          },
          "execution_count": 26
        }
      ]
    },
    {
      "cell_type": "code",
      "metadata": {
        "id": "rxyUxqn3_tkj"
      },
      "source": [
        "sequences_test = tokenizer.texts_to_sequences(df_valid['TEXT'])\n",
        "X_test = pad_sequences(sequences_test , maxlen=max_leng)"
      ],
      "execution_count": null,
      "outputs": []
    },
    {
      "cell_type": "code",
      "metadata": {
        "colab": {
          "base_uri": "https://localhost:8080/"
        },
        "id": "5nDn1KrZBXIF",
        "outputId": "88bdc321-d965-4895-be6f-1f1b7de69f03"
      },
      "source": [
        "X_test[:5]"
      ],
      "execution_count": null,
      "outputs": [
        {
          "output_type": "execute_result",
          "data": {
            "text/plain": [
              "array([[   0,    0,    0, ...,  431,   64,  224],\n",
              "       [   0,    0,    0, ...,   72,  201,  309],\n",
              "       [   0,    0,    0, ...,  499,  499,  201],\n",
              "       [ 154,  280,   66, ...,  224,  210,  119],\n",
              "       [   0,    0,    0, ..., 1873,  119,  309]], dtype=int32)"
            ]
          },
          "metadata": {
            "tags": []
          },
          "execution_count": 28
        }
      ]
    },
    {
      "cell_type": "code",
      "metadata": {
        "id": "4kWYfZ5uBaoT"
      },
      "source": [
        "y_train = df_train['OUTPUT_LABEL']\n",
        "y_test = df_valid['OUTPUT_LABEL']"
      ],
      "execution_count": null,
      "outputs": []
    },
    {
      "cell_type": "code",
      "metadata": {
        "colab": {
          "base_uri": "https://localhost:8080/"
        },
        "id": "CX3aPE60B9lH",
        "outputId": "30330b28-e290-4d33-e5ff-743ef61c7635"
      },
      "source": [
        "print( X_train.shape )\n",
        "print( X_test.shape )\n",
        "print( y_train.shape )\n",
        "print( y_test.shape )"
      ],
      "execution_count": null,
      "outputs": [
        {
          "output_type": "stream",
          "text": [
            "(4784, 1000)\n",
            "(10223, 1000)\n",
            "(4784,)\n",
            "(10223,)\n"
          ],
          "name": "stdout"
        }
      ]
    },
    {
      "cell_type": "markdown",
      "metadata": {
        "id": "vgLWrFyi-2-9"
      },
      "source": [
        "## Model using GloVe Embedding:\n",
        "When using glove or any other external embedding, do not use stemming or lemmatization."
      ]
    },
    {
      "cell_type": "code",
      "metadata": {
        "id": "qO6DZgfZohER",
        "colab": {
          "base_uri": "https://localhost:8080/"
        },
        "outputId": "275200d5-58f3-47e0-c538-304e19ef54ef"
      },
      "source": [
        "# https://nlp.stanford.edu/projects/glove/\n",
        "embeddings_index = dict()\n",
        "f = open('/content/drive/My Drive/Colab Notebooks/nlp_scripts/MIMIC-III/glove.6B.100d.txt')\n",
        "for line in f:\n",
        "\tvalues = line.split()\n",
        "\tword = values[0]\n",
        "\tcoefs = np.asarray(values[1:], dtype='float32')\n",
        "\tembeddings_index[word] = coefs\n",
        "f.close()\n",
        "print('Loaded %s word vectors.' % len(embeddings_index))"
      ],
      "execution_count": null,
      "outputs": [
        {
          "output_type": "stream",
          "text": [
            "Loaded 400000 word vectors.\n"
          ],
          "name": "stdout"
        }
      ]
    },
    {
      "cell_type": "code",
      "metadata": {
        "id": "z_LuoeJLojne"
      },
      "source": [
        "vocab_size_ext = len(tokenizer.word_index) + 1\n",
        "embedding_matrix = np.zeros((vocab_size_ext, 100))\n",
        "for word, i in tokenizer.word_index.items():\n",
        "\tembedding_vector = embeddings_index.get(word)\n",
        "\tif embedding_vector is not None:\n",
        "\t\tembedding_matrix[i] = embedding_vector"
      ],
      "execution_count": null,
      "outputs": []
    },
    {
      "cell_type": "code",
      "metadata": {
        "colab": {
          "base_uri": "https://localhost:8080/"
        },
        "id": "EYLpmgoco_nK",
        "outputId": "aec40063-b85a-49bd-c358-6c9cb7f8857d"
      },
      "source": [
        "print(vocab_size_ext)\n",
        "print(vocabulary_size)\n",
        "print(max_leng)\n",
        "print(embedding_matrix[1])"
      ],
      "execution_count": null,
      "outputs": [
        {
          "output_type": "stream",
          "text": [
            "41360\n",
            "5000\n",
            "1000\n",
            "[-4.67510015e-01  3.49999994e-01 -4.74500000e-01  9.18579996e-02\n",
            " -8.44770014e-01 -3.60950008e-02  5.31849980e-01 -4.82870005e-02\n",
            " -1.30820000e+00 -3.28170002e-01  1.61140001e+00  1.35020003e-01\n",
            " -6.08749986e-01 -1.11149997e-01  2.19919994e-01  2.39549994e-01\n",
            "  1.24399997e-01 -5.00800014e-01 -3.24690007e-02  3.26389998e-01\n",
            "  1.04229999e+00 -1.31449997e-01 -1.05999994e+00  1.03030002e+00\n",
            " -1.30050004e-01  5.05990028e-01  7.81400025e-01  3.68579999e-02\n",
            " -3.15169990e-01  6.53039992e-01  8.84750009e-01  1.02800000e+00\n",
            " -1.02289999e+00 -6.62090003e-01 -6.30680025e-01  7.42810011e-01\n",
            "  2.75660008e-01  7.34749973e-01 -2.69089997e-01  9.28520024e-01\n",
            "  1.28149998e+00 -8.82659972e-01  1.72399998e-01 -8.66750002e-01\n",
            " -3.85419995e-01  9.19510007e-01 -1.64550006e-01 -1.09940000e-01\n",
            " -6.44890010e-01  7.16159999e-01  9.67919976e-02 -2.44870007e-01\n",
            " -6.66490018e-01  5.91229975e-01 -4.61739987e-01  4.44349982e-02\n",
            " -1.44710004e+00 -7.72219971e-02  3.45609993e-01 -9.55209970e-01\n",
            "  6.59709990e-01 -3.46379995e-01 -8.44190001e-01  5.22090018e-01\n",
            "  1.62699997e-01  2.49819994e-01 -4.99460012e-01 -1.17799997e-01\n",
            "  5.45970023e-01 -1.28069997e-01 -1.41859993e-01 -1.21850002e+00\n",
            "  4.43309993e-01  7.68970013e-01 -1.81520000e-01 -4.29690003e-01\n",
            "  6.17529988e-01 -6.77739978e-01 -8.84400010e-01 -1.05820000e+00\n",
            "  3.59990001e-02 -2.92479992e-01 -5.06709993e-01  7.89020002e-01\n",
            " -1.61080003e-01  2.90380001e-01  1.70450002e-01 -3.27239990e-01\n",
            " -2.08450004e-01  3.73349994e-01 -2.05530003e-01  1.66270003e-01\n",
            " -3.80409993e-02  7.10650027e-01 -9.53440011e-01 -2.85039991e-01\n",
            " -1.47290004e-03 -1.10839999e+00  2.46849999e-01 -3.03030014e-01]\n"
          ],
          "name": "stdout"
        }
      ]
    },
    {
      "cell_type": "markdown",
      "metadata": {
        "id": "L2rROIEKEQrU"
      },
      "source": [
        "### Deeper CNN model with GloVE:"
      ]
    },
    {
      "cell_type": "code",
      "metadata": {
        "id": "T6HKseFPD27z"
      },
      "source": [
        "filters_num = 2\n",
        "# vocab_size_ext is from glove\n",
        "# output_dim=100 is becuase we used the glove embedding file 100d of 100 dimensions\n",
        "\n",
        "def define_glove_model(max_leng, vocabulary_size):\n",
        "    inputs = Input(shape=(max_leng,))\n",
        "    # channel 1\n",
        "    embedding1 = Embedding(input_dim=vocabulary_size, output_dim=100, input_length=max_leng , weights=[embedding_matrix], trainable=False)(inputs)\n",
        "    conv1 = Conv1D(filters=filters_num, kernel_size = 1, activation='relu')(embedding1)\n",
        "    drop1 = Dropout(0.5)(conv1)\n",
        "    pool1 = GlobalMaxPooling1D()(drop1)\n",
        "    #flat1 = Flatten()(pool1)\n",
        "    # channel 2\n",
        "    embedding2 = Embedding(input_dim=vocabulary_size, output_dim=100, input_length=max_leng , weights=[embedding_matrix], trainable=False)(inputs)\n",
        "    conv2 = Conv1D(filters=filters_num, kernel_size = 2, activation='relu')(embedding2)\n",
        "    drop2 = Dropout(0.5)(conv2)\n",
        "    pool2 = GlobalMaxPooling1D()(drop2)\n",
        "    #flat2 = Flatten()(pool2)\n",
        "    # channel 3\n",
        "    embedding3 = Embedding(input_dim=vocabulary_size, output_dim=100, input_length=max_leng , weights=[embedding_matrix], trainable=False)(inputs)\n",
        "    conv3 = Conv1D(filters=filters_num, kernel_size = 3, activation='relu')(embedding3)\n",
        "    drop3 = Dropout(0.5)(conv3)\n",
        "    pool3 = GlobalMaxPooling1D()(drop3)\n",
        "    #flat3 = Flatten()(pool3)\n",
        "    # channel 4\n",
        "    embedding4 = Embedding(input_dim=vocabulary_size, output_dim=100, input_length=max_leng , weights=[embedding_matrix], trainable=False)(inputs)\n",
        "    conv4 = Conv1D(filters=filters_num, kernel_size = 4, activation='relu')(embedding4)\n",
        "    drop4 = Dropout(0.5)(conv4)\n",
        "    pool4 = GlobalMaxPooling1D()(drop4)\n",
        "    #flat4 = Flatten()(pool4)\n",
        "    # channel 5\n",
        "    embedding5 = Embedding(input_dim=vocabulary_size, output_dim=100, input_length=max_leng , weights=[embedding_matrix], trainable=False)(inputs)\n",
        "    conv5 = Conv1D(filters=filters_num, kernel_size = 5, activation='relu')(embedding5)\n",
        "    drop5 = Dropout(0.5)(conv5)\n",
        "    pool5 = GlobalMaxPooling1D()(drop5)\n",
        "    #flat5 = Flatten()(pool5)\n",
        "    \n",
        "    # merge\n",
        "    merged = concatenate([pool1, pool2, pool3, pool4, pool5])\n",
        "    #dense1 = Dense(hidden_dims, activation='relu')(merged)\n",
        "    outputs = Dense(1, activation='sigmoid')(merged)\n",
        "    model = Model(inputs=[inputs], outputs=outputs)\n",
        "    # compile\n",
        "    adam = Adam(0.0001)\n",
        "\n",
        "    model.compile(loss='binary_crossentropy', optimizer= 'adam', metrics=[AUC()])\n",
        "    # summarize\n",
        "    print(model.summary())\n",
        "    #plot_model(model, show_shapes=True, to_file='multichannel.png')\n",
        "    return model"
      ],
      "execution_count": null,
      "outputs": []
    },
    {
      "cell_type": "code",
      "metadata": {
        "id": "ZMcI_E99Ehi3",
        "colab": {
          "base_uri": "https://localhost:8080/"
        },
        "outputId": "bafad5c8-7b8f-4206-a69e-792ed9b2c38d"
      },
      "source": [
        "model = define_glove_model(max_leng, vocab_size_ext)"
      ],
      "execution_count": null,
      "outputs": [
        {
          "output_type": "stream",
          "text": [
            "Model: \"functional_5\"\n",
            "__________________________________________________________________________________________________\n",
            "Layer (type)                    Output Shape         Param #     Connected to                     \n",
            "==================================================================================================\n",
            "input_3 (InputLayer)            [(None, 1000)]       0                                            \n",
            "__________________________________________________________________________________________________\n",
            "embedding_10 (Embedding)        (None, 1000, 100)    4136000     input_3[0][0]                    \n",
            "__________________________________________________________________________________________________\n",
            "embedding_11 (Embedding)        (None, 1000, 100)    4136000     input_3[0][0]                    \n",
            "__________________________________________________________________________________________________\n",
            "embedding_12 (Embedding)        (None, 1000, 100)    4136000     input_3[0][0]                    \n",
            "__________________________________________________________________________________________________\n",
            "embedding_13 (Embedding)        (None, 1000, 100)    4136000     input_3[0][0]                    \n",
            "__________________________________________________________________________________________________\n",
            "embedding_14 (Embedding)        (None, 1000, 100)    4136000     input_3[0][0]                    \n",
            "__________________________________________________________________________________________________\n",
            "conv1d_10 (Conv1D)              (None, 1000, 2)      202         embedding_10[0][0]               \n",
            "__________________________________________________________________________________________________\n",
            "conv1d_11 (Conv1D)              (None, 999, 2)       402         embedding_11[0][0]               \n",
            "__________________________________________________________________________________________________\n",
            "conv1d_12 (Conv1D)              (None, 998, 2)       602         embedding_12[0][0]               \n",
            "__________________________________________________________________________________________________\n",
            "conv1d_13 (Conv1D)              (None, 997, 2)       802         embedding_13[0][0]               \n",
            "__________________________________________________________________________________________________\n",
            "conv1d_14 (Conv1D)              (None, 996, 2)       1002        embedding_14[0][0]               \n",
            "__________________________________________________________________________________________________\n",
            "dropout_10 (Dropout)            (None, 1000, 2)      0           conv1d_10[0][0]                  \n",
            "__________________________________________________________________________________________________\n",
            "dropout_11 (Dropout)            (None, 999, 2)       0           conv1d_11[0][0]                  \n",
            "__________________________________________________________________________________________________\n",
            "dropout_12 (Dropout)            (None, 998, 2)       0           conv1d_12[0][0]                  \n",
            "__________________________________________________________________________________________________\n",
            "dropout_13 (Dropout)            (None, 997, 2)       0           conv1d_13[0][0]                  \n",
            "__________________________________________________________________________________________________\n",
            "dropout_14 (Dropout)            (None, 996, 2)       0           conv1d_14[0][0]                  \n",
            "__________________________________________________________________________________________________\n",
            "global_max_pooling1d_10 (Global (None, 2)            0           dropout_10[0][0]                 \n",
            "__________________________________________________________________________________________________\n",
            "global_max_pooling1d_11 (Global (None, 2)            0           dropout_11[0][0]                 \n",
            "__________________________________________________________________________________________________\n",
            "global_max_pooling1d_12 (Global (None, 2)            0           dropout_12[0][0]                 \n",
            "__________________________________________________________________________________________________\n",
            "global_max_pooling1d_13 (Global (None, 2)            0           dropout_13[0][0]                 \n",
            "__________________________________________________________________________________________________\n",
            "global_max_pooling1d_14 (Global (None, 2)            0           dropout_14[0][0]                 \n",
            "__________________________________________________________________________________________________\n",
            "concatenate_2 (Concatenate)     (None, 10)           0           global_max_pooling1d_10[0][0]    \n",
            "                                                                 global_max_pooling1d_11[0][0]    \n",
            "                                                                 global_max_pooling1d_12[0][0]    \n",
            "                                                                 global_max_pooling1d_13[0][0]    \n",
            "                                                                 global_max_pooling1d_14[0][0]    \n",
            "__________________________________________________________________________________________________\n",
            "dense_2 (Dense)                 (None, 1)            11          concatenate_2[0][0]              \n",
            "==================================================================================================\n",
            "Total params: 20,683,021\n",
            "Trainable params: 3,021\n",
            "Non-trainable params: 20,680,000\n",
            "__________________________________________________________________________________________________\n",
            "None\n"
          ],
          "name": "stdout"
        }
      ]
    },
    {
      "cell_type": "code",
      "metadata": {
        "id": "kJjDo9ZnXPI5"
      },
      "source": [
        "earlystopping_callback = EarlyStopping( monitor=\"val_loss\", min_delta=0.0005, patience=5, restore_best_weights=True)\n",
        "#lr_callback = ReduceLROnPlateau( monitor=\"val_loss\", factor=0.1, patience=10, verbose=1, mode=\"auto\", min_delta=0.0001, min_lr=0)\n",
        "\n",
        "keras_callbacks = [earlystopping_callback]"
      ],
      "execution_count": null,
      "outputs": []
    },
    {
      "cell_type": "code",
      "metadata": {
        "colab": {
          "base_uri": "https://localhost:8080/"
        },
        "id": "-V-8Xl67Ejfe",
        "outputId": "683c3cd2-72b3-4034-95b3-938e69d485d5"
      },
      "source": [
        "# Fit the model\n",
        "history = model.fit(X_train, y_train, validation_data=(X_test, y_test), epochs=100, batch_size=32, verbose=2, callbacks=keras_callbacks)"
      ],
      "execution_count": null,
      "outputs": [
        {
          "output_type": "stream",
          "text": [
            "Epoch 1/100\n",
            "150/150 - 6s - loss: 0.8158 - auc_2: 0.5436 - val_loss: 0.6943 - val_auc_2: 0.5936\n",
            "Epoch 2/100\n",
            "150/150 - 6s - loss: 0.7024 - auc_2: 0.5983 - val_loss: 0.6669 - val_auc_2: 0.6179\n",
            "Epoch 3/100\n",
            "150/150 - 6s - loss: 0.6769 - auc_2: 0.6352 - val_loss: 0.6567 - val_auc_2: 0.6289\n",
            "Epoch 4/100\n",
            "150/150 - 6s - loss: 0.6736 - auc_2: 0.6420 - val_loss: 0.7185 - val_auc_2: 0.6400\n",
            "Epoch 5/100\n",
            "150/150 - 6s - loss: 0.6637 - auc_2: 0.6546 - val_loss: 0.6938 - val_auc_2: 0.6411\n",
            "Epoch 6/100\n",
            "150/150 - 6s - loss: 0.6532 - auc_2: 0.6674 - val_loss: 0.6657 - val_auc_2: 0.6405\n",
            "Epoch 7/100\n",
            "150/150 - 6s - loss: 0.6427 - auc_2: 0.6832 - val_loss: 0.6384 - val_auc_2: 0.6399\n",
            "Epoch 8/100\n",
            "150/150 - 6s - loss: 0.6469 - auc_2: 0.6776 - val_loss: 0.6411 - val_auc_2: 0.6460\n",
            "Epoch 9/100\n",
            "150/150 - 6s - loss: 0.6359 - auc_2: 0.6930 - val_loss: 0.6554 - val_auc_2: 0.6479\n",
            "Epoch 10/100\n",
            "150/150 - 6s - loss: 0.6302 - auc_2: 0.7016 - val_loss: 0.7917 - val_auc_2: 0.6586\n",
            "Epoch 11/100\n",
            "150/150 - 6s - loss: 0.6294 - auc_2: 0.7051 - val_loss: 0.7425 - val_auc_2: 0.6430\n",
            "Epoch 12/100\n",
            "150/150 - 6s - loss: 0.6170 - auc_2: 0.7206 - val_loss: 0.6998 - val_auc_2: 0.6475\n"
          ],
          "name": "stdout"
        }
      ]
    },
    {
      "cell_type": "code",
      "metadata": {
        "colab": {
          "base_uri": "https://localhost:8080/"
        },
        "id": "N6-Zxu9-EpJ-",
        "outputId": "196c180c-f4a9-402e-8014-f161d66925c1"
      },
      "source": [
        "print(history.history.keys())"
      ],
      "execution_count": null,
      "outputs": [
        {
          "output_type": "stream",
          "text": [
            "dict_keys(['loss', 'auc_2', 'val_loss', 'val_auc_2'])\n"
          ],
          "name": "stdout"
        }
      ]
    },
    {
      "cell_type": "code",
      "metadata": {
        "colab": {
          "base_uri": "https://localhost:8080/"
        },
        "id": "NHFJr-vMIfyn",
        "outputId": "62626b0d-f89d-410e-e9d8-b0d60ce122ff"
      },
      "source": [
        "glove_model_auc = history.history['val_auc_2'][-1]\n",
        "glove_model_auc "
      ],
      "execution_count": null,
      "outputs": [
        {
          "output_type": "execute_result",
          "data": {
            "text/plain": [
              "0.6474608778953552"
            ]
          },
          "metadata": {
            "tags": []
          },
          "execution_count": 72
        }
      ]
    },
    {
      "cell_type": "code",
      "metadata": {
        "colab": {
          "base_uri": "https://localhost:8080/",
          "height": 295
        },
        "id": "RxWina5lEtI4",
        "outputId": "0e9c30d1-7381-4c20-8be2-d45cc84ae9ce"
      },
      "source": [
        "# summarize history for loss\n",
        "plt.plot(history.history['loss'])\n",
        "plt.plot(history.history['val_loss'])\n",
        "plt.title('Model Loss')\n",
        "plt.ylabel('loss')\n",
        "plt.xlabel('epoch')\n",
        "plt.legend(['train', 'test'], loc='upper left')\n",
        "plt.show()"
      ],
      "execution_count": null,
      "outputs": [
        {
          "output_type": "display_data",
          "data": {
            "image/png": "[encoded data removed]",
            "text/plain": [
              "<Figure size 432x288 with 1 Axes>"
            ]
          },
          "metadata": {
            "tags": [],
            "needs_background": "light"
          }
        }
      ]
    },
    {
      "cell_type": "code",
      "metadata": {
        "colab": {
          "base_uri": "https://localhost:8080/",
          "height": 295
        },
        "id": "TJ-R_1MHEu9X",
        "outputId": "bc471a64-b055-42a2-c23d-ff9c2352f469"
      },
      "source": [
        "# model auc plot\n",
        "plt.plot(history.history['auc_2'])\n",
        "plt.plot(history.history['val_auc_2'])\n",
        "plt.title('Model AUC')\n",
        "plt.ylabel('AUC')\n",
        "plt.xlabel('Epoch')\n",
        "plt.legend(['train', 'test'], loc='upper left')\n",
        "plt.show()"
      ],
      "execution_count": null,
      "outputs": [
        {
          "output_type": "display_data",
          "data": {
            "image/png": "[encoded data removed]",
            "text/plain": [
              "<Figure size 432x288 with 1 Axes>"
            ]
          },
          "metadata": {
            "tags": [],
            "needs_background": "light"
          }
        }
      ]
    },
    {
      "cell_type": "markdown",
      "metadata": {
        "id": "Ro_4y_Q9LkCm"
      },
      "source": [
        "## Model using keras embedding:"
      ]
    },
    {
      "cell_type": "markdown",
      "metadata": {
        "id": "m8f-lJhmpvaz"
      },
      "source": [
        "### Deeper CNN model with keras embedding:"
      ]
    },
    {
      "cell_type": "code",
      "metadata": {
        "id": "z22rgSCSpvaz"
      },
      "source": [
        "filters_num = 2\n",
        "# input_dim=vocabulary_size : choosen above by looking at the average len of words in our text\n",
        "# output_dim=32 : you can choose your own #\n",
        "def define_keras_model(max_leng, vocabulary_size):\n",
        "    inputs = Input(shape=(max_leng,))\n",
        "    # channel 1\n",
        "    embedding1 = Embedding(input_dim=vocabulary_size,output_dim=32, input_length=max_leng)(inputs)\n",
        "    conv1 = Conv1D(filters=filters_num, kernel_size = 1, activation='relu')(embedding1)\n",
        "    drop1 = Dropout(0.5)(conv1)\n",
        "    pool1 = GlobalMaxPooling1D()(drop1)\n",
        "    #flat1 = Flatten()(pool1)\n",
        "    # channel 2\n",
        "    embedding2 = Embedding(input_dim=vocabulary_size,output_dim=32, input_length=max_leng)(inputs)\n",
        "    conv2 = Conv1D(filters=filters_num, kernel_size = 2, activation='relu')(embedding2)\n",
        "    drop2 = Dropout(0.5)(conv2)\n",
        "    pool2 = GlobalMaxPooling1D()(drop2)\n",
        "    #flat2 = Flatten()(pool2)\n",
        "    # channel 3\n",
        "    embedding3 = Embedding(input_dim=vocabulary_size,output_dim=32, input_length=max_leng)(inputs)\n",
        "    conv3 = Conv1D(filters=filters_num, kernel_size = 3, activation='relu')(embedding3)\n",
        "    drop3 = Dropout(0.5)(conv3)\n",
        "    pool3 = GlobalMaxPooling1D()(drop3)\n",
        "    #flat3 = Flatten()(pool3)\n",
        "    # channel 3\n",
        "    embedding4 = Embedding(input_dim=vocabulary_size,output_dim=32, input_length=max_leng)(inputs)\n",
        "    conv4 = Conv1D(filters=filters_num, kernel_size = 4, activation='relu')(embedding4)\n",
        "    drop4 = Dropout(0.5)(conv4)\n",
        "    pool4 = GlobalMaxPooling1D()(drop4)\n",
        "    #flat4 = Flatten()(pool4)\n",
        "    # channel 3\n",
        "    embedding5 = Embedding(input_dim=vocabulary_size,output_dim=32, input_length=max_leng)(inputs)\n",
        "    conv5 = Conv1D(filters=filters_num, kernel_size = 5, activation='relu')(embedding5)\n",
        "    drop5 = Dropout(0.5)(conv5)\n",
        "    pool5 = GlobalMaxPooling1D()(drop5)\n",
        "    #flat5 = Flatten()(pool5)\n",
        "    # merge\n",
        "    merged = concatenate([pool1, pool2, pool3, pool4, pool5])\n",
        "    #merged = concatenate([flat1, flat2, flat3, flat4, flat5])\n",
        "    #dense1 = Dense(hidden_dims, activation='relu')(merged)\n",
        "    outputs = Dense(1, activation='sigmoid')(merged)\n",
        "    model = Model(inputs=[inputs], outputs=outputs)\n",
        "    # compile\n",
        "    adam = Adam(0.0001)\n",
        "\n",
        "    model.compile(loss='binary_crossentropy', optimizer= 'adam', metrics=[AUC()])\n",
        "    # summarize\n",
        "    print(model.summary())\n",
        "\n",
        "    return model"
      ],
      "execution_count": null,
      "outputs": []
    },
    {
      "cell_type": "code",
      "metadata": {
        "colab": {
          "base_uri": "https://localhost:8080/"
        },
        "id": "525fFydhqUSo",
        "outputId": "49d0fdf7-55f3-43ea-8517-8deaa15493a7"
      },
      "source": [
        "model = define_keras_model(max_leng, vocabulary_size)"
      ],
      "execution_count": null,
      "outputs": [
        {
          "output_type": "stream",
          "text": [
            "Model: \"functional_9\"\n",
            "__________________________________________________________________________________________________\n",
            "Layer (type)                    Output Shape         Param #     Connected to                     \n",
            "==================================================================================================\n",
            "input_5 (InputLayer)            [(None, 1000)]       0                                            \n",
            "__________________________________________________________________________________________________\n",
            "embedding_20 (Embedding)        (None, 1000, 32)     160000      input_5[0][0]                    \n",
            "__________________________________________________________________________________________________\n",
            "embedding_21 (Embedding)        (None, 1000, 32)     160000      input_5[0][0]                    \n",
            "__________________________________________________________________________________________________\n",
            "embedding_22 (Embedding)        (None, 1000, 32)     160000      input_5[0][0]                    \n",
            "__________________________________________________________________________________________________\n",
            "embedding_23 (Embedding)        (None, 1000, 32)     160000      input_5[0][0]                    \n",
            "__________________________________________________________________________________________________\n",
            "embedding_24 (Embedding)        (None, 1000, 32)     160000      input_5[0][0]                    \n",
            "__________________________________________________________________________________________________\n",
            "conv1d_20 (Conv1D)              (None, 1000, 2)      66          embedding_20[0][0]               \n",
            "__________________________________________________________________________________________________\n",
            "conv1d_21 (Conv1D)              (None, 999, 2)       130         embedding_21[0][0]               \n",
            "__________________________________________________________________________________________________\n",
            "conv1d_22 (Conv1D)              (None, 998, 2)       194         embedding_22[0][0]               \n",
            "__________________________________________________________________________________________________\n",
            "conv1d_23 (Conv1D)              (None, 997, 2)       258         embedding_23[0][0]               \n",
            "__________________________________________________________________________________________________\n",
            "conv1d_24 (Conv1D)              (None, 996, 2)       322         embedding_24[0][0]               \n",
            "__________________________________________________________________________________________________\n",
            "dropout_20 (Dropout)            (None, 1000, 2)      0           conv1d_20[0][0]                  \n",
            "__________________________________________________________________________________________________\n",
            "dropout_21 (Dropout)            (None, 999, 2)       0           conv1d_21[0][0]                  \n",
            "__________________________________________________________________________________________________\n",
            "dropout_22 (Dropout)            (None, 998, 2)       0           conv1d_22[0][0]                  \n",
            "__________________________________________________________________________________________________\n",
            "dropout_23 (Dropout)            (None, 997, 2)       0           conv1d_23[0][0]                  \n",
            "__________________________________________________________________________________________________\n",
            "dropout_24 (Dropout)            (None, 996, 2)       0           conv1d_24[0][0]                  \n",
            "__________________________________________________________________________________________________\n",
            "global_max_pooling1d_20 (Global (None, 2)            0           dropout_20[0][0]                 \n",
            "__________________________________________________________________________________________________\n",
            "global_max_pooling1d_21 (Global (None, 2)            0           dropout_21[0][0]                 \n",
            "__________________________________________________________________________________________________\n",
            "global_max_pooling1d_22 (Global (None, 2)            0           dropout_22[0][0]                 \n",
            "__________________________________________________________________________________________________\n",
            "global_max_pooling1d_23 (Global (None, 2)            0           dropout_23[0][0]                 \n",
            "__________________________________________________________________________________________________\n",
            "global_max_pooling1d_24 (Global (None, 2)            0           dropout_24[0][0]                 \n",
            "__________________________________________________________________________________________________\n",
            "concatenate_4 (Concatenate)     (None, 10)           0           global_max_pooling1d_20[0][0]    \n",
            "                                                                 global_max_pooling1d_21[0][0]    \n",
            "                                                                 global_max_pooling1d_22[0][0]    \n",
            "                                                                 global_max_pooling1d_23[0][0]    \n",
            "                                                                 global_max_pooling1d_24[0][0]    \n",
            "__________________________________________________________________________________________________\n",
            "dense_4 (Dense)                 (None, 1)            11          concatenate_4[0][0]              \n",
            "==================================================================================================\n",
            "Total params: 800,981\n",
            "Trainable params: 800,981\n",
            "Non-trainable params: 0\n",
            "__________________________________________________________________________________________________\n",
            "None\n"
          ],
          "name": "stdout"
        }
      ]
    },
    {
      "cell_type": "code",
      "metadata": {
        "colab": {
          "base_uri": "https://localhost:8080/"
        },
        "id": "r34_DvepqMHh",
        "outputId": "acd0c107-3de4-4457-c8b1-5964600ad0d1"
      },
      "source": [
        "# Fit the model\n",
        "history = model.fit(X_train, y_train, validation_data=(X_test, y_test), epochs=200, batch_size=32, callbacks = keras_callbacks, verbose=2)"
      ],
      "execution_count": null,
      "outputs": [
        {
          "output_type": "stream",
          "text": [
            "Epoch 1/200\n",
            "150/150 - 6s - loss: 0.6752 - auc_4: 0.6144 - val_loss: 0.6948 - val_auc_4: 0.6738\n",
            "Epoch 2/200\n",
            "150/150 - 6s - loss: 0.6334 - auc_4: 0.7040 - val_loss: 0.6428 - val_auc_4: 0.6923\n",
            "Epoch 3/200\n",
            "150/150 - 6s - loss: 0.6047 - auc_4: 0.7397 - val_loss: 0.6696 - val_auc_4: 0.6957\n",
            "Epoch 4/200\n",
            "150/150 - 5s - loss: 0.5769 - auc_4: 0.7726 - val_loss: 0.6233 - val_auc_4: 0.6990\n",
            "Epoch 5/200\n",
            "150/150 - 6s - loss: 0.5354 - auc_4: 0.8177 - val_loss: 0.6431 - val_auc_4: 0.6948\n",
            "Epoch 6/200\n",
            "150/150 - 6s - loss: 0.4932 - auc_4: 0.8542 - val_loss: 0.6142 - val_auc_4: 0.6967\n",
            "Epoch 7/200\n",
            "150/150 - 6s - loss: 0.4420 - auc_4: 0.8953 - val_loss: 0.6038 - val_auc_4: 0.6900\n",
            "Epoch 8/200\n",
            "150/150 - 6s - loss: 0.4058 - auc_4: 0.9104 - val_loss: 0.6403 - val_auc_4: 0.6866\n",
            "Epoch 9/200\n",
            "150/150 - 6s - loss: 0.3565 - auc_4: 0.9351 - val_loss: 0.6496 - val_auc_4: 0.6836\n",
            "Epoch 10/200\n",
            "150/150 - 6s - loss: 0.3108 - auc_4: 0.9539 - val_loss: 0.6483 - val_auc_4: 0.6796\n",
            "Epoch 11/200\n",
            "150/150 - 6s - loss: 0.2736 - auc_4: 0.9651 - val_loss: 0.6846 - val_auc_4: 0.6805\n",
            "Epoch 12/200\n",
            "150/150 - 6s - loss: 0.2391 - auc_4: 0.9742 - val_loss: 0.6808 - val_auc_4: 0.6736\n"
          ],
          "name": "stdout"
        }
      ]
    },
    {
      "cell_type": "code",
      "metadata": {
        "id": "PfSpJ9r9qPlN",
        "colab": {
          "base_uri": "https://localhost:8080/"
        },
        "outputId": "cf783601-7392-4d80-de55-1592da2ef197"
      },
      "source": [
        "print(history.history.keys())"
      ],
      "execution_count": null,
      "outputs": [
        {
          "output_type": "stream",
          "text": [
            "dict_keys(['loss', 'auc_4', 'val_loss', 'val_auc_4'])\n"
          ],
          "name": "stdout"
        }
      ]
    },
    {
      "cell_type": "code",
      "metadata": {
        "colab": {
          "base_uri": "https://localhost:8080/"
        },
        "id": "98cqKHkIJrTt",
        "outputId": "bd1dfd39-5cda-4cf3-e012-a1af675bb2b5"
      },
      "source": [
        "keras_model_auc = history.history['val_auc_4'][-1]\n",
        "keras_model_auc "
      ],
      "execution_count": null,
      "outputs": [
        {
          "output_type": "execute_result",
          "data": {
            "text/plain": [
              "0.6735864877700806"
            ]
          },
          "metadata": {
            "tags": []
          },
          "execution_count": 81
        }
      ]
    },
    {
      "cell_type": "code",
      "metadata": {
        "id": "FvoDTn3Fqbmu",
        "colab": {
          "base_uri": "https://localhost:8080/",
          "height": 295
        },
        "outputId": "b2720e34-5d50-43ff-aa28-f2d7b8dd3f30"
      },
      "source": [
        "# summarize history for loss\n",
        "plt.plot(history.history['loss'])\n",
        "plt.plot(history.history['val_loss'])\n",
        "plt.title('Model Loss')\n",
        "plt.ylabel('loss')\n",
        "plt.xlabel('epoch')\n",
        "plt.legend(['train', 'test'], loc='upper left')\n",
        "plt.show()"
      ],
      "execution_count": null,
      "outputs": [
        {
          "output_type": "display_data",
          "data": {
            "image/png": "[encoded data removed]",
            "text/plain": [
              "<Figure size 432x288 with 1 Axes>"
            ]
          },
          "metadata": {
            "tags": [],
            "needs_background": "light"
          }
        }
      ]
    },
    {
      "cell_type": "code",
      "metadata": {
        "colab": {
          "base_uri": "https://localhost:8080/",
          "height": 295
        },
        "id": "gTwoXnmmz5hZ",
        "outputId": "f80e7c35-e1dd-480a-88bb-6779e1081531"
      },
      "source": [
        "# model auc plot\n",
        "plt.plot(history.history['auc_4'])\n",
        "plt.plot(history.history['val_auc_4'])\n",
        "plt.title('Model AUC')\n",
        "plt.ylabel('AUC')\n",
        "plt.xlabel('Epoch')\n",
        "plt.legend(['train', 'test'], loc='upper left')\n",
        "plt.show()"
      ],
      "execution_count": null,
      "outputs": [
        {
          "output_type": "display_data",
          "data": {
            "image/png": "[encoded data removed]",
            "text/plain": [
              "<Figure size 432x288 with 1 Axes>"
            ]
          },
          "metadata": {
            "tags": [],
            "needs_background": "light"
          }
        }
      ]
    },
    {
      "cell_type": "markdown",
      "metadata": {
        "id": "lqI9lM_FHfkp"
      },
      "source": [
        "## Model using distilBERT"
      ]
    },
    {
      "cell_type": "markdown",
      "metadata": {
        "id": "WHOQKUJ6oXlj"
      },
      "source": [
        "Converting text and target variable into str type to send as input for BERT"
      ]
    },
    {
      "cell_type": "code",
      "metadata": {
        "id": "5qPrys_BG9eX"
      },
      "source": [
        "df_train['TEXT'] = df_train['TEXT'].astype('str')\n",
        "df_train['OUTPUT_LABEL'] = df_train['OUTPUT_LABEL'].astype('str')"
      ],
      "execution_count": null,
      "outputs": []
    },
    {
      "cell_type": "code",
      "metadata": {
        "id": "m5c5W9j9HQxt"
      },
      "source": [
        "df_valid['TEXT'] = df_valid['TEXT'].astype('str')\n",
        "df_valid['OUTPUT_LABEL'] = df_valid['OUTPUT_LABEL'].astype('str')"
      ],
      "execution_count": null,
      "outputs": []
    },
    {
      "cell_type": "code",
      "metadata": {
        "colab": {
          "base_uri": "https://localhost:8080/",
          "height": 385,
          "referenced_widgets": [
            "b1940e33c3ed4ad88d90e982edd3312d",
            "9f2163c9d4ff4f4d867dc1f8d019f507",
            "9949d34bf99442068cde43522f57ea0e",
            "7f1a1d8df7a04af1b0ebeeb0f6fa2a80",
            "f52851623e794b589937382bb32ab5d1",
            "b95e6ded49e949b38aa9feb7372055aa",
            "4f0ef3b294c24861af7397cf672e0f06",
            "b32b0f24e30248148bbf59b99d8dba5c",
            "e0d4ecfa41644f56a161765cd613269a",
            "e4b7ad9474b742418633191fba0c248b",
            "94b11054431a4b2897b3b8082dee8231",
            "f99cb74fa14645258fa7956b20862f8d",
            "3fd90688f2744b8cbe28bf5bd35f06de",
            "bec61deffc06466fa789a6ff38f33955",
            "bb3a02c6cadf40cf9dce591c5d209173",
            "2ae83bc27e434935abb9f1fe38f3932b",
            "7eb46bb2db29472f9c35d38b6ea2359b",
            "600edbae8dae477a83103a9c8c0cf684",
            "6cb1a7ede48b4b718d0618a4ef3cac38",
            "42f2657bf31a4d179951f72254dec03f",
            "17c1964b52fb44cb9d98c830acf6a618",
            "ccb7b6f6c8cc4acbbf5b808ab4e269fa",
            "235fc188102046238cde0099868f77fa",
            "1fc367a9e617430b98fe1878360b4447"
          ]
        },
        "id": "yxq1mskkHeay",
        "outputId": "b82972a4-55c6-4777-e763-13fa0604bc15"
      },
      "source": [
        "# max_len for distillbert = 512\n",
        "(train, val, preproc) = text.texts_from_df(train_df=df_train, text_column='TEXT', label_columns='OUTPUT_LABEL', val_df = df_valid, maxlen = 512, preprocess_mode = 'distilbert')"
      ],
      "execution_count": null,
      "outputs": [
        {
          "output_type": "display_data",
          "data": {
            "application/vnd.jupyter.widget-view+json": {
              "model_id": "b1940e33c3ed4ad88d90e982edd3312d",
              "version_minor": 0,
              "version_major": 2
            },
            "text/plain": [
              "HBox(children=(FloatProgress(value=0.0, description='Downloading', max=442.0, style=ProgressStyle(description_…"
            ]
          },
          "metadata": {
            "tags": []
          }
        },
        {
          "output_type": "stream",
          "text": [
            "\n",
            "preprocessing train...\n",
            "language: en\n",
            "train sequence lengths:\n",
            "\tmean : 1011\n",
            "\t95percentile : 2044\n",
            "\t99percentile : 2702\n"
          ],
          "name": "stdout"
        },
        {
          "output_type": "display_data",
          "data": {
            "application/vnd.jupyter.widget-view+json": {
              "model_id": "e0d4ecfa41644f56a161765cd613269a",
              "version_minor": 0,
              "version_major": 2
            },
            "text/plain": [
              "HBox(children=(FloatProgress(value=0.0, description='Downloading', max=231508.0, style=ProgressStyle(descripti…"
            ]
          },
          "metadata": {
            "tags": []
          }
        },
        {
          "output_type": "stream",
          "text": [
            "\n"
          ],
          "name": "stdout"
        },
        {
          "output_type": "display_data",
          "data": {
            "application/vnd.jupyter.widget-view+json": {
              "model_id": "7eb46bb2db29472f9c35d38b6ea2359b",
              "version_minor": 0,
              "version_major": 2
            },
            "text/plain": [
              "HBox(children=(FloatProgress(value=0.0, description='Downloading', max=466062.0, style=ProgressStyle(descripti…"
            ]
          },
          "metadata": {
            "tags": []
          }
        },
        {
          "output_type": "stream",
          "text": [
            "\n"
          ],
          "name": "stdout"
        },
        {
          "output_type": "display_data",
          "data": {
            "text/html": [
              ""
            ],
            "text/plain": [
              "<IPython.core.display.HTML object>"
            ]
          },
          "metadata": {
            "tags": []
          }
        },
        {
          "output_type": "stream",
          "text": [
            "Is Multi-Label? False\n",
            "preprocessing test...\n",
            "language: en\n",
            "test sequence lengths:\n",
            "\tmean : 926\n",
            "\t95percentile : 1918\n",
            "\t99percentile : 2549\n"
          ],
          "name": "stdout"
        },
        {
          "output_type": "display_data",
          "data": {
            "text/html": [
              ""
            ],
            "text/plain": [
              "<IPython.core.display.HTML object>"
            ]
          },
          "metadata": {
            "tags": []
          }
        }
      ]
    },
    {
      "cell_type": "code",
      "metadata": {
        "colab": {
          "base_uri": "https://localhost:8080/",
          "height": 117,
          "referenced_widgets": [
            "47f740ac869e487b8c72adc5e5f5f2cf",
            "b326cf44d92a44e0a177e0955806cbd0",
            "15201396f63e45e68b993babab4519d0",
            "76435e35b58148acbda1ab3a2b8a649d",
            "d8de51e9ab22480d962ad69e9f2aaf0e",
            "da7e09d9d56b4d58ad86b3fa3c80210a",
            "580f223230c44543880dd3f29c707d95",
            "686bda3c45b84e4588e891fc4b5f878e"
          ]
        },
        "id": "bI-baopAHrQ8",
        "outputId": "4931ca04-68e0-4952-8455-2f1fc33b686c"
      },
      "source": [
        "model = text.text_classifier(name = 'distilbert', train_data = train, preproc=preproc)"
      ],
      "execution_count": null,
      "outputs": [
        {
          "output_type": "stream",
          "text": [
            "Is Multi-Label? False\n",
            "maxlen is 512\n"
          ],
          "name": "stdout"
        },
        {
          "output_type": "display_data",
          "data": {
            "application/vnd.jupyter.widget-view+json": {
              "model_id": "47f740ac869e487b8c72adc5e5f5f2cf",
              "version_minor": 0,
              "version_major": 2
            },
            "text/plain": [
              "HBox(children=(FloatProgress(value=0.0, description='Downloading', max=363423424.0, style=ProgressStyle(descri…"
            ]
          },
          "metadata": {
            "tags": []
          }
        },
        {
          "output_type": "stream",
          "text": [
            "\n",
            "done.\n"
          ],
          "name": "stdout"
        }
      ]
    },
    {
      "cell_type": "code",
      "metadata": {
        "id": "YhefE2GwHtKS"
      },
      "source": [
        "learner = ktrain.get_learner(model = model, train_data = train, val_data = val, batch_size = 6)"
      ],
      "execution_count": null,
      "outputs": []
    },
    {
      "cell_type": "code",
      "metadata": {
        "colab": {
          "base_uri": "https://localhost:8080/"
        },
        "id": "dtbFRa6VHvER",
        "outputId": "2bf2a05c-e3fc-44d5-bcd4-07960d7e951a"
      },
      "source": [
        "learner.fit_onecycle(lr = 2e-5, epochs=5)"
      ],
      "execution_count": null,
      "outputs": [
        {
          "output_type": "stream",
          "text": [
            "\n",
            "\n",
            "begin training using onecycle policy with max lr of 2e-05...\n",
            "Epoch 1/5\n",
            "798/798 [==============================] - 559s 700ms/step - loss: 0.6933 - accuracy: 0.5111 - val_loss: 0.7152 - val_accuracy: 0.1596\n",
            "Epoch 2/5\n",
            "798/798 [==============================] - 558s 699ms/step - loss: 0.6789 - accuracy: 0.5761 - val_loss: 0.6204 - val_accuracy: 0.7248\n",
            "Epoch 3/5\n",
            "798/798 [==============================] - 557s 698ms/step - loss: 0.6550 - accuracy: 0.6179 - val_loss: 0.7090 - val_accuracy: 0.5835\n",
            "Epoch 4/5\n",
            "798/798 [==============================] - 556s 697ms/step - loss: 0.6243 - accuracy: 0.6664 - val_loss: 0.6378 - val_accuracy: 0.6394\n",
            "Epoch 5/5\n",
            "798/798 [==============================] - 557s 698ms/step - loss: 0.5525 - accuracy: 0.7312 - val_loss: 0.7370 - val_accuracy: 0.5836\n"
          ],
          "name": "stdout"
        },
        {
          "output_type": "execute_result",
          "data": {
            "text/plain": [
              "<tensorflow.python.keras.callbacks.History at 0x7f49f3b5ca20>"
            ]
          },
          "metadata": {
            "tags": []
          },
          "execution_count": 124
        }
      ]
    },
    {
      "cell_type": "code",
      "metadata": {
        "id": "Kl1bqCH68jNK"
      },
      "source": [
        "predictor = ktrain.get_predictor(learner.model, preproc)"
      ],
      "execution_count": null,
      "outputs": []
    },
    {
      "cell_type": "code",
      "metadata": {
        "id": "R0kMoOgO8sWa",
        "colab": {
          "base_uri": "https://localhost:8080/"
        },
        "outputId": "0e2ecd85-ddb7-46b0-ab1c-0be3c22bcdab"
      },
      "source": [
        "predictor.get_classes()"
      ],
      "execution_count": null,
      "outputs": [
        {
          "output_type": "execute_result",
          "data": {
            "text/plain": [
              "['0', '1']"
            ]
          },
          "metadata": {
            "tags": []
          },
          "execution_count": 126
        }
      ]
    },
    {
      "cell_type": "code",
      "metadata": {
        "colab": {
          "base_uri": "https://localhost:8080/"
        },
        "id": "BZ6oz16DyHaD",
        "outputId": "bd99db2d-0c2a-450d-ff73-54d8adc9d501"
      },
      "source": [
        "df_valid['TEXT'][0:1].values"
      ],
      "execution_count": null,
      "outputs": [
        {
          "output_type": "execute_result",
          "data": {
            "text/plain": [
              "array(['service neurosurgery allergies patient recorded known allergies drugs attending first name lf chief complaint fall major surgical invasive procedure none history present illness year old female presented osh today reportedly falling reaching shampoo bottle bathroom patient cannot recall falling feeling dizzy remember trying reach shampoo bottle head ct osh shows right parietal sdh mm x cm small contusion small sah several skull fractures reportedly orthostatic hypotension osh found uti abx started patient sent hospital evaluation patient dizziness headache visual changes pain anywhere chest pain sob ros negative past medical history hypertension hypothyroidism glaucoma djd social history lives home alone dog family history non contributory physical exam bp hr rr sats gen lying stretcher cervical collar place heent pupils perrl eoms intact mild ptosis right upper eyelid neck cervical collar point tenderness lungs cta bilaterally cardiac rrr abd soft nt bs extrem warm well perfused neuro mental status awake alert cooperative exam normal affect orientation oriented person place language speech fluent good comprehension repetition naming intact dysarthria paraphasic errors cranial nerves tested ii pupils equally round reactive light mm bilaterally iii iv vi extraocular movements intact bilaterally without nystagmus v vii facial strength sensation intact symmetric viii hearing intact voice ix x palatal elevation symmetrical doctor first name sternocleidomastoid trapezius normal bilaterally xii tongue midline without fasciculations motor normal bulk tone bilaterally abnormal movements tremors strength full power throughout left upward pronator drift sensation intact light touch bilaterally toes downgoing bilaterally ct head right parietal sdh mm x cm small contusion small sah right temporal skull fx occipital skull fx parietal skull fx ct c spine pending labs urine leuk sm bld mod nitr pos ket rbc wbc bact mod epi na cl bun glu k co cr wbc hgb hct plts n l e bas pertinent results ct head right parietal sdh mm x cm small contusion small sah right temporal skull fx occipital skull fx parietal skull fx ct c spine fracture minimal anterolisthesis c described likely relates degenerative change however clinical concern flexion extension radiographs could evaluate stability flexion extension views neck swelling prevertebral soft tissues mild grade anterolisthesis c less conspicuous corresponding ct appears stable flexion extension views grade retrolisthesis c c reduces flexion persists extension views grade anterolisthesis c c persists flexion extension evidence acute fracture cervical spine vertebral body heights preserved multilevel small marginal osteophytes intervertebral disc space narrowing consistent degenerative changes adm labs urine leuk sm bld mod nitr pos ket rbc wbc bact mod epi na cl bun glu k co cr wbc hgb hct plts n l e bas brief hospital course f presented osh today reportedly falling reaching shampoo bottle bathroom pt remember fall head ct osh shows right parietal sdh mm x cm small contusion small sah r occipital temporal parietal nondisplaced skull fractures reportedly orthostatic hypotension osh found uti abx started patient sent hospital evaluation repeat ct showed similar appearances osh films operative intervention indicated patient initially observed closely icu discharged floor patient nurse care avoid lying right side head loaded gram dilantin level supratherapeutic dilantin ceased commenced keppra graded days mg hospital cervical collar placed ct scan c spine showed fracture mild anterolisthesis c likely related multilevel moderate djd spine cleared clinically fluid bolus initially given hypotension blood pressure monitored view initial low pressures avoid hypertension risk bleeding antihypertensives held pressures sbp upon rehydration treatment uti pressures antihypertensive medication admission inr mildly elevated stable unclear cause anticoagulant medication liver function normal aside low albumin uti treated ciprofloxacin days urine culture showed growth blood cultures negative repeat u negative patient confused times cleared stay evaluated physical therapy disposition rehabilitation facility recommended improvement functional mobility ambulation balance medications admission hctz benzepril hctz discharge medications famotidine mg tablet sig one tablet po bid times day tablet acetaminophen mg tablet sig tablets po q h every hours needed bisacodyl mg tablet delayed release e c sig two tablet delayed release e c po daily daily needed constipation docusate sodium mg capsule sig one capsule po bid times day hydrochlorothiazide mg tablet sig one tablet po daily daily levothyroxine mcg tablet sig one tablet po daily daily senna mg tablet sig one tablet po bid times day needed constipation levetiracetam mg tablet sig three tablet po bid times day benazepril mg tablet sig one tablet po daily hold sbp amlodipine mg tablet sig one tablet po daily daily hold sbp ondansetron hcl pf mg ml solution sig four mg injection q h every hours needed nausea insulin regular human unit ml solution sig see directions injection asdir directed units bg units bg units bg units bg units bg units bg units bg units bg units bg discharge disposition extended care facility greycliff location un discharge diagnosis subdural hematoma discharge condition good discharge instructions please call office return emergency department experience change mental status weakness seizures difficulty speaking fever greater f nausea vomiting resolve followup instructions follow dr last name stitle weeks please call schedule appointment telephone fax need ct scan prior appointment'],\n",
              "      dtype=object)"
            ]
          },
          "metadata": {
            "tags": []
          },
          "execution_count": 127
        }
      ]
    },
    {
      "cell_type": "code",
      "metadata": {
        "id": "L5WtD1nE8uP_",
        "colab": {
          "base_uri": "https://localhost:8080/"
        },
        "outputId": "e76ec81e-7b7d-44d1-8360-5d6f29af292f"
      },
      "source": [
        "# y_pred\n",
        "y_pred =  predictor.predict(df_valid['TEXT'][0:].values, return_proba=True)\n",
        "y_pred"
      ],
      "execution_count": null,
      "outputs": [
        {
          "output_type": "execute_result",
          "data": {
            "text/plain": [
              "array([[0.31881076, 0.6811892 ],\n",
              "       [0.66848516, 0.33151478],\n",
              "       [0.6065253 , 0.3934747 ],\n",
              "       ...,\n",
              "       [0.50629574, 0.49370426],\n",
              "       [0.48692283, 0.51307714],\n",
              "       [0.62594277, 0.37405726]], dtype=float32)"
            ]
          },
          "metadata": {
            "tags": []
          },
          "execution_count": 128
        }
      ]
    },
    {
      "cell_type": "code",
      "metadata": {
        "id": "RhfkzIWtzjmL"
      },
      "source": [
        "df_valid['OUTPUT_LABEL'] = df_valid['OUTPUT_LABEL'].astype('int')"
      ],
      "execution_count": null,
      "outputs": []
    },
    {
      "cell_type": "code",
      "metadata": {
        "id": "zwMMg2XE9RIV"
      },
      "source": [
        "fpr, tpr, thresholds = roc_curve( df_valid['OUTPUT_LABEL'], y_pred[:,1] )"
      ],
      "execution_count": null,
      "outputs": []
    },
    {
      "cell_type": "code",
      "metadata": {
        "colab": {
          "base_uri": "https://localhost:8080/"
        },
        "id": "4tkQyKpp32nt",
        "outputId": "18763720-1ff3-4e40-9e10-f5a7cd5270ae"
      },
      "source": [
        "bert_model_auc = auc(fpr, tpr)\n",
        "bert_model_auc"
      ],
      "execution_count": null,
      "outputs": [
        {
          "output_type": "execute_result",
          "data": {
            "text/plain": [
              "0.6118200618436256"
            ]
          },
          "metadata": {
            "tags": []
          },
          "execution_count": 131
        }
      ]
    },
    {
      "cell_type": "code",
      "metadata": {
        "colab": {
          "base_uri": "https://localhost:8080/",
          "height": 282
        },
        "id": "B5iuyA8MzbuR",
        "outputId": "f7e18c44-2d2e-4088-cdc4-1c5c362b53d6"
      },
      "source": [
        "plt.plot(fpr, tpr)"
      ],
      "execution_count": null,
      "outputs": [
        {
          "output_type": "execute_result",
          "data": {
            "text/plain": [
              "[<matplotlib.lines.Line2D at 0x7f49d3af0630>]"
            ]
          },
          "metadata": {
            "tags": []
          },
          "execution_count": 132
        },
        {
          "output_type": "display_data",
          "data": {
            "image/png": "[encoded data removed]",
            "text/plain": [
              "<Figure size 432x288 with 1 Axes>"
            ]
          },
          "metadata": {
            "tags": [],
            "needs_background": "light"
          }
        }
      ]
    },
    {
      "cell_type": "markdown",
      "metadata": {
        "id": "TDxWtBCBKFkd"
      },
      "source": [
        "## Conclusion:"
      ]
    },
    {
      "cell_type": "code",
      "metadata": {
        "id": "GFBmiJJwV2lM",
        "colab": {
          "base_uri": "https://localhost:8080/",
          "height": 142
        },
        "outputId": "cf35f63e-6d03-40b1-bdb7-d7609a91a5a7"
      },
      "source": [
        "results = pd.DataFrame([glove_model_auc, keras_model_auc, bert_model_auc], index=['Glove embedding model', 'Keras embedding model', 'BERT model'], columns=['Test_AUC'])\n",
        "results"
      ],
      "execution_count": null,
      "outputs": [
        {
          "output_type": "execute_result",
          "data": {
            "text/html": [
              "<div>\n",
              "<style scoped>\n",
              "    .dataframe tbody tr th:only-of-type {\n",
              "        vertical-align: middle;\n",
              "    }\n",
              "\n",
              "    .dataframe tbody tr th {\n",
              "        vertical-align: top;\n",
              "    }\n",
              "\n",
              "    .dataframe thead th {\n",
              "        text-align: right;\n",
              "    }\n",
              "</style>\n",
              "<table border=\"1\" class=\"dataframe\">\n",
              "  <thead>\n",
              "    <tr style=\"text-align: right;\">\n",
              "      <th></th>\n",
              "      <th>Test_AUC</th>\n",
              "    </tr>\n",
              "  </thead>\n",
              "  <tbody>\n",
              "    <tr>\n",
              "      <th>Glove embedding model</th>\n",
              "      <td>0.647461</td>\n",
              "    </tr>\n",
              "    <tr>\n",
              "      <th>Keras embedding model</th>\n",
              "      <td>0.673586</td>\n",
              "    </tr>\n",
              "    <tr>\n",
              "      <th>BERT model</th>\n",
              "      <td>0.611820</td>\n",
              "    </tr>\n",
              "  </tbody>\n",
              "</table>\n",
              "</div>"
            ],
            "text/plain": [
              "                       Test_AUC\n",
              "Glove embedding model  0.647461\n",
              "Keras embedding model  0.673586\n",
              "BERT model             0.611820"
            ]
          },
          "metadata": {
            "tags": []
          },
          "execution_count": 135
        }
      ]
    },
    {
      "cell_type": "markdown",
      "metadata": {
        "id": "PSKrt633RRY6"
      },
      "source": [
        "The model with external embedding(GloVe) and model without external embedding(keras embedding) both are overfitting the training data. Also the validation loss is fluctuating and not very stable. Earlystopping was used for both the models to get better results. \n",
        "Tried to stabilize the validation loss by trying to reduce the number of filters and by reducing the complexity of the model. The AUC for both the models are displayed in the table above, but to create better models there might be need of more samples for training data.\n",
        "\n",
        "Among all three models, the best performing model with highest to lowest AUC are:\n",
        "1.   Model using Keras embedding layer\n",
        "2.   Model using GloVe embedding layer\n",
        "3.   BERT model\n",
        "\n",
        "\n"
      ]
    }
  ]
}